{
 "cells": [
  {
   "cell_type": "markdown",
   "metadata": {},
   "source": [
    "# Sensitivity analysis"
   ]
  },
  {
   "cell_type": "code",
   "execution_count": 1,
   "metadata": {},
   "outputs": [],
   "source": [
    "import matplotlib as mpl\n",
    "import matplotlib.pyplot as plt\n",
    "import matplotlib.gridspec as gridspec\n",
    "from matplotlib.lines import Line2D\n",
    "from matplotlib.patches import Rectangle\n",
    "from mpl_toolkits.axes_grid1 import make_axes_locatable\n",
    "\n",
    "import os\n",
    "from os.path import join\n",
    "import pandas as pd\n",
    "import numpy as np\n",
    "import json\n",
    "import seaborn as sns\n",
    "\n",
    "from scseirx import analysis_functions as af\n",
    "import data_analysis_functions as daf\n",
    "from data_creation_functions import format_none_column"
   ]
  },
  {
   "cell_type": "markdown",
   "metadata": {},
   "source": [
    "## Parameter ranges and scenarios"
   ]
  },
  {
   "cell_type": "markdown",
   "metadata": {},
   "source": [
    "### Test sensitivity"
   ]
  },
  {
   "cell_type": "markdown",
   "metadata": {},
   "source": [
    "**Parameter range**  \n",
    "Antigen test sensitivity is varied from 10% to 100% in steps of 10%. Simulations are conducted in a scenario where teachers and students are tested once per week but no other NPIs are implemented."
   ]
  },
  {
   "cell_type": "markdown",
   "metadata": {},
   "source": [
    "### Testing rate"
   ]
  },
  {
   "cell_type": "markdown",
   "metadata": {},
   "source": [
    "**Parameter range**  \n",
    "Here we assume that instead of 100%, a smaller percentage of teachers and students participate in the voluntary tests. We vary the testing rate of teachers and students together in steps of 10% from 10% to 100%. Simulations are conducted in a scenario where teachers and students are tested once per week but no other NPIs are implemented."
   ]
  },
  {
   "cell_type": "markdown",
   "metadata": {},
   "source": [
    "### Class size reduction"
   ]
  },
  {
   "cell_type": "markdown",
   "metadata": {},
   "source": [
    "**Parameter range**  \n",
    "Here, we assume that instead of 50% of the students, a smaller percentage of students stay at home every second day. The rest participates normally in lessons. Parameter range of % students that stay at home varies between 20% and 80% in steps of 10%. Simulations are conducted in a scenario where only class size reductions as only NPI are implemented."
   ]
  },
  {
   "cell_type": "markdown",
   "metadata": {},
   "source": [
    "### Ventilation efficiency"
   ]
  },
  {
   "cell_type": "markdown",
   "metadata": {},
   "source": [
    "**Parameter range**  \n",
    "Here, we vary the efficiency of ventilation to reduce transmission risk between 10% and 80% in steps of 10%. No other NPIs next to ventilation are implemented in the simulated scenario."
   ]
  },
  {
   "cell_type": "markdown",
   "metadata": {},
   "source": [
    "### Mask efficiency"
   ]
  },
  {
   "cell_type": "markdown",
   "metadata": {},
   "source": [
    "**Parameter range**  \n",
    "Here, we vary the efficiency of masks work by both the transmitting agent and the receiving agent. The efficiency for both exhaling and inhaling is varied together. We simulate scenarios with +40\\%, +30\\%, '+20\\%, +10\\%, +-0\\%, -10\\% and -20\\% efficiency. No other NPIs next to masks for teachers and students are implemented in the simulated scenario."
   ]
  },
  {
   "cell_type": "markdown",
   "metadata": {},
   "source": [
    "### Added friendship contacts"
   ]
  },
  {
   "cell_type": "markdown",
   "metadata": {},
   "source": [
    "Here we assume, that there are a number of additional random contacts between students of different classes (right now, these contacts only occur during daycare or through siblings). In the simulated scenarios, no NPIs are implemented.\n",
    "\n",
    "**Parameter range**  \n",
    "We add one random contact per student to a random student from a random class other than the student's class for a percentage of students of every class.  Percent of students that get one cross-class contact:\n",
    "* 5%\n",
    "* 10%\n",
    "* 15%\n",
    "* 20%\n",
    "* 25%\n",
    "* 30%"
   ]
  },
  {
   "cell_type": "markdown",
   "metadata": {},
   "source": [
    "### Transmissibility"
   ]
  },
  {
   "cell_type": "markdown",
   "metadata": {},
   "source": [
    "**Parameter range**  \n",
    "Here we assume that a variant with even higher transmissibility than delta is introduced. We multiply the base transmission risk $\\beta$ by a factor that ranges from 0.7 to 2.0."
   ]
  },
  {
   "cell_type": "markdown",
   "metadata": {},
   "source": [
    "### Age dependent transmission risk"
   ]
  },
  {
   "cell_type": "markdown",
   "metadata": {},
   "source": [
    "Here we simulate a range of scenarios for the 2.5 and 97.5 percentile values for the transmission risk age dependence from the calibration.\n",
    "\n",
    "**Scenarios**\n",
    "* no measures\n",
    "* testing teachers & students 1x / week\n",
    "* testing teachers & students 2x / week\n",
    "* testing teachers & students 1x / week + masks for teachers and students\n",
    "* testing teachers & students 2x / week + masks for teachers and students\n",
    "* testing teachers & students 1x / week + reduced class sizes\n",
    "* testing teachers & students 2x / week + reduced class sizes\n",
    "* masks for teachers and students + reduced class sizes\n",
    "* all measures\n",
    "=5*6 = 30 scenarios"
   ]
  },
  {
   "cell_type": "markdown",
   "metadata": {},
   "source": [
    "### Contact weight"
   ]
  },
  {
   "cell_type": "markdown",
   "metadata": {},
   "source": [
    "Here we simulate a range of scenarios for the 2.5 and 97.5 percentile values for the contact weight from the calibration.\n",
    "\n",
    "**Scenarios**\n",
    "* no measures\n",
    "* testing teachers & students 1x / week\n",
    "* testing teachers & students 2x / week\n",
    "* testing teachers & students 1x / week + masks for teachers and students\n",
    "* testing teachers & students 2x / week + masks for teachers and students\n",
    "* testing teachers & students 1x / week + reduced class sizes\n",
    "* testing teachers & students 2x / week + reduced class sizes\n",
    "* masks for teachers and students + reduced class sizes\n",
    "* all measures\n",
    "=5*6 = 30 scenarios"
   ]
  },
  {
   "cell_type": "markdown",
   "metadata": {},
   "source": [
    "### Worst case"
   ]
  },
  {
   "cell_type": "markdown",
   "metadata": {},
   "source": [
    "Here we assume that all NPIs are not fully effective (a combination of the parameters described above). We do not sample a parameter range but rather a fixed (bot consevative) value for every parameter in a range of scenarios.  \n",
    "\n",
    "**Scenarios**\n",
    "* no measures\n",
    "* testing teachers & students 1x / week\n",
    "* testing teachers & students 2x / week\n",
    "* testing teachers & students 1x / week + masks for teachers and students\n",
    "* testing teachers & students 2x / week + masks for teachers and students\n",
    "* testing teachers & students 1x / week + reduced class sizes\n",
    "* testing teachers & students 2x / week + reduced class sizes\n",
    "* masks for teachers and students + reduced class sizes\n",
    "* all measures\n",
    "=5*6 = 30 scenarios"
   ]
  },
  {
   "cell_type": "markdown",
   "metadata": {},
   "source": [
    "### Worst case and vaccinations"
   ]
  },
  {
   "cell_type": "markdown",
   "metadata": {},
   "source": [
    "Here we assume that all NPIs are not fully effective (a combination of the parameters described above). We do not sample a parameter range but rather a fixed (bot consevative) value for every parameter in a range of scenarios. In addition, we implement two vaccination scenarios: (I) 80% vaccinated teachers, 60% vaccinated family members, 0% vaccinated students and (II) 80% vaccinated teachers, 60% vaccinated family members, 50% vaccinated students.\n",
    "\n",
    "**Scenarios**\n",
    "* no measures\n",
    "* testing teachers & students 1x / week\n",
    "* testing teachers & students 2x / week\n",
    "* testing teachers & students 1x / week + masks for teachers and students\n",
    "* testing teachers & students 2x / week + masks for teachers and students\n",
    "* testing teachers & students 1x / week + reduced class sizes\n",
    "* testing teachers & students 2x / week + reduced class sizes\n",
    "* masks for teachers and students + reduced class sizes\n",
    "* all measures\n",
    "=5*6 = 30 scenarios"
   ]
  },
  {
   "cell_type": "markdown",
   "metadata": {},
   "source": [
    "## Visualization individual dimensions"
   ]
  },
  {
   "cell_type": "code",
   "execution_count": 41,
   "metadata": {},
   "outputs": [],
   "source": [
    "# load the scenario parameters\n",
    "testing_rate_screening_params = pd.read_csv(join('screening_params',\n",
    "                                                        'testing_rate.csv'))\n",
    "\n",
    "test_sensitivity_screening_params = pd.read_csv(join('screening_params',\n",
    "                                                        'test_sensitivity.csv'))\n",
    "\n",
    "reduced_class_size_screening_params = pd.read_csv(join('screening_params',\n",
    "                                                    'reduced_class_size.csv'))\n",
    "reduced_class_size_screening_params['s_screen_interval'] = \\\n",
    "    reduced_class_size_screening_params['s_screen_interval']\\\n",
    "    .apply(format_none_column).fillna('never')\n",
    "\n",
    "reduced_class_size_screening_params['t_screen_interval'] = \\\n",
    "    reduced_class_size_screening_params['t_screen_interval']\\\n",
    "    .apply(format_none_column).fillna('never')\n",
    "\n",
    "ventilation_efficiency_screening_params = pd.read_csv(join('screening_params',\n",
    "                                                'ventilation_efficiency.csv'))\n",
    "ventilation_efficiency_screening_params['s_screen_interval'] = \\\n",
    "    ventilation_efficiency_screening_params['s_screen_interval']\\\n",
    "    .apply(format_none_column).fillna('never')\n",
    "ventilation_efficiency_screening_params['t_screen_interval'] = \\\n",
    "    ventilation_efficiency_screening_params['t_screen_interval']\\\n",
    "    .apply(format_none_column).fillna('never')\n",
    "\n",
    "mask_efficiency_screening_params = pd.read_csv(join('screening_params',\n",
    "                                                'mask_efficiency.csv'))\n",
    "mask_efficiency_screening_params['s_screen_interval'] = \\\n",
    "    mask_efficiency_screening_params['s_screen_interval']\\\n",
    "    .apply(format_none_column).fillna('never')\n",
    "mask_efficiency_screening_params['t_screen_interval'] = \\\n",
    "    mask_efficiency_screening_params['t_screen_interval']\\\n",
    "    .apply(format_none_column).fillna('never')\n",
    "\n",
    "added_friendship_contacts_screening_params = pd.read_csv(join('screening_params',\n",
    "                                            'added_friendship_contacts.csv'))\n",
    "added_friendship_contacts_screening_params['s_screen_interval'] = \\\n",
    "    added_friendship_contacts_screening_params['s_screen_interval']\\\n",
    "    .apply(format_none_column).fillna('never')\n",
    "added_friendship_contacts_screening_params['t_screen_interval'] = \\\n",
    "    added_friendship_contacts_screening_params['t_screen_interval']\\\n",
    "    .apply(format_none_column).fillna('never')\n",
    "\n",
    "transmissibility_screening_params = pd.read_csv(join('screening_params',\n",
    "                                            'transmissibility.csv'))\n",
    "transmissibility_screening_params['s_screen_interval'] = \\\n",
    "    transmissibility_screening_params['s_screen_interval']\\\n",
    "    .apply(format_none_column).fillna('never')\n",
    "transmissibility_screening_params['t_screen_interval'] = \\\n",
    "    transmissibility_screening_params['t_screen_interval']\\\n",
    "    .apply(format_none_column).fillna('never')\n",
    "\n",
    "worst_case_screening_params = pd.read_csv(join('screening_params',\n",
    "                                            'worst_case.csv'))\n",
    "worst_case_screening_params['s_screen_interval'] = \\\n",
    "    worst_case_screening_params['s_screen_interval']\\\n",
    "    .apply(format_none_column).fillna('never')\n",
    "worst_case_screening_params['t_screen_interval'] = \\\n",
    "    worst_case_screening_params['t_screen_interval']\\\n",
    "    .apply(format_none_column).fillna('never')\n",
    "\n",
    "worst_case_and_vaccinations_screening_params = pd.read_csv(join('screening_params',\n",
    "                                            'worst_case_and_vaccinations.csv'))\n",
    "worst_case_and_vaccinations_screening_params['s_screen_interval'] = \\\n",
    "    worst_case_and_vaccinations_screening_params['s_screen_interval']\\\n",
    "    .apply(format_none_column).fillna('never')\n",
    "worst_case_and_vaccinations_screening_params['t_screen_interval'] = \\\n",
    "    worst_case_and_vaccinations_screening_params['t_screen_interval']\\\n",
    "    .apply(format_none_column).fillna('never')\n",
    "\n",
    "age_dependent_transmission_risk_screening_params = pd.read_csv(join('screening_params',\n",
    "                                            'age_dependent_transmission_risk.csv'))\n",
    "age_dependent_transmission_risk_screening_params['s_screen_interval'] = \\\n",
    "    age_dependent_transmission_risk_screening_params['s_screen_interval']\\\n",
    "    .apply(format_none_column).fillna('never')\n",
    "age_dependent_transmission_risk_screening_params['t_screen_interval'] = \\\n",
    "    age_dependent_transmission_risk_screening_params['t_screen_interval']\\\n",
    "    .apply(format_none_column).fillna('never')\n",
    "\n",
    "contact_weight_screening_params = pd.read_csv(join('screening_params',\n",
    "                                            'contact_weight.csv'))\n",
    "contact_weight_screening_params['s_screen_interval'] = \\\n",
    "    contact_weight_screening_params['s_screen_interval']\\\n",
    "    .apply(format_none_column).fillna('never')\n",
    "contact_weight_screening_params['t_screen_interval'] = \\\n",
    "    contact_weight_screening_params['t_screen_interval']\\\n",
    "    .apply(format_none_column).fillna('never')"
   ]
  },
  {
   "cell_type": "code",
   "execution_count": 42,
   "metadata": {},
   "outputs": [],
   "source": [
    "param_collection = {\n",
    "    'ventilation_efficiency':ventilation_efficiency_screening_params,\n",
    "    'testing_rate':testing_rate_screening_params,\n",
    "    'mask_efficiency':mask_efficiency_screening_params,\n",
    "    'test_sensitivity':test_sensitivity_screening_params,\n",
    "    'class_size_reduction':reduced_class_size_screening_params,\n",
    "    'added_friendship_contacts':added_friendship_contacts_screening_params,\n",
    "    'transmissibility':transmissibility_screening_params,\n",
    "    'worst_case':worst_case_screening_params,\n",
    "    'worst_case_and_vaccinations':worst_case_and_vaccinations_screening_params,\n",
    "    'age_dependent_transmission_risk':age_dependent_transmission_risk_screening_params,\n",
    "    'contact_weight':contact_weight_screening_params\n",
    "}\n",
    "\n",
    "# if just the minimum necessary number of scenarios was simulated, we need to\n",
    "# truncate the screening parameter lists\n",
    "cutoffs = {\n",
    "    'ventilation_efficiency':16,\n",
    "    'testing_rate':18,\n",
    "    'mask_efficiency':14,\n",
    "    'test_sensitivity':18,\n",
    "    'class_size_reduction':16,\n",
    "    'added_friendship_contacts':16,\n",
    "    'transmissibility':27,\n",
    "    'worst_case':18,\n",
    "    'worst_case_and_vaccinations':18,\n",
    "    'age_dependent_transmission_risk':36,\n",
    "    'contact_weight':36\n",
    "}\n",
    "\n",
    "for dim in param_collection.keys():\n",
    "    param_collection[dim] = param_collection[dim][0:cutoffs[dim]]"
   ]
  },
  {
   "cell_type": "markdown",
   "metadata": {},
   "source": [
    "### Parameters"
   ]
  },
  {
   "cell_type": "code",
   "execution_count": 5,
   "metadata": {},
   "outputs": [],
   "source": [
    "observables_of_interest = ['infected_agents', 'R0']\n",
    "\n",
    "school_types = ['primary', 'primary_dc', 'lower_secondary', 'lower_secondary_dc',\n",
    "                'upper_secondary', 'secondary']\n",
    "\n",
    "stype_names = {'primary':'primary', 'primary_dc':'primary\\nwith daycare',\n",
    "               'lower_secondary':'lower\\nsecondary',\n",
    "               'lower_secondary_dc':'lower\\nsecondary\\nwith daycare',\n",
    "               'upper_secondary':'upper\\nsecondary', 'secondary':'secondary',\n",
    "               'secondary_dc':'secondary\\nwith daycare'}"
   ]
  },
  {
   "cell_type": "markdown",
   "metadata": {},
   "source": [
    "### Read baseline data"
   ]
  },
  {
   "cell_type": "code",
   "execution_count": 6,
   "metadata": {},
   "outputs": [],
   "source": [
    "src_path = '../../data/intervention_measures_delta/simulation_results' \n",
    "baseline_data = daf.get_baseline_data(src_path)"
   ]
  },
  {
   "cell_type": "markdown",
   "metadata": {},
   "source": [
    "### Test sensitivity"
   ]
  },
  {
   "cell_type": "code",
   "execution_count": 7,
   "metadata": {},
   "outputs": [
    {
     "name": "stdout",
     "output_type": "stream",
     "text": [
      "\tprimary\n",
      "\tprimary_dc\n",
      "\tlower_secondary\n",
      "\tlower_secondary_dc\n",
      "\tupper_secondary\n",
      "\tsecondary\n"
     ]
    }
   ],
   "source": [
    "src_path = '../../data/sensitivity_analysis/simulation_results/test_sensitivity'\n",
    "test_sensitivity_data = daf.get_test_sensitivity_data(src_path, \n",
    "                    param_collection['test_sensitivity'], baseline_data)\n",
    "\n",
    "sensitivities = [0.1, 0.2, 0.3, 0.4, 0.5, 0.6, 0.7, 0.8, 0.9, 1.0]\n",
    "sensitivities.reverse()\n",
    "hmaps_test_sensitivity = daf.build_test_sensitivity_heatmap(\\\n",
    "                    test_sensitivity_data, sensitivities)"
   ]
  },
  {
   "cell_type": "code",
   "execution_count": 8,
   "metadata": {},
   "outputs": [
    {
     "name": "stderr",
     "output_type": "stream",
     "text": [
      "<ipython-input-8-4397823c80ec>:58: UserWarning: This figure includes Axes that are not compatible with tight_layout, so results might be incorrect.\n",
      "  fig.tight_layout()\n"
     ]
    },
    {
     "data": {
      "image/png": "[encoded data removed]",
      "text/plain": [
       "<Figure size 720x288 with 6 Axes>"
      ]
     },
     "metadata": {
      "needs_background": "light"
     },
     "output_type": "display_data"
    }
   ],
   "source": [
    "dst = '../../plots/sensitivity_analysis/'\n",
    "\n",
    "fig, axes = plt.subplots(1, 4, figsize=(10, 4))\n",
    "for i, observable, cmap in zip(range(2), ['N_infected', 'R0'],\n",
    "                    [plt.get_cmap('cividis_r'), plt.get_cmap('coolwarm')]):\n",
    "    \n",
    "    for j, index_case in enumerate(['student', 'teacher']):\n",
    "        ax = axes[2*i + j]\n",
    "        \n",
    "        if observable == 'N_infected':\n",
    "            img = ax.imshow(hmaps_test_sensitivity[observable][index_case],\n",
    "                         vmin=0, vmax=35, cmap=cmap)\n",
    "        else:\n",
    "            img = ax.imshow(hmaps_test_sensitivity[observable][index_case], \n",
    "                        clim = (0, 8), \n",
    "                        norm = daf.MidpointNormalize(midpoint=1, vmin=0, vmax=8),\n",
    "                        cmap = cmap)\n",
    "        hmaps_test_sensitivity[observable]['img'] = img\n",
    "        \n",
    "        if 2*i + j == 0:\n",
    "            ax.set_yticks(range(len(sensitivities)))\n",
    "            ax.set_yticklabels(sensitivities)\n",
    "            ax.set_ylabel('AG test sensitivity')\n",
    "        else:\n",
    "            ax.set_yticks([])\n",
    "            ax.set_yticklabels([])\n",
    "        \n",
    "        ax.set_title('index case: {}'.format(index_case))\n",
    "        ax.set_xticks(range(len(school_types)))\n",
    "        ax.set_xticklabels(['primary', '+ daycare', 'low. sec.',\n",
    "                        '+ daycare', 'up. sec.', 'secondary'], fontsize=10)\n",
    "        ax.tick_params(axis='x', rotation=90)\n",
    "\n",
    "\n",
    "cbar_ax1 = fig.add_axes([0.079, 1.02, 0.428, 0.03])\n",
    "cbar = fig.colorbar(hmaps_test_sensitivity['N_infected']['img'], cax=cbar_ax1, \n",
    "                    orientation='horizontal', ticks=[0, 5, 10, 15, 20, 25, 30, 35])\n",
    "cbar.set_label('X', fontsize=12)\n",
    "cbar_ax1.xaxis.set_ticks_position('top')\n",
    "cbar_ax1.xaxis.set_label_position('top')\n",
    "cbar.ax.tick_params(labelsize=10)\n",
    "\n",
    "cbar_ax2 = fig.add_axes([0.543, 1.02, 0.435, 0.03])\n",
    "cbar = fig.colorbar(hmaps_test_sensitivity['R0']['img'], cax=cbar_ax2, \n",
    "                    orientation='horizontal', ticks=[0, 1, 2, 4, 6, 8])\n",
    "cbar.set_label('$R$', fontsize=12)\n",
    "cbar_ax2.xaxis.set_ticks_position('top')\n",
    "cbar_ax2.xaxis.set_label_position('top')\n",
    "cbar.ax.tick_params(labelsize=10)\n",
    "\n",
    "# draw a box around the conservative estimate\n",
    "for ax in axes:\n",
    "    rect = Rectangle((-0.41, 4.5), 5.85, 1,\n",
    "                 linewidth=2, edgecolor='r', facecolor='none')\n",
    "    ax.add_patch(rect)\n",
    "\n",
    "plt.subplots_adjust(wspace=0.07, hspace=None)\n",
    "fig.tight_layout()\n",
    "\n",
    "plt.savefig(join(dst, 'sensitivity_analysis_test_sensitivity.pdf'),\n",
    "            transparent=True)\n",
    "plt.savefig(join(dst, 'sensitivity_analysis_test_sensitivity.svg'),\n",
    "            transparent=True)"
   ]
  },
  {
   "cell_type": "markdown",
   "metadata": {},
   "source": [
    "### Testing rate"
   ]
  },
  {
   "cell_type": "code",
   "execution_count": 9,
   "metadata": {},
   "outputs": [
    {
     "name": "stdout",
     "output_type": "stream",
     "text": [
      "\tprimary\n",
      "\tprimary_dc\n",
      "\tlower_secondary\n",
      "\tlower_secondary_dc\n",
      "\tupper_secondary\n",
      "\tsecondary\n"
     ]
    }
   ],
   "source": [
    "src_path = '../../data/sensitivity_analysis/simulation_results/testing_rate'\n",
    "testing_rate_data = daf.get_testing_rate_data(src_path,\n",
    "                            param_collection['testing_rate'], baseline_data)\n",
    "\n",
    "testing_rates = [0.1, 0.2, 0.3, 0.4, 0.5, 0.6, 0.7, 0.8, 0.9, 1.0]\n",
    "testing_rates.reverse()\n",
    "testing_rates = np.asarray(testing_rates)\n",
    "hmaps_testing_rate = daf.build_testing_rate_heatmaps(testing_rate_data, \n",
    "                                                     testing_rates)"
   ]
  },
  {
   "cell_type": "code",
   "execution_count": 10,
   "metadata": {},
   "outputs": [
    {
     "name": "stderr",
     "output_type": "stream",
     "text": [
      "<ipython-input-10-dd79dc47b53e>:59: UserWarning: This figure includes Axes that are not compatible with tight_layout, so results might be incorrect.\n",
      "  fig.tight_layout()\n"
     ]
    },
    {
     "data": {
      "image/png": "[encoded data removed]",
      "text/plain": [
       "<Figure size 720x288 with 6 Axes>"
      ]
     },
     "metadata": {
      "needs_background": "light"
     },
     "output_type": "display_data"
    }
   ],
   "source": [
    "dst = '../../plots/sensitivity_analysis/'\n",
    "\n",
    "# make the plots\n",
    "fig, axes = plt.subplots(1, 4, figsize=(10, 4))\n",
    "for i, observable, cmap in zip(range(2), ['N_infected', 'R0'],\n",
    "                    [plt.get_cmap('cividis_r'), plt.get_cmap('coolwarm')]):\n",
    "\n",
    "    for j, index_case in enumerate(['student', 'teacher']):\n",
    "        ax = axes[2*i + j]\n",
    "        \n",
    "        if observable == 'N_infected':\n",
    "            img = ax.imshow(hmaps_testing_rate[observable][index_case],\n",
    "                         vmin=0, vmax=30, cmap=cmap)\n",
    "        else:\n",
    "            img = ax.imshow(hmaps_testing_rate[observable][index_case], \n",
    "                        clim = (0, 8), \n",
    "                        norm = daf.MidpointNormalize(midpoint=1, vmin=0, vmax=8),\n",
    "                        cmap = cmap)\n",
    "        hmaps_testing_rate[observable]['img'] = img\n",
    "        \n",
    "        if 2*i + j == 0:\n",
    "            ax.set_yticks(range(len(testing_rates)))\n",
    "            ax.set_yticklabels([int(t) for t in testing_rates * 100])\n",
    "            ax.set_ylabel('Test participation rate [\\%]')\n",
    "        else:\n",
    "            ax.set_yticks([])\n",
    "            ax.set_yticklabels([])\n",
    "        \n",
    "        ax.set_title('index case: {}'.format(index_case))\n",
    "        ax.set_xticks(range(len(school_types)))\n",
    "        ax.set_xticklabels(['primary', '+ daycare', 'low. sec.',\n",
    "                        '+ daycare', 'up. sec.', 'secondary'], fontsize=10)\n",
    "        ax.tick_params(axis='x', rotation=90)\n",
    "\n",
    "\n",
    "cbar_ax1 = fig.add_axes([0.079, 1.02, 0.435, 0.03])\n",
    "cbar = fig.colorbar(hmaps_testing_rate['N_infected']['img'], cax=cbar_ax1, \n",
    "                    orientation='horizontal', ticks=[0, 5, 10, 15, 20, 25, 30])\n",
    "cbar.set_label('X', fontsize=12)\n",
    "cbar_ax1.xaxis.set_ticks_position('top')\n",
    "cbar_ax1.xaxis.set_label_position('top')\n",
    "cbar.ax.tick_params(labelsize=10)\n",
    "\n",
    "cbar_ax2 = fig.add_axes([0.543, 1.02, 0.435, 0.03])\n",
    "cbar = fig.colorbar(hmaps_testing_rate['R0']['img'], cax=cbar_ax2,\n",
    "                    orientation='horizontal', ticks=[0, 1, 2, 4, 6, 8])\n",
    "cbar.set_label('$R$', fontsize=12)\n",
    "cbar_ax2.xaxis.set_ticks_position('top')\n",
    "cbar_ax2.xaxis.set_label_position('top')\n",
    "cbar.ax.tick_params(labelsize=10)\n",
    "\n",
    "# draw a box around the conservative estimate\n",
    "for ax in axes:\n",
    "    rect = Rectangle((-0.41, 4.5), 5.85, 1,\n",
    "                 linewidth=2, edgecolor='r', facecolor='none')\n",
    "    ax.add_patch(rect)\n",
    "\n",
    "plt.subplots_adjust(wspace=0.07, hspace=None)\n",
    "fig.tight_layout()\n",
    "plt.savefig(join(dst, 'sensitivity_analysis_testing_rate.pdf'),\n",
    "            transparent=True)\n",
    "plt.savefig(join(dst, 'sensitivity_analysis_testing_rate.svg'),\n",
    "            transparent=True)"
   ]
  },
  {
   "cell_type": "markdown",
   "metadata": {},
   "source": [
    "### Class size reduction"
   ]
  },
  {
   "cell_type": "code",
   "execution_count": 11,
   "metadata": {
    "tags": []
   },
   "outputs": [
    {
     "name": "stdout",
     "output_type": "stream",
     "text": [
      "\tprimary\n",
      "\tprimary_dc\n",
      "\tlower_secondary\n",
      "\tlower_secondary_dc\n",
      "\tupper_secondary\n",
      "\tsecondary\n"
     ]
    }
   ],
   "source": [
    "src_path = '../../data/sensitivity_analysis/simulation_results/reduced_class_size'\n",
    "class_size_reduction_data = daf.get_class_size_reduction_data(src_path,\n",
    "                            param_collection['class_size_reduction'])\n",
    "\n",
    "class_size_reductions = [0.1, 0.2, 0.3, 0.4, 0.5, 0.6, 0.7, 0.8]\n",
    "class_size_reductions.reverse()\n",
    "class_size_reductions = np.asarray(class_size_reductions)\n",
    "hmaps_class_size_reduction = daf.build_class_size_reduction_heatmaps(\\\n",
    "                    class_size_reduction_data, class_size_reductions)"
   ]
  },
  {
   "cell_type": "code",
   "execution_count": 12,
   "metadata": {},
   "outputs": [
    {
     "name": "stderr",
     "output_type": "stream",
     "text": [
      "<ipython-input-12-e302dca1d3ec>:60: UserWarning: This figure includes Axes that are not compatible with tight_layout, so results might be incorrect.\n",
      "  fig.tight_layout()\n"
     ]
    },
    {
     "data": {
      "image/png": "[encoded data removed]",
      "text/plain": [
       "<Figure size 720x288 with 6 Axes>"
      ]
     },
     "metadata": {
      "needs_background": "light"
     },
     "output_type": "display_data"
    }
   ],
   "source": [
    "dst = '../../plots/sensitivity_analysis/'\n",
    "\n",
    "fig, axes = plt.subplots(1, 4, figsize=(10, 4))\n",
    "\n",
    "for i, observable, cmap in zip(range(2), ['N_infected', 'R0'],\n",
    "                    [plt.get_cmap('cividis_r'), plt.get_cmap('coolwarm')]):\n",
    "    \n",
    "    for j, index_case in enumerate(['student', 'teacher']):\n",
    "        ax = axes[2*i + j]\n",
    "        if observable == 'N_infected':\n",
    "            img = ax.imshow(hmaps_class_size_reduction[observable][index_case],\n",
    "                         vmin=0, vmax=8, cmap=cmap)\n",
    "        else:\n",
    "            img = ax.imshow(hmaps_class_size_reduction[observable][index_case], \n",
    "                        clim = (0, 8), \n",
    "                        norm = daf.MidpointNormalize(midpoint=1, vmin=0, vmax=8),\n",
    "                        cmap = cmap)\n",
    "            \n",
    "        hmaps_class_size_reduction[observable]['img'] = img\n",
    "        \n",
    "        if 2*i + j == 0:\n",
    "            ax.set_yticks(range(len(class_size_reductions)))\n",
    "            ax.set_yticklabels([int(t) for t in class_size_reductions * 100])\n",
    "            ax.set_ylabel('Class size reduction [\\%]')\n",
    "        else:\n",
    "            ax.set_yticks([])\n",
    "            ax.set_yticklabels([])\n",
    "        \n",
    "        ax.set_title('index case: {}'.format(index_case))\n",
    "        ax.set_xticks(range(len(school_types)))\n",
    "        ax.set_xticklabels(['primary', '+ daycare', 'low. sec.',\n",
    "                        '+ daycare', 'up. sec.', 'secondary'], fontsize=10)\n",
    "        ax.tick_params(axis='x', rotation=90)\n",
    "\n",
    "\n",
    "cbar_ax1 = fig.add_axes([0.072, 1, 0.4475, 0.03])\n",
    "cbar = fig.colorbar(hmaps_class_size_reduction['N_infected']['img'], cax=cbar_ax1, \n",
    "                    orientation='horizontal', ticks=[0, 2, 4, 6, 8])\n",
    "cbar.set_label('X', fontsize=12)\n",
    "cbar_ax1.xaxis.set_ticks_position('top')\n",
    "cbar_ax1.xaxis.set_label_position('top')\n",
    "cbar.ax.tick_params(labelsize=10)\n",
    "\n",
    "cbar_ax2 = fig.add_axes([0.536, 1, 0.4475, 0.03])\n",
    "cbar = fig.colorbar(hmaps_class_size_reduction['R0']['img'], cax=cbar_ax2, \n",
    "                    orientation='horizontal', ticks=[0, 1, 2, 4, 6, 8])\n",
    "cbar.set_label('$R$', fontsize=12)\n",
    "cbar_ax2.xaxis.set_ticks_position('top')\n",
    "cbar_ax2.xaxis.set_label_position('top')\n",
    "cbar.ax.tick_params(labelsize=10)\n",
    "\n",
    "plt.subplots_adjust(wspace=0.07, hspace=None)\n",
    "\n",
    "# draw a box around the conservative estimate\n",
    "for ax in axes:\n",
    "    rect = Rectangle((-0.41, 4.5), 5.85, 1,\n",
    "                 linewidth=2, edgecolor='r', facecolor='none')\n",
    "    ax.add_patch(rect)\n",
    "\n",
    "fig.tight_layout()\n",
    "plt.savefig(join(dst, 'sensitivity_analysis_reduced_class_size.pdf'),\n",
    "            transparent=True)\n",
    "plt.savefig(join(dst, 'sensitivity_analysis_reduced_class_size.svg'),\n",
    "            transparent=True)"
   ]
  },
  {
   "cell_type": "markdown",
   "metadata": {},
   "source": [
    "### Ventilation efficiency"
   ]
  },
  {
   "cell_type": "code",
   "execution_count": 13,
   "metadata": {
    "tags": []
   },
   "outputs": [
    {
     "name": "stdout",
     "output_type": "stream",
     "text": [
      "\tprimary\n",
      "\tprimary_dc\n",
      "\tlower_secondary\n",
      "\tlower_secondary_dc\n",
      "\tupper_secondary\n",
      "\tsecondary\n"
     ]
    }
   ],
   "source": [
    "src_path = '../../data/sensitivity_analysis/simulation_results/ventilation_efficiency'\n",
    "ventilation_efficiency_data = daf.get_ventilation_efficiency_data(src_path,\n",
    "                         param_collection['ventilation_efficiency'], baseline_data)\n",
    "\n",
    "ventilation_efficiencies = [0.2, 0.3, 0.4, 0.5, 0.6, 0.7, 0.8, 0.9]\n",
    "ventilation_efficiencies = np.asarray(ventilation_efficiencies)\n",
    "hmaps_ventilation_efficiency = daf.build_ventilation_efficiency_heatmaps(\\\n",
    "                ventilation_efficiency_data, ventilation_efficiencies)"
   ]
  },
  {
   "cell_type": "code",
   "execution_count": 14,
   "metadata": {},
   "outputs": [
    {
     "name": "stderr",
     "output_type": "stream",
     "text": [
      "<ipython-input-14-e4dd1dbf4348>:59: UserWarning: This figure includes Axes that are not compatible with tight_layout, so results might be incorrect.\n",
      "  fig.tight_layout()\n"
     ]
    },
    {
     "data": {
      "image/png": "[encoded data removed]",
      "text/plain": [
       "<Figure size 720x288 with 6 Axes>"
      ]
     },
     "metadata": {
      "needs_background": "light"
     },
     "output_type": "display_data"
    }
   ],
   "source": [
    "dst = '../../plots/sensitivity_analysis/'\n",
    "\n",
    "fig, axes = plt.subplots(1, 4, figsize=(10, 4))\n",
    "\n",
    "for i, observable, cmap in zip(range(2), ['N_infected', 'R0'],\n",
    "                    [plt.get_cmap('cividis_r'), plt.get_cmap('coolwarm')]):\n",
    "\n",
    "    for j, index_case in enumerate(['student', 'teacher']):\n",
    "        ax = axes[2*i + j]\n",
    "        if observable == 'N_infected':\n",
    "            img = ax.imshow(hmaps_ventilation_efficiency[observable][index_case],\n",
    "                         vmin=0, vmax=8, cmap=cmap)\n",
    "        else:\n",
    "            img = ax.imshow(hmaps_ventilation_efficiency[observable][index_case], \n",
    "                        clim = (0, 9), \n",
    "                        norm = daf.MidpointNormalize(midpoint=1, vmin=0, vmax=9),\n",
    "                        cmap = cmap)\n",
    "            \n",
    "        hmaps_ventilation_efficiency[observable]['img'] = img\n",
    "        \n",
    "        if 2*i + j == 0:\n",
    "            ax.set_yticks(range(len(ventilation_efficiencies)))\n",
    "            ax.set_yticklabels([round(t) for t in (1 - ventilation_efficiencies + 0.1) * 100])\n",
    "            ax.set_ylabel('Ventilation efficiency [\\%]')\n",
    "        else:\n",
    "            ax.set_yticks([])\n",
    "            ax.set_yticklabels([])\n",
    "        \n",
    "        ax.set_title('index case: {}'.format(index_case))\n",
    "        ax.set_xticks(range(len(school_types)))\n",
    "        ax.set_xticklabels(['primary', '+ daycare', 'low. sec.',\n",
    "                        '+ daycare', 'up. sec.', 'secondary'], fontsize=10)\n",
    "        ax.tick_params(axis='x', rotation=90)\n",
    "\n",
    "\n",
    "cbar_ax1 = fig.add_axes([0.072, 1.0, 0.4475, 0.03])\n",
    "cbar = fig.colorbar(hmaps_ventilation_efficiency['N_infected']['img'], cax=cbar_ax1,\n",
    "                    orientation='horizontal', ticks=[0, 2, 4, 6, 8])\n",
    "cbar.set_label('X', fontsize=12)\n",
    "cbar_ax1.xaxis.set_ticks_position('top')\n",
    "cbar_ax1.xaxis.set_label_position('top')\n",
    "cbar.ax.tick_params(labelsize=10)\n",
    "\n",
    "cbar_ax2 = fig.add_axes([0.536, 1.0, 0.45, 0.03])\n",
    "cbar = fig.colorbar(hmaps_ventilation_efficiency['R0']['img'], cax=cbar_ax2,\n",
    "                    orientation='horizontal', ticks=[0, 1, 3, 5, 7, 9])\n",
    "cbar.set_label('$R$', fontsize=12)\n",
    "cbar_ax2.xaxis.set_ticks_position('top')\n",
    "cbar_ax2.xaxis.set_label_position('top')\n",
    "cbar.ax.tick_params(labelsize=10)\n",
    "\n",
    "# draw a box around the conservative estimate\n",
    "for ax in axes:\n",
    "    rect = Rectangle((-0.41, 5.5), 5.85, 1,\n",
    "                 linewidth=2, edgecolor='r', facecolor='none')\n",
    "    ax.add_patch(rect)\n",
    "\n",
    "plt.subplots_adjust(wspace=0.07, hspace=None)\n",
    "fig.tight_layout()\n",
    "plt.savefig(join(dst, 'sensitivity_analysis_ventilation_efficiency.pdf'),\n",
    "            transparent=True)\n",
    "plt.savefig(join(dst, 'sensitivity_analysis_ventilation_efficiency.svg'),\n",
    "            transparent=True)"
   ]
  },
  {
   "cell_type": "markdown",
   "metadata": {},
   "source": [
    "### Mask efficiency"
   ]
  },
  {
   "cell_type": "code",
   "execution_count": 15,
   "metadata": {
    "tags": []
   },
   "outputs": [
    {
     "name": "stdout",
     "output_type": "stream",
     "text": [
      "\tprimary\n",
      "\tprimary_dc\n",
      "\tlower_secondary\n",
      "\tlower_secondary_dc\n",
      "\tupper_secondary\n",
      "\tsecondary\n"
     ]
    }
   ],
   "source": [
    "src_path = '../../data/sensitivity_analysis/simulation_results/mask_efficiency'\n",
    "mask_efficiency_data = daf.get_mask_efficiency_data(src_path,\n",
    "                         param_collection['mask_efficiency'])\n",
    "\n",
    "mask_efficiencies_exhale = np.asarray([0.3, 0.4, 0.5, 0.6, 0.7, 0.8, 0.9])\n",
    "mask_efficiencies_inhale = np.asarray([0.1, 0.2, 0.3, 0.4, 0.5, 0.6, 0.7])\n",
    "hmaps_mask_efficiency = daf.build_mask_efficiency_heatmaps(mask_efficiency_data,\n",
    "                    mask_efficiencies_exhale, mask_efficiencies_inhale)"
   ]
  },
  {
   "cell_type": "code",
   "execution_count": 16,
   "metadata": {},
   "outputs": [
    {
     "name": "stderr",
     "output_type": "stream",
     "text": [
      "<ipython-input-16-650bbf389e81>:60: UserWarning: This figure includes Axes that are not compatible with tight_layout, so results might be incorrect.\n",
      "  fig.tight_layout()\n"
     ]
    },
    {
     "data": {
      "image/png": "[encoded data removed]",
      "text/plain": [
       "<Figure size 720x288 with 6 Axes>"
      ]
     },
     "metadata": {
      "needs_background": "light"
     },
     "output_type": "display_data"
    }
   ],
   "source": [
    "dst = '../../plots/sensitivity_analysis/'\n",
    "\n",
    "fig, axes = plt.subplots(1, 4, figsize=(10, 4))\n",
    "\n",
    "for i, observable, cmap in zip(range(2), ['N_infected', 'R0'],\n",
    "                    [plt.get_cmap('cividis_r'), plt.get_cmap('coolwarm')]):\n",
    "\n",
    "    for j, index_case in enumerate(['student', 'teacher']):\n",
    "        ax = axes[2*i + j]\n",
    "        if observable == 'N_infected':\n",
    "            img = ax.imshow(hmaps_mask_efficiency[observable][index_case],\n",
    "                         vmin=0, vmax=8, cmap=cmap)\n",
    "        else:\n",
    "            img = ax.imshow(hmaps_mask_efficiency[observable][index_case], \n",
    "                        clim = (0, 9), \n",
    "                        norm = daf.MidpointNormalize(midpoint=1, vmin=0, vmax=9),\n",
    "                        cmap = cmap)\n",
    "            \n",
    "        hmaps_mask_efficiency[observable]['img'] = img\n",
    "        \n",
    "        if 2*i + j == 0:\n",
    "            ax.set_yticks(range(len(mask_efficiencies_exhale)))\n",
    "            ax.set_yticklabels(['+40\\%', '+30\\%', '+20\\%', '+10\\%', '+-0\\%',\n",
    "                                '-10\\%', '-20\\%'])\n",
    "            ax.set_ylabel('Mask efficiency')\n",
    "        else:\n",
    "            ax.set_yticks([])\n",
    "            ax.set_yticklabels([])\n",
    "        \n",
    "        ax.set_title('index case: {}'.format(index_case))\n",
    "        ax.set_xticks(range(len(school_types)))\n",
    "        ax.set_xticklabels(['primary', '+ daycare', 'low. sec.',\n",
    "                        '+ daycare', 'up. sec.', 'secondary'], fontsize=10)\n",
    "        ax.tick_params(axis='x', rotation=90)\n",
    "\n",
    "\n",
    "cbar_ax1 = fig.add_axes([0.1, 0.92, 0.432, 0.03])\n",
    "cbar = fig.colorbar(hmaps_mask_efficiency['N_infected']['img'], cax=cbar_ax1,\n",
    "                    orientation='horizontal', ticks=[0, 2, 4, 6, 8])\n",
    "cbar.set_label('X', fontsize=12)\n",
    "cbar_ax1.xaxis.set_ticks_position('top')\n",
    "cbar_ax1.xaxis.set_label_position('top')\n",
    "cbar.ax.tick_params(labelsize=10)\n",
    "\n",
    "cbar_ax2 = fig.add_axes([0.552, 0.92, 0.43, 0.03])\n",
    "cbar = fig.colorbar(hmaps_mask_efficiency['R0']['img'], cax=cbar_ax2, \n",
    "                    orientation='horizontal', ticks=[0, 1, 3, 5, 7, 9])\n",
    "cbar.set_label('$R$', fontsize=12)\n",
    "cbar_ax2.xaxis.set_ticks_position('top')\n",
    "cbar_ax2.xaxis.set_label_position('top')\n",
    "cbar.ax.tick_params(labelsize=10)\n",
    "\n",
    "# draw a box around the conservative estimate\n",
    "for ax in axes:\n",
    "    rect = Rectangle((-0.41, 4.5), 5.85, 1,\n",
    "                 linewidth=2, edgecolor='r', facecolor='none')\n",
    "    ax.add_patch(rect)\n",
    "\n",
    "plt.subplots_adjust(wspace=0.07, hspace=None)\n",
    "fig.tight_layout()\n",
    "plt.savefig(join(dst, 'sensitivity_analysis_mask_efficiency.pdf'),\n",
    "            transparent=True)\n",
    "plt.savefig(join(dst, 'sensitivity_analysis_mask_efficiency.svg'),\n",
    "            transparent=True)"
   ]
  },
  {
   "cell_type": "markdown",
   "metadata": {},
   "source": [
    "### Added friendship contacts"
   ]
  },
  {
   "cell_type": "code",
   "execution_count": null,
   "metadata": {
    "tags": []
   },
   "outputs": [],
   "source": [
    "src_path = '../../data/sensitivity_analysis/simulation_results/added_friendship_contacts'\n",
    "added_friendship_contacts_data = daf.get_added_friendship_contacts_data(src_path,\n",
    "                    param_collection['added_friendship_contacts'], baseline_data)\n",
    "\n",
    "friendship_ratios = np.asarray([0.0, 0.05, 0.1, 0.15, 0.2, 0.25, 0.3, 0.35, 0.4])\n",
    "hmaps_added_friendship_contacts = daf.build_added_friendship_contacts_heatmaps(\\\n",
    "                        added_friendship_contacts_data, friendship_ratios)"
   ]
  },
  {
   "cell_type": "code",
   "execution_count": null,
   "metadata": {},
   "outputs": [],
   "source": [
    "dst = '../../plots/sensitivity_analysis/'\n",
    "\n",
    "# make plots\n",
    "fig, axes = plt.subplots(1, 4, figsize=(10, 4))\n",
    "\n",
    "for i, observable, cmap in zip(range(2), ['N_infected', 'R0'],\n",
    "                    [plt.get_cmap('cividis_r'), plt.get_cmap('coolwarm')]):\n",
    "\n",
    "    for j, index_case in enumerate(['student', 'teacher']):\n",
    "        ax = axes[2*i + j]\n",
    "        if observable == 'N_infected':\n",
    "            img = ax.imshow(hmaps_added_friendship_contacts[observable][index_case],\n",
    "                         vmin=1, vmax=2, cmap=cmap)\n",
    "        else:\n",
    "            img = ax.imshow(hmaps_added_friendship_contacts[observable][index_case], \n",
    "                        clim = (0, 9), \n",
    "                        norm = daf.MidpointNormalize(midpoint=1, vmin=0, vmax=9),\n",
    "                        cmap = cmap)\n",
    "            \n",
    "        hmaps_added_friendship_contacts[observable]['img'] = img\n",
    "        \n",
    "        if 2*i + j == 0:\n",
    "            ax.set_yticks(range(len(friendship_ratios)))\n",
    "            ax.set_yticklabels(['{:1.0f}%'.format(fr * 100) for \\\n",
    "                                fr in friendship_ratios])\n",
    "            ax.set_ylabel('Additional between class contacts')\n",
    "        else:\n",
    "            ax.set_yticks([])\n",
    "            ax.set_yticklabels([])\n",
    "        \n",
    "        ax.set_title('index case: {}'.format(index_case))\n",
    "        ax.set_xticks(range(len(school_types)))\n",
    "        ax.set_xticklabels(['primary', '+ daycare', 'low. sec.',\n",
    "                        '+ daycare', 'up. sec.', 'secondary'], fontsize=10)\n",
    "        ax.tick_params(axis='x', rotation=90)\n",
    "\n",
    "\n",
    "cbar_ax1 = fig.add_axes([0.1, 1, 0.432, 0.03])\n",
    "cbar = fig.colorbar(hmaps_added_friendship_contacts['N_infected']['img'], cax=cbar_ax1,\n",
    "                    orientation='horizontal', ticks=[1, 1.2, 1.4, 1.6, 1.8, 2])\n",
    "cbar.set_label('X', fontsize=12)\n",
    "cbar_ax1.xaxis.set_ticks_position('top')\n",
    "cbar_ax1.xaxis.set_label_position('top')\n",
    "cbar.ax.tick_params(labelsize=10)\n",
    "\n",
    "cbar_ax2 = fig.add_axes([0.552, 1, 0.43, 0.03])\n",
    "cbar = fig.colorbar(hmaps_added_friendship_contacts['R0']['img'], cax=cbar_ax2, \n",
    "                    orientation='horizontal', ticks=[0, 1, 3, 5, 7, 9])\n",
    "cbar.set_label('$R$', fontsize=12)\n",
    "cbar_ax2.xaxis.set_ticks_position('top')\n",
    "cbar_ax2.xaxis.set_label_position('top')\n",
    "cbar.ax.tick_params(labelsize=10)\n",
    "\n",
    "# draw a box around the conservative estimate\n",
    "for ax in axes:\n",
    "    rect = Rectangle((-0.41, 3.5), 5.85, 1,\n",
    "                 linewidth=2, edgecolor='r', facecolor='none')\n",
    "    ax.add_patch(rect)\n",
    "\n",
    "plt.subplots_adjust(wspace=0.07, hspace=None)\n",
    "fig.tight_layout()\n",
    "plt.savefig(join(dst, 'sensitivity_analysis_added_friendship_contacts.pdf'),\n",
    "            transparent=True)\n",
    "plt.savefig(join(dst, 'sensitivity_analysis_added_friendship_contacts.svg'),\n",
    "            transparent=True)"
   ]
  },
  {
   "cell_type": "markdown",
   "metadata": {},
   "source": [
    "### Transmissibility"
   ]
  },
  {
   "cell_type": "code",
   "execution_count": 57,
   "metadata": {},
   "outputs": [
    {
     "data": {
      "text/plain": [
       "<module 'data_analysis_functions' from '/home/jana/Projects/COVID_schools/analysis/code/sensitivity_analysis/data_analysis_functions.py'>"
      ]
     },
     "execution_count": 57,
     "metadata": {},
     "output_type": "execute_result"
    }
   ],
   "source": [
    "from importlib import reload\n",
    "reload(daf)"
   ]
  },
  {
   "cell_type": "code",
   "execution_count": 69,
   "metadata": {
    "tags": []
   },
   "outputs": [
    {
     "name": "stdout",
     "output_type": "stream",
     "text": [
      "\tprimary\n",
      "\tprimary_dc\n",
      "\tlower_secondary\n",
      "\tlower_secondary_dc\n",
      "\tupper_secondary\n",
      "\tsecondary\n"
     ]
    }
   ],
   "source": [
    "src_path = '../../data/sensitivity_analysis/simulation_results/transmissibility'\n",
    "transmissibility_data = daf.get_transmissibility_data(src_path,\n",
    "                    param_collection['transmissibility'])\n",
    "\n",
    "transmissibilities = np.asarray([0.7, 0.8, 0.9, 1.0, 1.1, 1.2, 1.3, 1.4,\n",
    "                                 1.5, 1.6, 1.7, 1.8, 1.9])\n",
    "hmaps_transmissibility = daf.build_transmissibility_heatmaps(\\\n",
    "                        transmissibility_data, transmissibilities)"
   ]
  },
  {
   "cell_type": "code",
   "execution_count": 75,
   "metadata": {},
   "outputs": [
    {
     "name": "stderr",
     "output_type": "stream",
     "text": [
      "<ipython-input-75-76cb9f088ccb>:61: UserWarning: This figure includes Axes that are not compatible with tight_layout, so results might be incorrect.\n",
      "  fig.tight_layout()\n"
     ]
    },
    {
     "data": {
      "image/png": "[encoded data removed]",
      "text/plain": [
       "<Figure size 720x576 with 6 Axes>"
      ]
     },
     "metadata": {
      "needs_background": "light"
     },
     "output_type": "display_data"
    }
   ],
   "source": [
    "dst = '../../plots/sensitivity_analysis/'\n",
    "\n",
    "# make plots\n",
    "fig, axes = plt.subplots(1, 4, figsize=(10, 8))\n",
    "\n",
    "for i, observable, cmap in zip(range(2), ['N_infected', 'R0'],\n",
    "                    [plt.get_cmap('cividis_r'), plt.get_cmap('coolwarm')]):\n",
    "\n",
    "    for j, index_case in enumerate(['student', 'teacher']):\n",
    "        ax = axes[2*i + j]\n",
    "        if observable == 'N_infected':\n",
    "            img = ax.imshow(hmaps_transmissibility[observable][index_case],\n",
    "                         vmin=1, vmax=2, cmap=cmap)\n",
    "        else:\n",
    "            img = ax.imshow(hmaps_transmissibility[observable][index_case], \n",
    "                        clim = (0, 9), \n",
    "                        norm = daf.MidpointNormalize(midpoint=1, vmin=0, vmax=9),\n",
    "                        cmap = cmap)\n",
    "            \n",
    "        hmaps_transmissibility[observable]['img'] = img\n",
    "        \n",
    "        if 2*i + j == 0:\n",
    "            ax.set_yticks(range(len(transmissibilities)))\n",
    "            ax.set_yticklabels(['{:1.0f}%'.format(fr * 100) for \\\n",
    "                                fr in transmissibilities])\n",
    "            ax.set_ylabel('Increased transmissibility')\n",
    "        else:\n",
    "            ax.set_yticks([])\n",
    "            ax.set_yticklabels([])\n",
    "        \n",
    "        ax.set_title('index case: {}'.format(index_case))\n",
    "        ax.set_xticks(range(len(school_types)))\n",
    "        ax.set_xticklabels(['primary', '+ daycare', 'low. sec.',\n",
    "                        '+ daycare', 'up. sec.', 'secondary'], fontsize=10)\n",
    "        ax.tick_params(axis='x', rotation=90)\n",
    "\n",
    "\n",
    "cbar_ax1 = fig.add_axes([0.1, 0.85, 0.432, 0.03])\n",
    "cbar = fig.colorbar(hmaps_transmissibility['N_infected']['img'], cax=cbar_ax1,\n",
    "                    orientation='horizontal', ticks=[1, 1.2, 1.4, 1.6, 1.8, 2])\n",
    "cbar.set_label('X', fontsize=12)\n",
    "cbar_ax1.xaxis.set_ticks_position('top')\n",
    "cbar_ax1.xaxis.set_label_position('top')\n",
    "cbar.ax.tick_params(labelsize=10)\n",
    "\n",
    "cbar_ax2 = fig.add_axes([0.552, 0.85, 0.43, 0.03])\n",
    "cbar = fig.colorbar(hmaps_transmissibility['R0']['img'], cax=cbar_ax2, \n",
    "                    orientation='horizontal', ticks=[0, 1, 3, 5, 7, 9])\n",
    "cbar.set_label('$R$', fontsize=12)\n",
    "cbar_ax2.xaxis.set_ticks_position('top')\n",
    "cbar_ax2.xaxis.set_label_position('top')\n",
    "cbar.ax.tick_params(labelsize=10)\n",
    "\n",
    "# draw a box around the conservative estimate\n",
    "for ax in axes:\n",
    "    rect = Rectangle((-0.41, 2.5), 5.85, 1,\n",
    "                 linewidth=2, edgecolor='r', facecolor='none')\n",
    "    ax.add_patch(rect)\n",
    "\n",
    "plt.subplots_adjust(wspace=0.07, hspace=None)\n",
    "fig.tight_layout()\n",
    "plt.savefig(join(dst, 'sensitivity_analysis_transmissibility.pdf'),\n",
    "            transparent=True)\n",
    "plt.savefig(join(dst, 'sensitivity_analysis_transmissibility.svg'),\n",
    "            transparent=True)"
   ]
  },
  {
   "cell_type": "markdown",
   "metadata": {},
   "source": [
    "## Combined Visulaization"
   ]
  },
  {
   "cell_type": "code",
   "execution_count": null,
   "metadata": {},
   "outputs": [],
   "source": [
    "# save the data to disk\n",
    "hmaps = {\n",
    "    'test_sensitivity':hmaps_test_sensitivity,\n",
    "    'testing_rate':hmaps_testing_rate, \n",
    "    'class_size_reduction':hmaps_class_size_reduction,\n",
    "    'ventilation_efficiency':hmaps_ventilation_efficiency, \n",
    "    'mask_efficiency':hmaps_mask_efficiency,\n",
    "    'added_friendship_contacts':hmaps_added_friendship_contacts}\n",
    "\n",
    "for dim, hmap in hmaps.items():\n",
    "    for metric in ['N_infected', 'R0']:\n",
    "        for index_case in ['teacher', 'student']:\n",
    "            np.savetxt(join('tmp', '{}_{}_{}.npy'.format(dim, metric, index_case)),\n",
    "                      hmap[metric][index_case])\n",
    "            \n",
    "            \n"
   ]
  },
  {
   "cell_type": "code",
   "execution_count": null,
   "metadata": {},
   "outputs": [],
   "source": [
    "# load the data\n",
    "dimensions = ['test_sensitivity', 'testing_rate', 'class_size_reduction', \n",
    "              'ventilation_efficiency', 'mask_efficiency', \n",
    "              'added_friendship_contacts']\n",
    "\n",
    "heatmaps = {dim:{metric:{index_case:np.nan \\\n",
    "                          for index_case in ['teacher', 'student']} \\\n",
    "                          for metric in ['N_infected', 'R0']} \\\n",
    "                          for dim in dimensions}\n",
    "\n",
    "\n",
    "for dim in dimensions:\n",
    "    for metric in ['N_infected', 'R0']:\n",
    "        for index_case in ['teacher', 'student']:\n",
    "            hmap = np.loadtxt(join('tmp', '{}_{}_{}.npy'\\\n",
    "                                   .format(dim, metric, index_case)))\n",
    "            heatmaps[dim][metric][index_case] = hmap"
   ]
  },
  {
   "cell_type": "markdown",
   "metadata": {},
   "source": [
    "### Figure S4"
   ]
  },
  {
   "cell_type": "code",
   "execution_count": null,
   "metadata": {},
   "outputs": [],
   "source": [
    "hex_list1 = ['#0091ad', '#3fcdda', '#83f9f8', '#d6f6eb', '#fdf1d2']\n",
    "hex_list2 = ['#fdf1d2', '#f8eaad', '#faaaae', '#ff57bb']\n",
    "hex_list3 = ['#0091ad', '#3fcdda', '#83f9f8', '#d6f6eb', '#fdf1d2',  '#f8eaad', '#faaaae', '#ff57bb']\n",
    "\n",
    "dst = '../../plots/sensitivity_analysis/'\n",
    "\n",
    "fig = plt.figure(figsize=(9.2, 11.3))\n",
    "gs = fig.add_gridspec(2*30, 2*27)\n",
    "\n",
    "axes_cbar = [fig.add_subplot(gs[1:2, 1*2:12*2-1]),\n",
    "             fig.add_subplot(gs[1:2, 15*2:26*2-1])]\n",
    "\n",
    "axes0 = [fig.add_subplot(gs[2*2:12*2, 0*2:6*2]),\n",
    "         fig.add_subplot(gs[2*2:12*2, 7*2-1:13*2-1]),\n",
    "         fig.add_subplot(gs[2*2:12*2, 14*2:20*2]),\n",
    "         fig.add_subplot(gs[2*2:12*2, 21*2-1:27*2-1])]\n",
    "\n",
    "axes1 = [fig.add_subplot(gs[12*2:22*2, 0*2:6*2]),\n",
    "         fig.add_subplot(gs[12*2:22*2, 7*2-1:13*2-1]),\n",
    "         fig.add_subplot(gs[12*2:22*2, 14*2:20*2]),\n",
    "         fig.add_subplot(gs[12*2:22*2, 21*2-1:27*2-1])]\n",
    "\n",
    "axes2 = [fig.add_subplot(gs[22*2:30*2, 0*2:6*2]),\n",
    "         fig.add_subplot(gs[22*2:30*2, 7*2-1:13*2-1]),\n",
    "         fig.add_subplot(gs[22*2:30*2, 14*2:20*2]),\n",
    "         fig.add_subplot(gs[22*2:30*2, 21*2-1:27*2-1])]\n",
    "\n",
    "axes = [axes0, axes1, axes2]\n",
    "xmax = 25\n",
    "\n",
    "sensitivities = [1.0, 0.9, 0.8, 0.7, 0.6, 0.5, 0.4, 0.3, 0.2, 0.1]\n",
    "daf.plot_heatmaps(axes[0], heatmaps['test_sensitivity'],\n",
    "              'AG test\\nsensitivity', sensitivities, 4.5, hex_list3,\n",
    "              title=True, X_max=xmax)\n",
    "\n",
    "test_participation_rates = [100, 90, 80, 70, 60, 50, 40, 30, 20, 10]\n",
    "daf.plot_heatmaps(axes[1], heatmaps['testing_rate'],\n",
    "              'test participation\\nrate [%]', test_participation_rates, 4.5,\n",
    "              hex_list3, X_max=xmax)\n",
    "\n",
    "ventilation_efficiencies = [90, 80, 70, 60, 50, 40, 30, 20]\n",
    "img = daf.plot_heatmaps(axes[2], heatmaps['ventilation_efficiency'],\n",
    "              'ventilation\\nefficiency [%]', ventilation_efficiencies, 5.5,\n",
    "              hex_list3, X_max=xmax, xticks=True)\n",
    "\n",
    "cbar_ax1 = axes_cbar[0]\n",
    "cbar = fig.colorbar(img['N_infected']['student'], cax=cbar_ax1,\n",
    "                    orientation='horizontal', ticks=[0, 5, 10, 15, 20, 25])\n",
    "cbar.ax.set_xticklabels(['0', '5', '10', '15', '20', '$\\\\geq 25$'])\n",
    "cbar.set_label('X', fontsize=14)\n",
    "cbar_ax1.xaxis.set_ticks_position('top')\n",
    "cbar_ax1.xaxis.set_label_position('top')\n",
    "cbar.ax.tick_params(labelsize=10)\n",
    "\n",
    "cbar_ax2 = axes_cbar[1]\n",
    "cbar = fig.colorbar(img['R0']['teacher'], cax=cbar_ax2, \n",
    "                    orientation='horizontal', ticks=[0, 1, 3, 5, 7, 9])\n",
    "cbar.ax.set_xticklabels(['0', '1', '3', '5', '7', '$\\\\geq 9$'])\n",
    "cbar.set_label('$R$', fontsize=14)\n",
    "cbar_ax2.xaxis.set_ticks_position('top')\n",
    "cbar_ax2.xaxis.set_label_position('top')\n",
    "cbar.ax.tick_params(labelsize=10)\n",
    "\n",
    "fig.text(0.133, 0.8, 'A', fontsize=18)\n",
    "fig.text(0.133, 0.548, 'B', fontsize=18)\n",
    "fig.text(0.133, 0.295, 'C', fontsize=18)\n",
    "\n",
    "plt.subplots_adjust(wspace=0, hspace=0)\n",
    "\n",
    "#fig.tight_layout()\n",
    "\n",
    "plt.savefig(join(dst, 'SA_overview_1.pdf'))\n",
    "plt.savefig(join(dst, 'SA_overview_1.svg'))"
   ]
  },
  {
   "cell_type": "markdown",
   "metadata": {},
   "source": [
    "### Figure S5"
   ]
  },
  {
   "cell_type": "code",
   "execution_count": null,
   "metadata": {},
   "outputs": [],
   "source": [
    "# different colormaps to play around\n",
    "hex_list1 = ['#0091ad', '#3fcdda', '#83f9f8', '#d6f6eb', '#fdf1d2']\n",
    "hex_list2 = ['#fdf1d2', '#f8eaad', '#faaaae', '#ff57bb']\n",
    "hex_list3 = ['#0091ad', '#3fcdda', '#83f9f8', '#d6f6eb', '#fdf1d2',  '#f8eaad', '#faaaae', '#ff57bb']\n",
    "\n",
    "dst = '../../plots/sensitivity_analysis/'\n",
    "\n",
    "fig = plt.figure(figsize=(9.2, 9.8))\n",
    "gs = fig.add_gridspec(2*26, 2*27)\n",
    "\n",
    "axes_cbar = [fig.add_subplot(gs[1:2, 1*2:12*2-1]),\n",
    "             fig.add_subplot(gs[1:2, 15*2:26*2-1])]\n",
    "\n",
    "axes0 = [fig.add_subplot(gs[2*2:9*2, 0*2:6*2]),\n",
    "         fig.add_subplot(gs[2*2:9*2, 7*2-1:13*2-1]),\n",
    "         fig.add_subplot(gs[2*2:9*2, 14*2:20*2]),\n",
    "         fig.add_subplot(gs[2*2:9*2, 21*2-1:27*2-1])]\n",
    "\n",
    "axes1 = [fig.add_subplot(gs[9*2:17*2, 0*2:6*2]),\n",
    "         fig.add_subplot(gs[9*2:17*2, 7*2-1:13*2-1]),\n",
    "         fig.add_subplot(gs[9*2:17*2, 14*2:20*2]),\n",
    "         fig.add_subplot(gs[9*2:17*2, 21*2-1:27*2-1])]\n",
    "\n",
    "axes2 = [fig.add_subplot(gs[17*2:26*2, 0*2:6*2]),\n",
    "         fig.add_subplot(gs[17*2:26*2, 7*2-1:13*2-1]),\n",
    "         fig.add_subplot(gs[17*2:26*2, 14*2:20*2]),\n",
    "         fig.add_subplot(gs[17*2:26*2, 21*2-1:27*2-1])]\n",
    "\n",
    "axes = [axes0, axes1, axes2]\n",
    "xmax=5\n",
    "\n",
    "mask_efficiencies = ['(90, 70)', '(80, 60)', '(70, 50)', '(60, 40)', '(50, 30)',\n",
    "                     '(40, 20)', '(30, 10)']\n",
    "daf.plot_heatmaps(axes[0], heatmaps['mask_efficiency'],\n",
    "              'mask efficiency\\n(exhale, inhale) [%]', mask_efficiencies, 4.5,\n",
    "               hex_list3, title=True, X_max=xmax)\n",
    "\n",
    "class_size_reductions = [80, 70, 60, 50, 40, 30, 20, 10]\n",
    "daf.plot_heatmaps(axes[1], heatmaps['class_size_reduction'], \n",
    "              'class size\\nreduction [%]', class_size_reductions, 4.5,\n",
    "              hex_list3, X_max=xmax)\n",
    "\n",
    "friendship_ratios = range(0, 41, 5)\n",
    "img = daf.plot_heatmaps(axes[2], heatmaps['added_friendship_contacts'],\n",
    "              'additional contacts\\nbetween classes [%]', friendship_ratios, 3.5,\n",
    "               hex_list3, xticks=True, X_max=xmax)\n",
    "\n",
    "cbar_ax1 = axes_cbar[0]\n",
    "cbar = fig.colorbar(img['N_infected']['student'], cax=cbar_ax1,\n",
    "                    orientation='horizontal', ticks=[0, 1, 2, 3, 4, 5])\n",
    "cbar.ax.set_xticklabels(['0', '1', '2', '3', '4', '$\\\\geq 5$'])\n",
    "cbar.set_label('X', fontsize=14)\n",
    "cbar_ax1.xaxis.set_ticks_position('top')\n",
    "cbar_ax1.xaxis.set_label_position('top')\n",
    "cbar.ax.tick_params(labelsize=10)\n",
    "\n",
    "cbar_ax2 = axes_cbar[1]\n",
    "cbar = fig.colorbar(img['R0']['teacher'], cax=cbar_ax2, \n",
    "                    orientation='horizontal', ticks=[0, 1, 3, 5, 7, 9])\n",
    "cbar.ax.set_xticklabels(['0', '1', '3', '5', '7', '$\\\\geq 9$'])\n",
    "cbar.set_label('$R$', fontsize=14)\n",
    "cbar_ax2.xaxis.set_ticks_position('top')\n",
    "cbar_ax2.xaxis.set_label_position('top')\n",
    "cbar.ax.tick_params(labelsize=10)\n",
    "\n",
    "fig.text(0.133, 0.788, 'A', fontsize=18)\n",
    "fig.text(0.133, 0.58, 'B', fontsize=18)\n",
    "fig.text(0.133, 0.346, 'C', fontsize=18)\n",
    "\n",
    "plt.subplots_adjust(wspace=0, hspace=0)\n",
    "\n",
    "#fig.tight_layout()\n",
    "\n",
    "plt.savefig(join(dst, 'SA_overview_2.pdf'))\n",
    "plt.savefig(join(dst, 'SA_overview_2.svg'))"
   ]
  },
  {
   "cell_type": "markdown",
   "metadata": {},
   "source": [
    "## Worst cases and vaccinations"
   ]
  },
  {
   "cell_type": "markdown",
   "metadata": {},
   "source": [
    "### Prepare data"
   ]
  },
  {
   "cell_type": "code",
   "execution_count": null,
   "metadata": {},
   "outputs": [],
   "source": [
    "reload(daf)"
   ]
  },
  {
   "cell_type": "code",
   "execution_count": null,
   "metadata": {},
   "outputs": [],
   "source": [
    "# baseline data\n",
    "selected_baseline_data = baseline_data.copy()\n",
    "selected_baseline_data = selected_baseline_data[\\\n",
    "                (selected_baseline_data['ventilation_modification'] == 0.36)]\n",
    "selected_baseline_data['scenario'] = 'optimistic'\n",
    "\n",
    "# conservative assumptions data\n",
    "src_path = '../../data/sensitivity_analysis/simulation_results/worst_case'\n",
    "dst = '../../data/sensitivity_analysis/simulation_results/'\n",
    "worst_case_data = daf.get_worst_case_data(src_path, \n",
    "                                          param_collection['worst_case'])\n",
    "worst_case_data.to_csv(join(dst, 'combined_observables.csv'),\n",
    "                      index=False)\n",
    "\n",
    "# conservative assumptions and vaccinations data\n",
    "worst_case_and_vaccination_params_scenario_1 = worst_case_and_vaccinations_screening_params[\\\n",
    "                worst_case_and_vaccinations_screening_params['student_vaccination_ratio'] == 0]\n",
    "worst_case_and_vaccination_params_scenario_2 = worst_case_and_vaccinations_screening_params[\\\n",
    "                worst_case_and_vaccinations_screening_params['student_vaccination_ratio'] == 0.5]\n",
    "param_collection['worst_case_and_vaccinations_scenario_1'] = worst_case_and_vaccination_params_scenario_1\n",
    "param_collection['worst_case_and_vaccinations_scenario_2'] = worst_case_and_vaccination_params_scenario_2\n",
    "\n",
    "src_path = '../../data/sensitivity_analysis/simulation_results/worst_case_and_vaccinations/'\n",
    "worst_case_and_vaccination_data_scenario_1 = daf.get_worst_case_and_vaccinations_data(src_path,\n",
    "                                    param_collection['worst_case_and_vaccinations_scenario_1'])\n",
    "worst_case_and_vaccination_data_scenario_2 = daf.get_worst_case_and_vaccinations_data(src_path,\n",
    "                                    param_collection['worst_case_and_vaccinations_scenario_2'])"
   ]
  },
  {
   "cell_type": "code",
   "execution_count": null,
   "metadata": {},
   "outputs": [],
   "source": [
    "measure_combinations = [\n",
    "    # ventilation + testing 1x\n",
    "    {\n",
    "        'label':'vent. + testing 1x',\n",
    "        'student_mask':False,\n",
    "        'teacher_mask':False,\n",
    "        'student_screen_interval':7,\n",
    "        'teacher_screen_interval':7,\n",
    "        'half_classes':False\n",
    "    },\n",
    "    # ventilation + testing 2x\n",
    "    {\n",
    "        'label':'vent. + testing 2x',\n",
    "        'student_mask':False,\n",
    "        'teacher_mask':False,\n",
    "        'student_screen_interval':3,\n",
    "        'teacher_screen_interval':3,\n",
    "        'half_classes':False\n",
    "    },\n",
    "    # ventilation + testing 1x + masks\n",
    "    {\n",
    "        'label':'vent. + testing 1x + masks',\n",
    "        'student_mask':True,\n",
    "        'teacher_mask':True,\n",
    "        'student_screen_interval':7,\n",
    "        'teacher_screen_interval':7,\n",
    "        'half_classes':False\n",
    "    },\n",
    "    # ventilation + testing 2x + masks\n",
    "    {\n",
    "        'label':'vent. + testing 2x + masks',\n",
    "        'student_mask':True,\n",
    "        'teacher_mask':True,\n",
    "        'student_screen_interval':3,\n",
    "        'teacher_screen_interval':3,\n",
    "        'half_classes':False\n",
    "    },\n",
    "    # ventilation + testing 1x + reduced class size \n",
    "    {\n",
    "        'label':'vent. + testing 1x + red. class size',\n",
    "        'student_mask':False,\n",
    "        'teacher_mask':False,\n",
    "        'student_screen_interval':7,\n",
    "        'teacher_screen_interval':7,\n",
    "        'half_classes':True\n",
    "    },\n",
    "    # ventilation + testing 2x + reduced class size \n",
    "    {\n",
    "        'label':'vent. + testing 2x + red. class size',\n",
    "        'student_mask':False,\n",
    "        'teacher_mask':False,\n",
    "        'student_screen_interval':3,\n",
    "        'teacher_screen_interval':3,\n",
    "        'half_classes':True\n",
    "    },\n",
    "    # ventilation + masks + reduced class size\n",
    "    {\n",
    "        'label':'vent. + masks + red. class size',\n",
    "        'student_mask':True,\n",
    "        'teacher_mask':True,\n",
    "        'student_screen_interval':'never',\n",
    "        'teacher_screen_interval':'never',\n",
    "        'half_classes':True\n",
    "    },\n",
    "    # all measures\n",
    "    {\n",
    "        'label':'all measures',\n",
    "        'student_mask':True,\n",
    "        'teacher_mask':True,\n",
    "        'student_screen_interval':3,\n",
    "        'teacher_screen_interval':3,\n",
    "        'half_classes':True\n",
    "    }\n",
    "]"
   ]
  },
  {
   "cell_type": "code",
   "execution_count": null,
   "metadata": {},
   "outputs": [],
   "source": [
    "colormaps = {'conservative':\n",
    "             {'N_infected':{'student':np.nan, 'teacher':np.nan},\n",
    "              'R0':{'student':np.nan, 'teacher':np.nan}\n",
    "             },\n",
    "             'vaccination_1':\n",
    "             {'N_infected':{'student':np.nan, 'teacher':np.nan},\n",
    "              'R0':{'student':np.nan, 'teacher':np.nan}\n",
    "             },\n",
    "             'vaccination_2':\n",
    "             {'N_infected':{'student':np.nan, 'teacher':np.nan},\n",
    "              'R0':{'student':np.nan, 'teacher':np.nan}\n",
    "             },\n",
    "             'baseline':\n",
    "             {'N_infected':{'student':np.nan, 'teacher':np.nan},\n",
    "              'R0':{'student':np.nan, 'teacher':np.nan}\n",
    "             },\n",
    "            }\n",
    "\n",
    "\n",
    "for index_case in ['student', 'teacher']:\n",
    "    for data, scenario in zip(\\\n",
    "                [worst_case_data, worst_case_and_vaccination_data_scenario_1, \n",
    "                 worst_case_and_vaccination_data_scenario_2,\n",
    "                 selected_baseline_data],\n",
    "                ['conservative', 'vaccination_1', 'vaccination_2', 'baseline']):\n",
    "        cmap = np.zeros((len(measure_combinations), len(school_types)))\n",
    "        cmap_R0 = np.zeros((len(measure_combinations), len(school_types)))\n",
    "\n",
    "        for i, mc in enumerate(measure_combinations):\n",
    "            tmp = data[\\\n",
    "                (data['student_mask'] == mc['student_mask']) &\\\n",
    "                (data['teacher_mask'] == mc['teacher_mask']) &\\\n",
    "                (data['student_screen_interval'] == mc['student_screen_interval']) &\\\n",
    "                (data['teacher_screen_interval'] == mc['teacher_screen_interval']) &\\\n",
    "                (data['half_classes'] == mc['half_classes'])]\n",
    "\n",
    "            tmp = tmp.set_index(['school_type', 'index_case'])\n",
    "\n",
    "            for j, st in enumerate(school_types):\n",
    "\n",
    "                cmap[i, j] = tmp.loc[st, index_case]['infected_agents_mean'] \n",
    "                cmap_R0[i, j] = tmp.loc[st, index_case]['R0_mean']\n",
    "\n",
    "        colormaps[scenario]['N_infected'][index_case] = cmap\n",
    "        colormaps[scenario]['R0'][index_case] = cmap_R0"
   ]
  },
  {
   "cell_type": "markdown",
   "metadata": {},
   "source": [
    "### Figure 5"
   ]
  },
  {
   "cell_type": "code",
   "execution_count": null,
   "metadata": {},
   "outputs": [],
   "source": [
    "hex_list1 = ['#0091ad', '#3fcdda', '#83f9f8', '#d6f6eb', '#fdf1d2']\n",
    "hex_list2 = ['#fdf1d2', '#f8eaad', '#faaaae', '#ff57bb']\n",
    "hex_list3 = ['#0091ad', '#3fcdda', '#83f9f8', '#d6f6eb', '#fdf1d2',  '#f8eaad', '#faaaae', '#ff57bb']\n",
    "\n",
    "hex_list1 = ['#0091ad', '#3fcdda', '#83f9f8', '#d6f6eb']\n",
    "hex_list2 = ['#d6f6eb', '#fdf1d2', '#f8eaad', '#faaaae']\n",
    "hex_list3 = ['#0091ad', '#3fcdda', '#83f9f8', '#d6f6eb', '#fdf1d2',  '#f8eaad', '#faaaae', '#ff57bb']"
   ]
  },
  {
   "cell_type": "code",
   "execution_count": null,
   "metadata": {},
   "outputs": [],
   "source": [
    "dst = '../../plots/sensitivity_analysis/'\n",
    "fig, axes = plt.subplots(4, 3, figsize=(12.5, 22))\n",
    "\n",
    "#measure_labels = [mc['label'] for mc in measure_combinations]\n",
    "measure_labels = ['PH' for mc in measure_combinations]\n",
    "cmaps = {'conservative':daf.get_continuous_cmap(hex_list3),\n",
    "         'vaccination_1':daf.get_continuous_cmap(hex_list3),\n",
    "         'vaccination_2':daf.get_continuous_cmap(hex_list3)}\n",
    "vmax = {'conservative':100,\n",
    "        'vaccination_1':50,\n",
    "        'vaccination_2':5}\n",
    "\n",
    "scenarios = ['conservative', 'vaccination_1', 'vaccination_2']\n",
    "titles = {'conservative':'conservative\\nmeasure assumptions',\n",
    "          'vaccination_1':'conservative +\\nvaccination scenario I',\n",
    "          'vaccination_2':'conservative +\\nvaccination scenario II'}\n",
    "\n",
    "\n",
    "for j, scenario in enumerate(scenarios):\n",
    "        \n",
    "    # N-infected plots\n",
    "    student = colormaps[scenario]['N_infected']['student'] /\\\n",
    "              colormaps['baseline']['N_infected']['student']\n",
    "\n",
    "    teacher = colormaps[scenario]['N_infected']['teacher'] /\\\n",
    "              colormaps['baseline']['N_infected']['teacher']\n",
    "    tmp_N_infected = {'student':student, 'teacher':teacher}\n",
    "    \n",
    "    img = axes[0, j].imshow(tmp_N_infected['student'], vmin=0,\n",
    "                vmax=vmax[scenario], cmap=cmaps[scenario])\n",
    "    img = axes[1, j].imshow(tmp_N_infected['teacher'], vmin=0,\n",
    "                vmax=vmax[scenario], cmap=cmaps[scenario])\n",
    "    colormaps[scenario]['N_infected']['img'] = img\n",
    "\n",
    "    # R0 plots\n",
    "    student_R0 = colormaps[scenario]['R0']['student'] \n",
    "    teacher_R0 = colormaps[scenario]['R0']['teacher']\n",
    "    tmp_R0 = {'student':student_R0, 'teacher':teacher_R0}\n",
    "\n",
    "    vmax_R0 = np.maximum(student_R0, teacher_R0).max()\n",
    "    vmin_R0 = np.minimum(student_R0, teacher_R0).min()\n",
    "    img = axes[2, j].imshow(tmp_R0['student'], \n",
    "                    clim = (0, 7), \n",
    "                    norm = daf.MidpointNormalize(midpoint=1, vmin=0, vmax=7), \n",
    "                    cmap=plt.get_cmap('coolwarm'))\n",
    "    img = axes[3, j].imshow(tmp_R0['teacher'], \n",
    "                    clim = (0, 7), \n",
    "                    norm = daf.MidpointNormalize(midpoint=1, vmin=0, vmax=7), \n",
    "                    cmap=plt.get_cmap('coolwarm'))\n",
    "    colormaps[scenario]['R0']['img'] = img\n",
    "    \n",
    "\n",
    "for j in range(3):\n",
    "    axes[0, j].set_title(titles[scenarios[j]], fontsize=16)\n",
    "    for i in range(4):\n",
    "        if j == 0:\n",
    "            axes[i, j].set_yticks(range(len(measure_labels)))\n",
    "            axes[i, j].set_yticklabels(measure_labels, fontsize=16)\n",
    "        else:\n",
    "            axes[i, j].set_yticks([])\n",
    "            axes[i, j].set_yticklabels([])\n",
    "        if i == 3:\n",
    "            axes[i, j].set_xticks(range(len(school_types)))\n",
    "            axes[i, j].set_xticklabels(['primary', '+ daycare', 'low. sec.',\n",
    "                            '+ daycare', 'up. sec.', 'secondary'], fontsize=16)\n",
    "            axes[i, j].tick_params(axis='x', rotation=90)\n",
    "        else:\n",
    "            axes[i, j].set_xticklabels([])\n",
    "            axes[i, j].set_xticks([])\n",
    "            \n",
    "axes[0, 0].set_ylabel('index case: student', fontsize=16)\n",
    "axes[1, 0].set_ylabel('index case: teacher', fontsize=16)\n",
    "axes[2, 0].set_ylabel('index case: student', fontsize=16)\n",
    "axes[3, 0].set_ylabel('index case: teacher', fontsize=16)\n",
    "\n",
    "cbar_ax1 = fig.add_axes([0.135, 0.915, 0.23, 0.01])\n",
    "cbar1 = fig.colorbar(colormaps['conservative']['N_infected']['img'],\\\n",
    "        cax=cbar_ax1, orientation='horizontal', ticks=[1, 20, 40, 60, 80, 100])\n",
    "cbar1.ax.set_xticklabels(['1', '20', '40', '60', '80', '$\\\\geq 100$']) \n",
    "cbar1.set_label('X', fontsize=16)\n",
    "cbar_ax1.xaxis.set_ticks_position('top')\n",
    "cbar_ax1.xaxis.set_label_position('top')\n",
    "cbar1.ax.tick_params(labelsize=14)\n",
    "\n",
    "cbar_ax2 = fig.add_axes([0.4, 0.915, 0.23, 0.01])\n",
    "cbar2 = fig.colorbar(colormaps['vaccination_1']['N_infected']['img'], cax=cbar_ax2,\n",
    "                    orientation='horizontal', ticks=[0, 10, 20, 30, 40, 50])\n",
    "cbar2.ax.set_xticklabels(['0', '10', '20', '30', '40', '$\\\\geq 50$']) \n",
    "cbar2.set_label('X', fontsize=16)\n",
    "cbar_ax2.xaxis.set_ticks_position('top')\n",
    "cbar_ax2.xaxis.set_label_position('top')\n",
    "cbar2.ax.tick_params(labelsize=14)\n",
    "\n",
    "cbar_ax4 = fig.add_axes([0.66, 0.915, 0.23, 0.01])\n",
    "cbar4 = fig.colorbar(colormaps['vaccination_2']['N_infected']['img'], cax=cbar_ax4,\n",
    "                    orientation='horizontal', ticks=[0, 1, 2, 3, 4, 5])\n",
    "cbar4.ax.set_xticklabels(['0', '1', '2', '3', '4', '$\\\\geq 5$']) \n",
    "cbar4.set_label('X', fontsize=16)\n",
    "cbar_ax4.xaxis.set_ticks_position('top')\n",
    "cbar_ax4.xaxis.set_label_position('top')\n",
    "cbar4.ax.tick_params(labelsize=14)\n",
    "\n",
    "\n",
    "cbar_ax3 = fig.add_axes([0.905, 0.136, 0.02, 0.355])\n",
    "cbar3 = fig.colorbar(colormaps['conservative']['R0']['img'],\\\n",
    "                    cax=cbar_ax3, orientation='vertical', ticks=[0, 1, 3, 5, 7])\n",
    "cbar3.set_label('$R$', fontsize=16)\n",
    "cbar3.ax.tick_params(labelsize=14)\n",
    "#cbar_ax3.xaxis.set_ticks_position('top')\n",
    "#cbar_ax3.xaxis.set_label_position('top')\n",
    "\n",
    "\n",
    "\n",
    "\n",
    "plt.subplots_adjust(wspace=0.04, hspace=0.04)\n",
    "\n",
    "fig.text(0.138, 0.865, 'A', fontsize=20)\n",
    "fig.text(0.398, 0.865, 'B', fontsize=20)\n",
    "fig.text(0.66, 0.865, 'C', fontsize=20)\n",
    "\n",
    "#fig.tight_layout()\n",
    "plt.savefig(join(dst, 'sensitivity_analysis_conservative.svg'))\n",
    "plt.savefig(join(dst, 'sensitivity_analysis_conservative.pdf'),\n",
    "            bbox_extra_artists=[cbar1, cbar2, cbar3])"
   ]
  },
  {
   "cell_type": "markdown",
   "metadata": {},
   "source": [
    "## Tables"
   ]
  },
  {
   "cell_type": "code",
   "execution_count": null,
   "metadata": {},
   "outputs": [],
   "source": [
    "measure_packages = [\n",
    "         'Testing 1x', \n",
    "         'Testing 2x',\n",
    "         'Testing 1x + Masks',\n",
    "         'Testing 2x + Masks',\n",
    "         'Testing 1x + Class Size Reduction',\n",
    "         'Testing 2x + Class Size Reduction',\n",
    "         'Masks + Class Size Reduction', \n",
    "          'All NPIs']\n",
    "\n",
    "measure_mappings_packages = {\n",
    "        'ventilation + tests teachers 1x + tests students 1x':'Testing 1x',\n",
    "        'ventilation + tests teachers 2x + tests students 2x':'Testing 2x',\n",
    "        'ventilation + tests teachers 1x + tests students 1x + masks teachers + masks students':'Testing 1x + Masks',\n",
    "        'ventilation + tests teachers 2x + tests students 2x + masks teachers + masks students':'Testing 2x + Masks',\n",
    "        'ventilation + tests teachers 1x + tests students 1x + reduced class size':'Testing 1x + Class Size Reduction',\n",
    "        'ventilation + tests teachers 2x + tests students 2x + reduced class size':'Testing 2x + Class Size Reduction',\n",
    "        'ventilation + masks teachers + masks students + reduced class size':'Masks + Class Size Reduction',\n",
    "        'all measures':'All NPIs'}\n",
    "\n",
    "stypes = ['primary', 'primary_dc', 'lower_secondary', 'lower_secondary_dc',\n",
    "          'upper_secondary', 'secondary']\n"
   ]
  },
  {
   "cell_type": "code",
   "execution_count": null,
   "metadata": {},
   "outputs": [],
   "source": [
    "def percentile(n):\n",
    "    def percentile_(x):\n",
    "        return np.percentile(x, n)\n",
    "    percentile_.__name__ = 'percentile_%s' % n\n",
    "    return percentile_\n",
    "\n",
    "def concat_infected_agents(row):\n",
    "    return '{:d} ({:d}, {:d})'\\\n",
    "        .format(round(row['mean']), round(row['percentile_75']), round(row['percentile_90']))\n",
    "\n",
    "def concat_R0(row):\n",
    "    return '{:1.1f} ({:1.1f})'\\\n",
    "        .format(round(row['mean'], 1), round(row['std'], 1))"
   ]
  },
  {
   "cell_type": "markdown",
   "metadata": {},
   "source": [
    "### Conservative scenario"
   ]
  },
  {
   "cell_type": "code",
   "execution_count": null,
   "metadata": {},
   "outputs": [],
   "source": [
    "src = '../../data/sensitivity_analysis/simulation_results/worst_case'\n",
    "\n",
    "data = pd.DataFrame()\n",
    "for stype in stypes:\n",
    "    tmp = pd.read_csv(join(src, '{}_combined_ensembles.csv'.format(stype)),\n",
    "                  low_memory=False)\n",
    "    tmp['school_type'] = stype\n",
    "    data = pd.concat([data, tmp])\n",
    "    \n",
    "data = data.reset_index(drop=True)\n",
    "data['school_type'] = pd.Categorical(data['school_type'], \n",
    "                      categories=stypes,\n",
    "                      ordered=True)\n",
    "data['measure'] = data['measure'].replace(measure_mappings_packages)\n",
    "data['measure'] = pd.Categorical(data['measure'], \n",
    "                      categories=measure_packages,\n",
    "                      ordered=True)"
   ]
  },
  {
   "cell_type": "code",
   "execution_count": null,
   "metadata": {},
   "outputs": [],
   "source": [
    "student = data[data['index_case'] == 'student']\\\n",
    "    [['school_type', 'measure', 'index_case', 'infected_agents', 'R0']]\\\n",
    "    .groupby(['school_type', 'measure'])\\\n",
    "    .agg({'infected_agents':['mean', percentile(75), percentile(90)],\n",
    "          'R0':['mean', 'std']})\\\n",
    "    .rename(columns={'infected_agents':'infected_agents_student',\n",
    "                     'R0':'R0_student'})\n",
    "\n",
    "teacher = data[data['index_case'] == 'teacher']\\\n",
    "    [['school_type', 'measure', 'index_case', 'infected_agents', 'R0']]\\\n",
    "    .groupby(['school_type', 'measure'])\\\n",
    "    .agg({'infected_agents':['mean', percentile(75), percentile(90)],\n",
    "          'R0':['mean', 'std']})\\\n",
    "    .rename(columns={'infected_agents':'infected_agents_teacher',\n",
    "                     'R0':'R0_teacher'})\n",
    "\n",
    "combined = pd.concat([student, teacher], axis=1)\n",
    "combined['infected_agents_student_text'] = combined['infected_agents_student']\\\n",
    "    .apply(concat_infected_agents, axis=1)\n",
    "combined['infected_agents_teacher_text'] = combined['infected_agents_teacher']\\\n",
    "    .apply(concat_infected_agents, axis=1)\n",
    "combined['R0_student_text'] = combined['R0_student'].apply(concat_R0, axis=1)\n",
    "combined['R0_teacher_text'] = combined['R0_teacher'].apply(concat_R0, axis=1)\n",
    "\n",
    "combined = combined\\\n",
    "    .drop(columns=['infected_agents_student',\n",
    "                   'infected_agents_teacher',\n",
    "                   'R0_student', 'R0_teacher'])\\\n",
    "    .rename(columns={'school_type':'type'})\\\n",
    "    .reset_index()\n",
    "\n",
    "dst = '../../data/tables'\n",
    "with open(join(dst, 'worst_case.tex'), 'w+') as f:\n",
    "    f.write(combined.to_latex(index=False, longtable=True))\n",
    "combined.to_csv(join(dst, 'worst_case.csv'), index=False)"
   ]
  },
  {
   "cell_type": "markdown",
   "metadata": {},
   "source": [
    "### Vaccination scenario I"
   ]
  },
  {
   "cell_type": "code",
   "execution_count": null,
   "metadata": {},
   "outputs": [],
   "source": [
    "src = '../../data/sensitivity_analysis/simulation_results/worst_case_and_vaccinations'\n",
    "\n",
    "data = pd.DataFrame()\n",
    "for stype in stypes:\n",
    "    tmp = pd.read_csv(join(src, '{}_combined_ensembles.csv'.format(stype)),\n",
    "                  low_memory=False)\n",
    "    tmp['school_type'] = stype\n",
    "    data = pd.concat([data, tmp])\n",
    "    \n",
    "data = data.reset_index(drop=True)\n",
    "data = data[data['student_vaccination_ratio'] == 0.0]\n",
    "data['school_type'] = pd.Categorical(data['school_type'], \n",
    "                      categories=stypes,\n",
    "                      ordered=True)\n",
    "data['measure'] = data['measure'].replace(measure_mappings_packages)\n",
    "data['measure'] = pd.Categorical(data['measure'], \n",
    "                      categories=measure_packages,\n",
    "                      ordered=True)"
   ]
  },
  {
   "cell_type": "code",
   "execution_count": null,
   "metadata": {},
   "outputs": [],
   "source": [
    "student = data[data['index_case'] == 'student']\\\n",
    "    [['school_type', 'measure', 'index_case', 'infected_agents', 'R0']]\\\n",
    "    .groupby(['school_type', 'measure'])\\\n",
    "    .agg({'infected_agents':['mean', percentile(75), percentile(90)],\n",
    "          'R0':['mean', 'std']})\\\n",
    "    .rename(columns={'infected_agents':'infected_agents_student',\n",
    "                     'R0':'R0_student'})\n",
    "\n",
    "teacher = data[data['index_case'] == 'teacher']\\\n",
    "    [['school_type', 'measure', 'index_case', 'infected_agents', 'R0']]\\\n",
    "    .groupby(['school_type', 'measure'])\\\n",
    "    .agg({'infected_agents':['mean', percentile(75), percentile(90)],\n",
    "          'R0':['mean', 'std']})\\\n",
    "    .rename(columns={'infected_agents':'infected_agents_teacher',\n",
    "                     'R0':'R0_teacher'})\n",
    "\n",
    "combined = pd.concat([student, teacher], axis=1)\n",
    "combined['infected_agents_student_text'] = combined['infected_agents_student']\\\n",
    "    .apply(concat_infected_agents, axis=1)\n",
    "combined['infected_agents_teacher_text'] = combined['infected_agents_teacher']\\\n",
    "    .apply(concat_infected_agents, axis=1)\n",
    "combined['R0_student_text'] = combined['R0_student'].apply(concat_R0, axis=1)\n",
    "combined['R0_teacher_text'] = combined['R0_teacher'].apply(concat_R0, axis=1)\n",
    "\n",
    "combined = combined\\\n",
    "    .drop(columns=['infected_agents_student',\n",
    "                   'infected_agents_teacher',\n",
    "                   'R0_student', 'R0_teacher'])\\\n",
    "    .rename(columns={'school_type':'type'})\\\n",
    "    .reset_index()\n",
    "\n",
    "dst = '../../data/tables'\n",
    "with open(join(dst, 'worst_case_vaccinations_I.tex'), 'w+') as f:\n",
    "    f.write(combined.to_latex(index=False, longtable=True))\n",
    "combined.to_csv(join(dst, 'worst_case_vaccinations_I.csv'), index=False)"
   ]
  },
  {
   "cell_type": "markdown",
   "metadata": {},
   "source": [
    "### Vaccination scenario II"
   ]
  },
  {
   "cell_type": "code",
   "execution_count": null,
   "metadata": {},
   "outputs": [],
   "source": [
    "src = '../../data/sensitivity_analysis/simulation_results/worst_case_and_vaccinations'\n",
    "\n",
    "data = pd.DataFrame()\n",
    "for stype in stypes:\n",
    "    tmp = pd.read_csv(join(src, '{}_combined_ensembles.csv'.format(stype)),\n",
    "                  low_memory=False)\n",
    "    tmp['school_type'] = stype\n",
    "    data = pd.concat([data, tmp])\n",
    "    \n",
    "data = data.reset_index(drop=True)\n",
    "data = data[data['student_vaccination_ratio'] == 0.5]\n",
    "data['school_type'] = pd.Categorical(data['school_type'], \n",
    "                      categories=stypes,\n",
    "                      ordered=True)\n",
    "data['measure'] = data['measure'].replace(measure_mappings_packages)\n",
    "data['measure'] = pd.Categorical(data['measure'], \n",
    "                      categories=measure_packages,\n",
    "                      ordered=True)"
   ]
  },
  {
   "cell_type": "code",
   "execution_count": null,
   "metadata": {},
   "outputs": [],
   "source": [
    "student = data[data['index_case'] == 'student']\\\n",
    "    [['school_type', 'measure', 'index_case', 'infected_agents', 'R0']]\\\n",
    "    .groupby(['school_type', 'measure'])\\\n",
    "    .agg({'infected_agents':['mean', percentile(75), percentile(90)],\n",
    "          'R0':['mean', 'std']})\\\n",
    "    .rename(columns={'infected_agents':'infected_agents_student',\n",
    "                     'R0':'R0_student'})\n",
    "\n",
    "teacher = data[data['index_case'] == 'teacher']\\\n",
    "    [['school_type', 'measure', 'index_case', 'infected_agents', 'R0']]\\\n",
    "    .groupby(['school_type', 'measure'])\\\n",
    "    .agg({'infected_agents':['mean', percentile(75), percentile(90)],\n",
    "          'R0':['mean', 'std']})\\\n",
    "    .rename(columns={'infected_agents':'infected_agents_teacher',\n",
    "                     'R0':'R0_teacher'})\n",
    "\n",
    "combined = pd.concat([student, teacher], axis=1)\n",
    "combined['infected_agents_student_text'] = combined['infected_agents_student']\\\n",
    "    .apply(concat_infected_agents, axis=1)\n",
    "combined['infected_agents_teacher_text'] = combined['infected_agents_teacher']\\\n",
    "    .apply(concat_infected_agents, axis=1)\n",
    "combined['R0_student_text'] = combined['R0_student'].apply(concat_R0, axis=1)\n",
    "combined['R0_teacher_text'] = combined['R0_teacher'].apply(concat_R0, axis=1)\n",
    "\n",
    "combined = combined\\\n",
    "    .drop(columns=['infected_agents_student',\n",
    "                   'infected_agents_teacher',\n",
    "                   'R0_student', 'R0_teacher'])\\\n",
    "    .rename(columns={'school_type':'type'})\\\n",
    "    .reset_index()\n",
    "\n",
    "dst = '../../data/tables'\n",
    "with open(join(dst, 'worst_case_vaccinations_II.tex'), 'w+') as f:\n",
    "    f.write(combined.to_latex(index=False, longtable=True))\n",
    "combined.to_csv(join(dst, 'worst_case_vaccinations_II.csv'), index=False)"
   ]
  },
  {
   "cell_type": "markdown",
   "metadata": {},
   "source": [
    "## Calibration parameters"
   ]
  },
  {
   "cell_type": "markdown",
   "metadata": {},
   "source": [
    "### Prepare data"
   ]
  },
  {
   "cell_type": "code",
   "execution_count": null,
   "metadata": {},
   "outputs": [],
   "source": [
    "# baseline data\n",
    "selected_baseline_data = baseline_data.copy()\n",
    "selected_baseline_data = selected_baseline_data[\\\n",
    "                (selected_baseline_data['ventilation_modification'] == 0.36)]\n",
    "\n",
    "# age dependent transmission risk\n",
    "src_path = '../../data/sensitivity_analysis/simulation_results/age_dependent_transmission_risk'\n",
    "dst = '../../data/sensitivity_analysis/simulation_results/'\n",
    "age_dependent_transmission_risk_params_1 = age_dependent_transmission_risk_screening_params[\\\n",
    "                age_dependent_transmission_risk_screening_params['age_transmission_discount'] == 0]\n",
    "age_dependent_transmission_risk_params_2 = age_dependent_transmission_risk_screening_params[\\\n",
    "                age_dependent_transmission_risk_screening_params['age_transmission_discount'] == -0.0225]\n",
    "param_collection['age_dependent_transmission_risk_scenario_1'] = age_dependent_transmission_risk_params_1\n",
    "param_collection['age_dependent_transmission_risk_scenario_2'] = age_dependent_transmission_risk_params_2\n",
    "\n",
    "age_dependent_transmission_risk_data_scenario_1 = daf.get_age_dependent_transmission_risk_data(src_path,\n",
    "                                    param_collection['age_dependent_transmission_risk_scenario_1'])\n",
    "age_dependent_transmission_risk_data_scenario_2 = daf.get_age_dependent_transmission_risk_data(src_path,\n",
    "                                    param_collection['age_dependent_transmission_risk_scenario_2'])\n",
    "\n",
    "# contact weight\n",
    "src_path = '../../data/sensitivity_analysis/simulation_results/contact_weight'\n",
    "dst = '../../data/sensitivity_analysis/simulation_results/'\n",
    "contact_weight_params_1 = contact_weight_screening_params[\\\n",
    "                contact_weight_screening_params['contact_weight'] == 0.26]\n",
    "contact_weight_params_2 = contact_weight_screening_params[\\\n",
    "                contact_weight_screening_params['contact_weight'] == 0.34]\n",
    "param_collection['contact_weight_scenario_1'] = contact_weight_params_1\n",
    "param_collection['contact_weight_scenario_2'] = contact_weight_params_2\n",
    "\n",
    "contact_weight_data_scenario_1 = daf.get_contact_weight_data(src_path,\n",
    "                                    param_collection['contact_weight_scenario_1'])\n",
    "contact_weight_data_scenario_2 = daf.get_contact_weight_data(src_path,\n",
    "                                    param_collection['contact_weight_scenario_2'])"
   ]
  },
  {
   "cell_type": "code",
   "execution_count": null,
   "metadata": {},
   "outputs": [],
   "source": [
    "colormaps = {'atd_0.00':\n",
    "             {'N_infected':{'student':np.nan, 'teacher':np.nan},\n",
    "              'R0':{'student':np.nan, 'teacher':np.nan}\n",
    "             },\n",
    "             'atd_-0.0225':\n",
    "             {'N_infected':{'student':np.nan, 'teacher':np.nan},\n",
    "              'R0':{'student':np.nan, 'teacher':np.nan}\n",
    "             },\n",
    "             'cw_0.26':\n",
    "             {'N_infected':{'student':np.nan, 'teacher':np.nan},\n",
    "              'R0':{'student':np.nan, 'teacher':np.nan}\n",
    "             },\n",
    "             'cw_0.34':\n",
    "             {'N_infected':{'student':np.nan, 'teacher':np.nan},\n",
    "              'R0':{'student':np.nan, 'teacher':np.nan}\n",
    "             },\n",
    "             'baseline':\n",
    "             {'N_infected':{'student':np.nan, 'teacher':np.nan},\n",
    "              'R0':{'student':np.nan, 'teacher':np.nan}\n",
    "             },\n",
    "            }\n",
    "\n",
    "\n",
    "for index_case in ['student', 'teacher']:\n",
    "    for data, scenario in zip(\\\n",
    "                [age_dependent_transmission_risk_data_scenario_1,\n",
    "                 age_dependent_transmission_risk_data_scenario_2, \n",
    "                 contact_weight_data_scenario_1,\n",
    "                 contact_weight_data_scenario_2,\n",
    "                 selected_baseline_data],\n",
    "                ['atd_0.00', 'atd_-0.0225', 'cw_0.26', 'cw_0.34', 'baseline']):\n",
    "        cmap = np.zeros((len(measure_combinations), len(school_types)))\n",
    "        cmap_R0 = np.zeros((len(measure_combinations), len(school_types)))\n",
    "\n",
    "        for i, mc in enumerate(measure_combinations):\n",
    "            tmp = data[\\\n",
    "                (data['student_mask'] == mc['student_mask']) &\\\n",
    "                (data['teacher_mask'] == mc['teacher_mask']) &\\\n",
    "                (data['student_screen_interval'] == mc['student_screen_interval']) &\\\n",
    "                (data['teacher_screen_interval'] == mc['teacher_screen_interval']) &\\\n",
    "                (data['half_classes'] == mc['half_classes'])]\n",
    "\n",
    "            tmp = tmp.set_index(['school_type', 'index_case'])\n",
    "\n",
    "            for j, st in enumerate(school_types):\n",
    "\n",
    "                cmap[i, j] = tmp.loc[st, index_case]['infected_agents_mean'] \n",
    "                cmap_R0[i, j] = tmp.loc[st, index_case]['R0_mean']\n",
    "\n",
    "        colormaps[scenario]['N_infected'][index_case] = cmap\n",
    "        colormaps[scenario]['R0'][index_case] = cmap_R0"
   ]
  },
  {
   "cell_type": "markdown",
   "metadata": {},
   "source": [
    "### Figure S3"
   ]
  },
  {
   "cell_type": "code",
   "execution_count": null,
   "metadata": {},
   "outputs": [],
   "source": [
    "dst = '../../plots/sensitivity_analysis/'\n",
    "hex_list1 = ['#0091ad', '#3fcdda', '#83f9f8', '#d6f6eb', '#fdf1d2']\n",
    "fig, axes = plt.subplots(2, 4, figsize=(11.5, 7.5))\n",
    "\n",
    "measure_labels = ['PH' for mc in measure_combinations]\n",
    "cmaps = {'atd_0.00':daf.get_continuous_cmap(hex_list1),\n",
    "         'atd_-0.0225':daf.get_continuous_cmap(hex_list1),\n",
    "         'cw_0.26':daf.get_continuous_cmap(hex_list1),\n",
    "         'cw_0.34':daf.get_continuous_cmap(hex_list1)}\n",
    "vmax = {'atd_0.00':1.1,\n",
    "        'atd_-0.0225':1.1,\n",
    "        'cw_0.26':1.1,\n",
    "        'cw_0.34':1.1}\n",
    "vmin = {'atd_0.00':0.8,\n",
    "        'atd_-0.0225':0.8,\n",
    "        'cw_0.26':0.8,\n",
    "        'cw_0.34':0.8}\n",
    "\n",
    "scenarios = ['atd_-0.0225', 'atd_0.00', 'cw_0.26', 'cw_0.34']\n",
    "titles = {'atd_0.00':'$c_\\\\mathrm{age} = 0.0$',\n",
    "          'atd_-0.0225':'$c_\\\\mathrm{age} = -0.0225$',\n",
    "          'cw_0.26':'$c_\\\\mathrm{contact} = 0.26$',\n",
    "          'cw_0.34':'$c_\\\\mathrm{contact} = 0.34$'}\n",
    "\n",
    "\n",
    "for j, scenario in enumerate(scenarios):\n",
    "        \n",
    "    # N-infected plots\n",
    "    student = colormaps[scenario]['N_infected']['student'] /\\\n",
    "              colormaps['baseline']['N_infected']['student']\n",
    "\n",
    "    teacher = colormaps[scenario]['N_infected']['teacher'] /\\\n",
    "              colormaps['baseline']['N_infected']['teacher']\n",
    "    tmp_N_infected = {'student':student, 'teacher':teacher}\n",
    "    \n",
    "    img = axes[0, j].imshow(tmp_N_infected['student'], vmin=vmin[scenario],\n",
    "                vmax=vmax[scenario], cmap=cmaps[scenario])\n",
    "    img = axes[1, j].imshow(tmp_N_infected['teacher'], vmin=vmin[scenario],\n",
    "                vmax=vmax[scenario], cmap=cmaps[scenario])\n",
    "    colormaps[scenario]['N_infected']['img'] = img\n",
    "\n",
    "for j in range(4):\n",
    "    axes[0, j].set_title(titles[scenarios[j]], fontsize=16)\n",
    "    for i in range(2):\n",
    "        if j == 0:\n",
    "            axes[i, j].set_yticks(range(len(measure_labels)))\n",
    "            axes[i, j].set_yticklabels(measure_labels, fontsize=16)\n",
    "        else:\n",
    "            axes[i, j].set_yticks([])\n",
    "            axes[i, j].set_yticklabels([])\n",
    "        if i == 1:\n",
    "            axes[i, j].set_xticks(range(len(school_types)))\n",
    "            axes[i, j].set_xticklabels(['primary', '+ daycare', 'low. sec.',\n",
    "                            '+ daycare', 'up. sec.', 'secondary'], fontsize=16)\n",
    "            axes[i, j].tick_params(axis='x', rotation=90)\n",
    "        else:\n",
    "            axes[i, j].set_xticklabels([])\n",
    "            axes[i, j].set_xticks([])\n",
    "            \n",
    "axes[0, 0].set_ylabel('index case: student', fontsize=16)\n",
    "axes[1, 0].set_ylabel('index case: teacher', fontsize=16)\n",
    "\n",
    "cbar_ax2 = fig.add_axes([0.91, 0.14, 0.015, 0.72])\n",
    "cbar2 = fig.colorbar(colormaps['cw_0.26']['N_infected']['img'], cax=cbar_ax2,\n",
    "                    orientation='vertical', ticks=[0.8, 0.9, 1.0, 1.1]) \n",
    "cbar2.set_label('X', fontsize=16)\n",
    "cbar_ax2.xaxis.set_ticks_position('top')\n",
    "cbar_ax2.xaxis.set_label_position('top')\n",
    "cbar2.ax.tick_params(labelsize=14)\n",
    "\n",
    "plt.subplots_adjust(wspace=0.0, hspace=0.04)\n",
    "\n",
    "fig.text(0.138, 0.84, 'A', fontsize=20)\n",
    "fig.text(0.332, 0.84, 'B', fontsize=20)\n",
    "fig.text(0.527, 0.84, 'C', fontsize=20)\n",
    "fig.text(0.722, 0.84, 'D', fontsize=20)\n",
    "\n",
    "\n",
    "#fig.tight_layout()\n",
    "plt.savefig(join(dst, 'sensitivity_analysis_calibration.svg'))\n",
    "plt.savefig(join(dst, 'sensitivity_analysis_calibration.pdf'),\n",
    "            bbox_extra_artists=[cbar1])"
   ]
  },
  {
   "cell_type": "markdown",
   "metadata": {},
   "source": [
    "### Average statistics"
   ]
  },
  {
   "cell_type": "code",
   "execution_count": null,
   "metadata": {},
   "outputs": [],
   "source": [
    "# changes for primary and secondary schools when changing the age transmission discount\n",
    "ratio_low_atd = (colormaps['atd_-0.0225']['N_infected']['student'] / colormaps['baseline']['N_infected']['student'] + \\\n",
    "         colormaps['atd_-0.0225']['N_infected']['teacher'] / colormaps['baseline']['N_infected']['teacher']) / 2\n",
    "\n",
    "ratio_high_atd = (colormaps['atd_0.00']['N_infected']['student'] / colormaps['baseline']['N_infected']['student'] + \\\n",
    "         colormaps['atd_0.00']['N_infected']['teacher'] / colormaps['baseline']['N_infected']['teacher']) / 2\n",
    "\n",
    "print('for low age transmission discount, primary school outbreaks are on average {:1.1f}% the size of the baseline scenario'.format(ratio_low_atd[0:,1].mean()*100))\n",
    "print('for high age transmission discount, primary school outbreaks are on average {:1.1f}% the size of the baseline scenario'.format(ratio_high_atd[0:,1].mean()*100))\n",
    "print()\n",
    "print('for low age transmission discount, secondary school outbreaks are on average {:1.1f}% the size of the baseline scenario'.format(ratio_low_atd[0:,4].mean()*100))\n",
    "print('for high age transmission discount, secondary school outbreaks are on average {:1.1f}% the size of the baseline scenario'.format(ratio_high_atd[0:,4].mean()*100))\n",
    "print()\n",
    "print()\n",
    "# changes for primary and secondary schools when changing contact weight\n",
    "ratio_low_cw = (colormaps['cw_0.26']['N_infected']['student'] / colormaps['baseline']['N_infected']['student'] + \\\n",
    "         colormaps['cw_0.26']['N_infected']['teacher'] / colormaps['baseline']['N_infected']['teacher']) / 2\n",
    "\n",
    "ratio_high_cw = (colormaps['cw_0.34']['N_infected']['student'] / colormaps['baseline']['N_infected']['student'] + \\\n",
    "         colormaps['cw_0.34']['N_infected']['teacher'] / colormaps['baseline']['N_infected']['teacher']) / 2\n",
    "print('for low contact weight, primary school outbreaks are on average {:1.1f}% the size of the baseline scenario'.format(ratio_low_cw[0:,1].mean()*100))\n",
    "print('for high contact weight, primary school outbreaks are on average {:1.1f}% the size of the baseline scenario'.format(ratio_high_cw[0:,1].mean()*100))\n",
    "print()\n",
    "print('for low contact weight, secondary school outbreaks are on average {:1.1f}% the size of the baseline scenario'.format(ratio_low_cw[0:,4].mean()*100))\n",
    "print('for high contact weight, secondary school outbreaks are on average {:1.1f}% the size of the baseline scenario'.format(ratio_high_cw[0:,4].mean()*100))"
   ]
  },
  {
   "cell_type": "code",
   "execution_count": null,
   "metadata": {},
   "outputs": [],
   "source": [
    "print('low age transmission discount leads to outbreak sizes that are on average {:1.1f}% smaller than the baseline'.format(ratio_low_atd.mean() * 100))\n",
    "print('high age transmission discount leads to outbreak sizes that are on average {:1.1f}% larger than the baseline'.format(ratio_high_atd.mean() * 100))\n",
    "print()\n",
    "print('low contact weight leads to outbreak sizes that are on average {:1.1f}% smaller than the baseline'.format(ratio_low_cw.mean() * 100))\n",
    "print('high contact weight leads to outbreak sizes that are on average {:1.1f}% larger than the baseline'.format(ratio_high_cw.mean() * 100))"
   ]
  }
 ],
 "metadata": {
  "kernelspec": {
   "display_name": "Python 3",
   "language": "python",
   "name": "python3"
  },
  "language_info": {
   "codemirror_mode": {
    "name": "ipython",
    "version": 3
   },
   "file_extension": ".py",
   "mimetype": "text/x-python",
   "name": "python",
   "nbconvert_exporter": "python",
   "pygments_lexer": "ipython3",
   "version": "3.8.8"
  }
 },
 "nbformat": 4,
 "nbformat_minor": 4
}
