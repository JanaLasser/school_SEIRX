{
 "cells": [
  {
   "cell_type": "markdown",
   "id": "consolidated-basics",
   "metadata": {},
   "source": [
    "# Testing vaccinated and unvaccinated population outcomes"
   ]
  },
  {
   "cell_type": "code",
   "execution_count": 23,
   "id": "smooth-doubt",
   "metadata": {},
   "outputs": [],
   "source": [
    "import pandas as pd\n",
    "import numpy as np\n",
    "from os.path import join\n",
    "import os\n",
    "import json\n",
    "import seaborn as sns\n",
    "import matplotlib.pyplot as plt\n",
    "\n",
    "from scseirx import analysis_functions as af\n",
    "\n",
    "import data_creation_functions as dcf\n",
    "\n",
    "# parallelisation functionality\n",
    "from multiprocess import Pool\n",
    "import psutil\n",
    "from tqdm import tqdm"
   ]
  },
  {
   "cell_type": "markdown",
   "id": "intellectual-jenny",
   "metadata": {},
   "source": [
    "## Simulation settings"
   ]
  },
  {
   "cell_type": "code",
   "execution_count": 2,
   "id": "golden-timothy",
   "metadata": {},
   "outputs": [],
   "source": [
    "with open('params/vaccinations_measures.json', 'r') as fp:\n",
    "    measures = json.load(fp)\n",
    "with open('params/vaccinations_simulation_parameters.json', 'r') as fp:\n",
    "    simulation_params = json.load(fp)\n",
    "with open('params/vaccinations_school_characteristics.json', 'r') as fp:\n",
    "    school_characteristics = json.load(fp)"
   ]
  },
  {
   "cell_type": "code",
   "execution_count": 31,
   "id": "hindu-boston",
   "metadata": {},
   "outputs": [
    {
     "data": {
      "text/plain": [
       "{'verbosity': 0,\n",
       " 'base_transmission_risk': 0.07367,\n",
       " 'subclinical_modifier': 0.6,\n",
       " 'exposure_duration': [5.0, 1.9],\n",
       " 'time_until_symptoms': [6.4, 0.8],\n",
       " 'infection_duration': [10.91, 3.95],\n",
       " 'student_index_probability': 0,\n",
       " 'teacher_index_probability': 0,\n",
       " 'family_member_index_probability': 0,\n",
       " 'infection_risk_contact_type_weights': {'very_far': 0,\n",
       "  'far': 0.26,\n",
       "  'intermediate': 0.26,\n",
       "  'close': 1},\n",
       " 'age_transmission_discount': {'slope': 0, 'intercept': 1},\n",
       " 'age_symptom_discount': {'slope': -0.02868, 'intercept': 0.7954411542069012},\n",
       " 'mask_filter_efficiency': {'exhale': 0.5, 'inhale': 0.7}}"
      ]
     },
     "execution_count": 31,
     "metadata": {},
     "output_type": "execute_result"
    }
   ],
   "source": [
    "simulation_params"
   ]
  },
  {
   "cell_type": "markdown",
   "id": "damaged-green",
   "metadata": {},
   "source": [
    "## Simulation function"
   ]
  },
  {
   "cell_type": "code",
   "execution_count": 4,
   "id": "premium-shooting",
   "metadata": {},
   "outputs": [],
   "source": [
    "def run(params):\n",
    "    '''\n",
    "    Runs an ensemble of simulations and collects observable statistics. To be \n",
    "    run in parallel on many workers. Note: I/O paths and the number of runs per \n",
    "    ensemble hare hard coded here, because I only want to pass the parameter \n",
    "    values that are being screened in the simulation run to the function via the\n",
    "    parallel processing interface.\n",
    "    \n",
    "    Parameters:\n",
    "    -----------\n",
    "    param_list : iterable\n",
    "        Iterable that contains the values for the parameters test_type, \n",
    "        index_case, e_screen_range and r_screen_range that are passed to the\n",
    "        simulation.\n",
    "        \n",
    "    Returns:\n",
    "    --------\n",
    "    row : dictionary\n",
    "        Dictionary of the ensemble statistics of the observables.\n",
    "    '''    \n",
    "\n",
    "    # extract the simulation parameters from the parameter list\n",
    "    N_runs, school_type, index_case, ttype, s_screen_interval, t_screen_interval,\\\n",
    "        student_mask, teacher_mask, half_classes, ventilation_mod,\\\n",
    "        student_vaccination_ratio, teacher_vaccination_ratio = params\n",
    "    \n",
    "    try:\n",
    "        os.mkdir(join(dst, school_type))\n",
    "    except FileExistsError:\n",
    "        pass\n",
    "\n",
    "    # run the ensemble with the given parameter combination and school type\n",
    "    ensmbl_results = dcf.run_ensemble(N_runs, school_type, measures,\\\n",
    "            simulation_params, school_characteristics, contact_network_src,\\\n",
    "            dst, index_case, ttype, s_screen_interval, t_screen_interval,\\\n",
    "            student_mask, teacher_mask, half_classes, ventilation_mod,\n",
    "             student_vaccination_ratio, teacher_vaccination_ratio)\n",
    "    \n",
    "    ensmbl_results['school_type'] = school_type\n",
    "    ensmbl_results['index_case'] = index_case\n",
    "    ensmbl_results['test_type'] = ttype\n",
    "    ensmbl_results['student_screen_interval'] = s_screen_interval\n",
    "    ensmbl_results['teacher_screen_interval'] = t_screen_interval\n",
    "    ensmbl_results['student_mask'] = student_mask\n",
    "    ensmbl_results['teacher_mask'] = teacher_mask\n",
    "    ensmbl_results['half_classes'] = half_classes\n",
    "    ensmbl_results['ventilation_mod'] = ventilation_mod\n",
    "    ensmbl_results['student_vaccination_ratio'] = student_vaccination_ratio\n",
    "    ensmbl_results['teacher_vaccination_ratio'] = teacher_vaccination_ratio\n",
    "    \n",
    "    return ensmbl_results"
   ]
  },
  {
   "cell_type": "markdown",
   "id": "prostate-mortgage",
   "metadata": {},
   "source": [
    "## Screening parameters"
   ]
  },
  {
   "cell_type": "code",
   "execution_count": 26,
   "id": "extraordinary-illness",
   "metadata": {},
   "outputs": [
    {
     "name": "stdout",
     "output_type": "stream",
     "text": [
      "there are 18 different parameter combinations\n"
     ]
    }
   ],
   "source": [
    "## parameter ranges \n",
    "\n",
    "# number of runs in the ensemble\n",
    "# Note: this is set to 1 for testing purposes. To get properly converged \n",
    "# statistics, this has to be >= 500. Running such a high number of simulations\n",
    "# will take a long time if run on just a single core. Therefore I strongly\n",
    "# recommend to run the below code on several cores at once. It is easy to\n",
    "# parallelize as each ensemble can be run on a different core and there are\n",
    "# no interdependencies between ensembles. Results can be collected afterwards\n",
    "# and evaulated together.\n",
    "N_runs = 100\n",
    "# different school types\n",
    "school_types = ['primary']\n",
    "# specifies whether the index case will be introduced via an\n",
    "# employee or a resident\n",
    "index_cases = ['student', 'teacher']\n",
    "# test technologies (and test result turnover times) used in the\n",
    "# different scenarios\n",
    "test_types = ['same_day_antigen']\n",
    "# student and teacher streening intervals (in days)\n",
    "s_screen_range = [None]\n",
    "t_screen_range = [None]\n",
    "# specifies whether teachers wear masks\n",
    "student_masks = [False]\n",
    "teacher_masks = [False]\n",
    "half_classes = [False]\n",
    "# specifies whether there is ventilation or not\n",
    "transmission_risk_ventilation_modifiers = [1]\n",
    "# specifies the ratio of vaccinated students\n",
    "student_vaccination_ratios = [0, 0.5, 1.0]\n",
    "teacher_vaccination_ratios = [0, 0.5, 1.0]\n",
    "\n",
    "params = [(N_runs, i, j, k, l, m, n, o, p, q, r, s)\\\n",
    "              for i in school_types \\\n",
    "              for j in index_cases \\\n",
    "              for k in test_types \\\n",
    "              for l in s_screen_range \\\n",
    "              for m in t_screen_range \\\n",
    "              for n in student_masks \\\n",
    "              for o in teacher_masks \\\n",
    "              for p in half_classes \\\n",
    "              for q in transmission_risk_ventilation_modifiers \\\n",
    "              for r in student_vaccination_ratios \\\n",
    "              for s in teacher_vaccination_ratios]\n",
    "\n",
    "N_configs = len(params)\n",
    "print('there are {} different parameter combinations'.format(N_configs))"
   ]
  },
  {
   "cell_type": "code",
   "execution_count": 27,
   "id": "centered-victorian",
   "metadata": {},
   "outputs": [
    {
     "name": "stderr",
     "output_type": "stream",
     "text": [
      "100%|██████████| 18/18 [03:28<00:00, 11.61s/it]"
     ]
    },
    {
     "name": "stdout",
     "output_type": "stream",
     "text": [
      "CPU times: user 256 ms, sys: 109 ms, total: 366 ms\n",
      "Wall time: 3min 29s\n"
     ]
    },
    {
     "name": "stderr",
     "output_type": "stream",
     "text": [
      "\n"
     ]
    },
    {
     "data": {
      "text/html": [
       "<div>\n",
       "<style scoped>\n",
       "    .dataframe tbody tr th:only-of-type {\n",
       "        vertical-align: middle;\n",
       "    }\n",
       "\n",
       "    .dataframe tbody tr th {\n",
       "        vertical-align: top;\n",
       "    }\n",
       "\n",
       "    .dataframe thead th {\n",
       "        text-align: right;\n",
       "    }\n",
       "</style>\n",
       "<table border=\"1\" class=\"dataframe\">\n",
       "  <thead>\n",
       "    <tr style=\"text-align: right;\">\n",
       "      <th></th>\n",
       "      <th>index_case</th>\n",
       "      <th>student_vaccination_ratio</th>\n",
       "      <th>teacher_vaccination_ratio</th>\n",
       "      <th>N_diagnostic_tests</th>\n",
       "      <th>N_family_members</th>\n",
       "      <th>N_preventive_tests</th>\n",
       "      <th>N_school_agents</th>\n",
       "      <th>R0</th>\n",
       "      <th>diagnostic_test_detected_infections_family_member</th>\n",
       "      <th>diagnostic_test_detected_infections_student</th>\n",
       "      <th>...</th>\n",
       "      <th>run</th>\n",
       "      <th>seed</th>\n",
       "      <th>student_family_member_transmissions</th>\n",
       "      <th>student_student_transmissions</th>\n",
       "      <th>student_teacher_transmissions</th>\n",
       "      <th>teacher_student_transmissions</th>\n",
       "      <th>teacher_teacher_transmissions</th>\n",
       "      <th>tests_per_day_per_agent</th>\n",
       "      <th>transmissions</th>\n",
       "      <th>undetected_infections</th>\n",
       "    </tr>\n",
       "  </thead>\n",
       "  <tbody>\n",
       "    <tr>\n",
       "      <th>0</th>\n",
       "      <td>teacher</td>\n",
       "      <td>0.5</td>\n",
       "      <td>0.0</td>\n",
       "      <td>1.0</td>\n",
       "      <td>346.0</td>\n",
       "      <td>0.0</td>\n",
       "      <td>164.0</td>\n",
       "      <td>3.0</td>\n",
       "      <td>0.0</td>\n",
       "      <td>1.0</td>\n",
       "      <td>...</td>\n",
       "      <td>1.0</td>\n",
       "      <td>1.0</td>\n",
       "      <td>0.0</td>\n",
       "      <td>1.0</td>\n",
       "      <td>0.0</td>\n",
       "      <td>3.0</td>\n",
       "      <td>0.0</td>\n",
       "      <td>0.000218</td>\n",
       "      <td>4.0</td>\n",
       "      <td>0.0</td>\n",
       "    </tr>\n",
       "    <tr>\n",
       "      <th>1</th>\n",
       "      <td>teacher</td>\n",
       "      <td>0.5</td>\n",
       "      <td>0.0</td>\n",
       "      <td>2.0</td>\n",
       "      <td>346.0</td>\n",
       "      <td>0.0</td>\n",
       "      <td>164.0</td>\n",
       "      <td>1.0</td>\n",
       "      <td>1.0</td>\n",
       "      <td>1.0</td>\n",
       "      <td>...</td>\n",
       "      <td>2.0</td>\n",
       "      <td>2.0</td>\n",
       "      <td>1.0</td>\n",
       "      <td>0.0</td>\n",
       "      <td>0.0</td>\n",
       "      <td>1.0</td>\n",
       "      <td>0.0</td>\n",
       "      <td>0.000436</td>\n",
       "      <td>2.0</td>\n",
       "      <td>0.0</td>\n",
       "    </tr>\n",
       "    <tr>\n",
       "      <th>2</th>\n",
       "      <td>teacher</td>\n",
       "      <td>0.5</td>\n",
       "      <td>0.0</td>\n",
       "      <td>2.0</td>\n",
       "      <td>346.0</td>\n",
       "      <td>0.0</td>\n",
       "      <td>164.0</td>\n",
       "      <td>1.0</td>\n",
       "      <td>0.0</td>\n",
       "      <td>2.0</td>\n",
       "      <td>...</td>\n",
       "      <td>3.0</td>\n",
       "      <td>3.0</td>\n",
       "      <td>1.0</td>\n",
       "      <td>2.0</td>\n",
       "      <td>1.0</td>\n",
       "      <td>3.0</td>\n",
       "      <td>0.0</td>\n",
       "      <td>0.000194</td>\n",
       "      <td>7.0</td>\n",
       "      <td>0.0</td>\n",
       "    </tr>\n",
       "  </tbody>\n",
       "</table>\n",
       "<p>3 rows × 38 columns</p>\n",
       "</div>"
      ],
      "text/plain": [
       "  index_case  student_vaccination_ratio  teacher_vaccination_ratio  \\\n",
       "0    teacher                        0.5                        0.0   \n",
       "1    teacher                        0.5                        0.0   \n",
       "2    teacher                        0.5                        0.0   \n",
       "\n",
       "   N_diagnostic_tests  N_family_members  N_preventive_tests  N_school_agents  \\\n",
       "0                 1.0             346.0                 0.0            164.0   \n",
       "1                 2.0             346.0                 0.0            164.0   \n",
       "2                 2.0             346.0                 0.0            164.0   \n",
       "\n",
       "    R0  diagnostic_test_detected_infections_family_member  \\\n",
       "0  3.0                                                0.0   \n",
       "1  1.0                                                1.0   \n",
       "2  1.0                                                0.0   \n",
       "\n",
       "   diagnostic_test_detected_infections_student  ...  run  seed  \\\n",
       "0                                          1.0  ...  1.0   1.0   \n",
       "1                                          1.0  ...  2.0   2.0   \n",
       "2                                          2.0  ...  3.0   3.0   \n",
       "\n",
       "   student_family_member_transmissions  student_student_transmissions  \\\n",
       "0                                  0.0                            1.0   \n",
       "1                                  1.0                            0.0   \n",
       "2                                  1.0                            2.0   \n",
       "\n",
       "   student_teacher_transmissions  teacher_student_transmissions  \\\n",
       "0                            0.0                            3.0   \n",
       "1                            0.0                            1.0   \n",
       "2                            1.0                            3.0   \n",
       "\n",
       "   teacher_teacher_transmissions  tests_per_day_per_agent  transmissions  \\\n",
       "0                            0.0                 0.000218            4.0   \n",
       "1                            0.0                 0.000436            2.0   \n",
       "2                            0.0                 0.000194            7.0   \n",
       "\n",
       "   undetected_infections  \n",
       "0                    0.0  \n",
       "1                    0.0  \n",
       "2                    0.0  \n",
       "\n",
       "[3 rows x 38 columns]"
      ]
     },
     "execution_count": 27,
     "metadata": {},
     "output_type": "execute_result"
    }
   ],
   "source": [
    "%%time\n",
    "# paths for data I/O\n",
    "contact_network_src = '../../data/contact_networks/representative_schools'\n",
    "dst = '../../data/vaccinations/testing'\n",
    "\n",
    "number_of_cores = psutil.cpu_count(logical=True) - 2\n",
    "pool = Pool(number_of_cores)\n",
    "\n",
    "results = pd.DataFrame()\n",
    "for ensmbl_results in tqdm(pool.imap_unordered(func=run, iterable=params),\n",
    "                           total=len(params)):\n",
    "    results = results.append(ensmbl_results, ignore_index=True)\n",
    "\n",
    "# turn off your parallel workers \n",
    "pool.close()\n",
    "    \n",
    "results = results.reset_index(drop=True)\n",
    "index_cols = ['school_type', 'index_case', 'test_type',\n",
    "              'student_screen_interval', 'teacher_screen_interval',\n",
    "              'student_mask', 'teacher_mask', 'half_classes',\n",
    "              'ventilation_mod', 'student_vaccination_ratio',\n",
    "              'teacher_vaccination_ratio']\n",
    "interesting_cols = ['index_case', 'student_vaccination_ratio', \n",
    "                    'teacher_vaccination_ratio']\n",
    "other_cols = [c for c in results.columns if c not in index_cols]\n",
    "results = results[interesting_cols + other_cols]\n",
    "\n",
    "results.to_csv(join(dst, 'vaccinations_{}.csv'\\\n",
    "                   .format(N_runs)), index=False)\n",
    "results.head(3)"
   ]
  },
  {
   "cell_type": "code",
   "execution_count": 28,
   "id": "forbidden-broadway",
   "metadata": {},
   "outputs": [],
   "source": [
    "def set_vaccination_scenario(row):\n",
    "    vaccination_scenario = 'student {:1.2f}\\nteacher {:1.2f}'\\\n",
    "    .format(row['student_vaccination_ratio'], row['teacher_vaccination_ratio'])\n",
    "    return vaccination_scenario"
   ]
  },
  {
   "cell_type": "code",
   "execution_count": 29,
   "id": "metallic-forward",
   "metadata": {},
   "outputs": [],
   "source": [
    "results = pd.read_csv(join(dst, 'vaccinations_{}.csv'.format(N_runs)))\n",
    "results['vaccination_scenario'] = results.apply(set_vaccination_scenario, axis=1)"
   ]
  },
  {
   "cell_type": "code",
   "execution_count": 30,
   "id": "center-rescue",
   "metadata": {},
   "outputs": [
    {
     "data": {
      "image/png": "[encoded data removed]",
      "text/plain": [
       "<Figure size 864x288 with 1 Axes>"
      ]
     },
     "metadata": {
      "needs_background": "light"
     },
     "output_type": "display_data"
    }
   ],
   "source": [
    "fig, ax = plt.subplots(figsize=(12, 4))\n",
    "sns.violinplot(x=\"vaccination_scenario\", y=\"transmissions\", hue=\"index_case\",\n",
    "                    data=results, palette=\"muted\", split=True, ax=ax)\n",
    "ax.tick_params(axis='x', labelsize=10)"
   ]
  }
 ],
 "metadata": {
  "kernelspec": {
   "display_name": "Python 3",
   "language": "python",
   "name": "python3"
  },
  "language_info": {
   "codemirror_mode": {
    "name": "ipython",
    "version": 3
   },
   "file_extension": ".py",
   "mimetype": "text/x-python",
   "name": "python",
   "nbconvert_exporter": "python",
   "pygments_lexer": "ipython3",
   "version": "3.8.8"
  }
 },
 "nbformat": 4,
 "nbformat_minor": 5
}
