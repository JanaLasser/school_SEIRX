{
 "cells": [
  {
   "cell_type": "markdown",
   "id": "local-copper",
   "metadata": {},
   "source": [
    "# Extract observables transmissibility"
   ]
  },
  {
   "cell_type": "code",
   "execution_count": null,
   "id": "suburban-incident",
   "metadata": {},
   "outputs": [],
   "source": [
    "import json\n",
    "import pandas as pd\n",
    "from os.path import join\n",
    "import os\n",
    "\n",
    "from scseirx import analysis_functions as af\n",
    "\n",
    "# for progress bars\n",
    "from ipywidgets import IntProgress\n",
    "from IPython.display import display"
   ]
  },
  {
   "cell_type": "markdown",
   "id": "regular-cardiff",
   "metadata": {},
   "source": [
    "## School configurations"
   ]
  },
  {
   "cell_type": "code",
   "execution_count": null,
   "id": "north-artist",
   "metadata": {},
   "outputs": [],
   "source": [
    "# characteristics (# classes, # students / class, # teachers) of the \"average\" \n",
    "# school, depending on school type. These characteristics were determined in \n",
    "# interviews with Austrian teachers and from statistics about Austrian schools \n",
    "# (year 2017/18, page 10: https://www.bmbwf.gv.at/Themen/schule/schulsystem/gd.html)\n",
    "# NOTE: \"students\" indicates the number of students per class\n",
    "with open('params/sensitivity_analysis_school_characteristics.json', 'r') as fp:\n",
    "    school_characteristics = json.load(fp)"
   ]
  },
  {
   "cell_type": "code",
   "execution_count": 27,
   "id": "corresponding-vault",
   "metadata": {},
   "outputs": [],
   "source": [
    "school_types = ['primary', 'primary_dc', 'lower_secondary', 'lower_secondary_dc',\n",
    "                'upper_secondary', 'secondary']\n",
    "transmission_risks = [1.5]\n",
    "\n",
    "school_configs = [(stype, school_characteristics[stype]['classes'], \\\n",
    "                  school_characteristics[stype]['students'], trisk) \\\n",
    "                  for stype in school_types\\\n",
    "                  for trisk in transmission_risks]"
   ]
  },
  {
   "cell_type": "markdown",
   "id": "joint-departure",
   "metadata": {},
   "source": [
    "## Increased transmission risk"
   ]
  },
  {
   "cell_type": "markdown",
   "id": "partial-second",
   "metadata": {},
   "source": [
    "### Measures"
   ]
  },
  {
   "cell_type": "code",
   "execution_count": null,
   "id": "composite-packaging",
   "metadata": {},
   "outputs": [],
   "source": [
    "## parameter ranges \n",
    "# student and teacher streening intervals (in days)\n",
    "s_screen_range = [None, 3, 7]\n",
    "t_screen_range = [None, 3, 7]\n",
    "# test technologies (and test result turnover times) used in the\n",
    "# different scenarios\n",
    "test_types = ['same_day_antigen']\n",
    "# specifies whether the index case will be introduced via an\n",
    "# employee or a resident\n",
    "index_cases = ['student', 'teacher']\n",
    "# specifies whether teachers wear masks\n",
    "student_masks = [True, False]\n",
    "teacher_masks = [True, False]\n",
    "half_classes = [True, False]\n",
    "transmission_risk_ventilation_modifiers = [1, 0.36]\n",
    "\n",
    "params = [(i, j, k, l, m, n, o, p)\\\n",
    "              for i in test_types \\\n",
    "              for j in index_cases \\\n",
    "              for k in s_screen_range \\\n",
    "              for l in t_screen_range \\\n",
    "              for m in student_masks \\\n",
    "              for n in teacher_masks \\\n",
    "              for o in half_classes \\\n",
    "              for p in transmission_risk_ventilation_modifiers]"
   ]
  },
  {
   "cell_type": "markdown",
   "id": "surgical-heavy",
   "metadata": {},
   "source": [
    "### Extraction"
   ]
  },
  {
   "cell_type": "code",
   "execution_count": null,
   "id": "productive-lease",
   "metadata": {},
   "outputs": [],
   "source": [
    "turnovers = {'same':0, 'one':1, 'two':2, 'three':3}\n",
    "bmap = {True:'T', False:'F'}\n",
    "res_path = '../../data/sensitivity_analysis/simulation_results/transmissibility' \n",
    "\n",
    "f = IntProgress(min=0, max=len(params) * len(school_configs))\n",
    "display(f)\n",
    "c = 0 # counter for progress bar\n",
    "for school_type, N_classes, class_size, trisk in school_configs:\n",
    "    school_string = '{}_classes-{}_students-{}'.format(school_type, N_classes, class_size)\n",
    "    school = {'type':school_type, 'classes':N_classes,\n",
    "              'students':class_size}\n",
    "    \n",
    "    stype = school['type']\n",
    "    sname = '{}_classes-{}_students-{}'.format(\\\n",
    "        stype, school['classes'], school['students'])\n",
    "\n",
    "    spath_ensmbl = join(res_path,'/{}/{}/ensembles/{}'\\\n",
    "                        .format(stype, trisk, school_string))\n",
    "    spath_obs = join(res_path,'{}/{}/observables'\\\n",
    "                     .format(stype, trisk))\n",
    "    \n",
    "    try:\n",
    "        os.mkdir(spath_obs)\n",
    "    except FileExistsError:\n",
    "        pass \n",
    "    \n",
    "    observables = pd.DataFrame()\n",
    "    for ttype, index_case, s_screen_interval, t_screen_interval, student_mask, \\\n",
    "                teacher_mask, half_classes, ventilation_mod in params:\n",
    "        \n",
    "        turnover, _, test = ttype.split('_')\n",
    "        turnover = turnovers[turnover]\n",
    "        \n",
    "        measure_string = '{}_test-{}_turnover-{}_index-{}_tf-{}_sf-{}_tmask-{}'\\\n",
    "        .format(stype, test, turnover, index_case[0], t_screen_interval,\n",
    "                s_screen_interval, bmap[teacher_mask]) +\\\n",
    "                '_smask-{}_half-{}_vent-{}_trisk-{}'\\\n",
    "        .format(bmap[student_mask], bmap[half_classes], ventilation_mod, trisk)\n",
    "        \n",
    "        ensmbl = pd.read_csv(join(spath_ensmbl, measure_string + '.csv'))\n",
    "        \n",
    "        row = {'transmission_risk_modifier':trisk,\n",
    "               'test_type':test,\n",
    "               'turnover':turnover,\n",
    "               'index_case':index_case,\n",
    "               'student_screen_interval':s_screen_interval,\n",
    "               'teacher_screen_interval':t_screen_interval,\n",
    "               'student_mask':student_mask,\n",
    "               'teacher_mask':teacher_mask,\n",
    "               'half_classes':half_classes,\n",
    "               'ventilation_modification':ventilation_mod}\n",
    "        \n",
    "        ensmbl = ensmbl[ensmbl['infected_agents'] > 0]\n",
    "        for col in ensmbl.columns:\n",
    "            row.update(af.get_statistics(ensmbl, col))\n",
    "        observables = observables.append(row, ignore_index=True)\n",
    "\n",
    "        f.value = c # update the progress bar\n",
    "        c += 1\n",
    "    # calculate the number of tests per day and agent in the school\n",
    "    observables['N_tests_per_day_per_agent'] = \\\n",
    "    (observables['N_diagnostic_tests_median'] + observables['N_preventive_tests_median']) /\\\n",
    "    observables['duration_median'] / observables['N_school_agents_median']\n",
    "    \n",
    "    screen_cols = ['transmission_risk_modifier','test_type', 'turnover',\n",
    "                   'index_case', 'student_screen_interval',\n",
    "            'teacher_screen_interval', 'student_mask', 'teacher_mask',\n",
    "            'half_classes', 'ventilation_modification']\n",
    "\n",
    "    other_cols = [c for c in observables.columns if c not in screen_cols]\n",
    "    observables = observables[screen_cols + other_cols]\n",
    "    \n",
    "    for col in ['infected_teachers_median', 'infected_students_median', \n",
    "                        'infected_family_members_median',\n",
    "                        'infected_teachers_0.90', 'infected_students_0.90', \n",
    "                        'infected_family_members_0.90']:\n",
    "        observables[col] = observables[col].round(0).astype(int)\n",
    "    \n",
    "    observables.to_csv(join(spath_obs, school_string + '.csv'), index=False)"
   ]
  },
  {
   "cell_type": "markdown",
   "id": "elegant-finding",
   "metadata": {},
   "source": [
    "### Combine all ensembles"
   ]
  },
  {
   "cell_type": "code",
   "execution_count": 29,
   "id": "greenhouse-helen",
   "metadata": {},
   "outputs": [],
   "source": [
    "res_path = '../../data/sensitivity_analysis/simulation_results/transmissibility'\n",
    "observables = pd.DataFrame()\n",
    "for stype, N_classes, class_size, trisk in school_configs:\n",
    "    school_string = '{}_classes-{}_students-{}'.format(stype, N_classes, class_size)\n",
    "    sname = '{}_classes-{}_students-{}'.format(\\\n",
    "        stype, school['classes'], school['students'])\n",
    "    spath_obs = join(res_path,'{}/{}/observables'\\\n",
    "                     .format(stype, trisk))\n",
    "    obs = pd.read_csv(join(spath_obs, school_string + '.csv'))\n",
    "    observables = pd.concat([observables, obs])\n",
    "\n",
    "observables.to_csv(join(res_path, stype + '_inc_transk_risk.csv'), index=False)"
   ]
  },
  {
   "cell_type": "markdown",
   "id": "efficient-beverage",
   "metadata": {},
   "source": [
    "## Worst cases"
   ]
  },
  {
   "cell_type": "code",
   "execution_count": 31,
   "id": "permanent-westminster",
   "metadata": {},
   "outputs": [],
   "source": [
    "src_path = '../../data/sensitivity_analysis/simulation_results/worst_case'\n",
    "for stype in school_types:\n",
    "    stype_data = af.get_data(stype, src_path, test_participation_rate=True,\n",
    "            reduced_class_size=True, reduced_mask_efficiency=True,\n",
    "            transmission_risk_modifier=True)\n",
    "    stype_data.to_csv(join(src_path, '{}_combined_ensembles.csv').format(stype), index=False)"
   ]
  }
 ],
 "metadata": {
  "kernelspec": {
   "display_name": "Python 3",
   "language": "python",
   "name": "python3"
  },
  "language_info": {
   "codemirror_mode": {
    "name": "ipython",
    "version": 3
   },
   "file_extension": ".py",
   "mimetype": "text/x-python",
   "name": "python",
   "nbconvert_exporter": "python",
   "pygments_lexer": "ipython3",
   "version": "3.8.8"
  }
 },
 "nbformat": 4,
 "nbformat_minor": 5
}
