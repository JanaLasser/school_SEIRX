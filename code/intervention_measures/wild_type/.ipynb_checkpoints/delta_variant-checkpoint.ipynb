{
 "cells": [
  {
   "cell_type": "markdown",
   "id": "established-right",
   "metadata": {},
   "source": [
    "# Parameters of the delta variant"
   ]
  },
  {
   "cell_type": "markdown",
   "id": "unsigned-accent",
   "metadata": {},
   "source": [
    "* Latent period (exposure duration): 4 days ([Kang et al. 2021](https://doi.org/10.1101/2021.08.12.21261991))\n",
    "* Incubation period (time until symptoms: 5.8 days ([Kang et al. 2021](https://doi.org/10.1101/2021.08.12.21261991))\n",
    "* Delta is ~2 x more infectious than the wild type (reproductive number of ~5, WT was ~2.5) ([Liu and Rocklöv 2021](https://academic.oup.com/jtm/advance-article/doi/10.1093/jtm/taab124/6346388?login=true))"
   ]
  }
 ],
 "metadata": {
  "kernelspec": {
   "display_name": "Python 3",
   "language": "python",
   "name": "python3"
  },
  "language_info": {
   "codemirror_mode": {
    "name": "ipython",
    "version": 3
   },
   "file_extension": ".py",
   "mimetype": "text/x-python",
   "name": "python",
   "nbconvert_exporter": "python",
   "pygments_lexer": "ipython3",
   "version": "3.8.8"
  }
 },
 "nbformat": 4,
 "nbformat_minor": 5
}
