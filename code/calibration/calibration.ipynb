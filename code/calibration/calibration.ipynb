{
 "cells": [
  {
   "cell_type": "markdown",
   "metadata": {},
   "source": [
    "# Calibration of the school model based on empirical data"
   ]
  },
  {
   "cell_type": "code",
   "execution_count": 4,
   "metadata": {},
   "outputs": [],
   "source": [
    "import numpy as np\n",
    "import pandas as pd\n",
    "import numpy as np\n",
    "from os.path import join\n",
    "import json\n",
    "\n",
    "# custom functions to run the calibration simulations\n",
    "import calibration_functions as cf\n",
    "\n",
    "# for progress bars\n",
    "from ipywidgets import IntProgress\n",
    "from IPython.display import display"
   ]
  },
  {
   "cell_type": "markdown",
   "metadata": {},
   "source": [
    "## Empirical observations"
   ]
  },
  {
   "cell_type": "code",
   "execution_count": 5,
   "metadata": {},
   "outputs": [],
   "source": [
    "empirical_data_src = '../../data/calibration/empirical_observations'\n",
    "\n",
    "# distribution of outbreak sizes by school type\n",
    "outbreak_sizes = pd.read_csv(\\\n",
    "            join(empirical_data_src, 'empirical_outbreak_sizes.csv'))\n",
    "# ratio of infections in the student and teacher groups\n",
    "group_distributions = pd.read_csv(\\\n",
    "            join(empirical_data_src, 'empirical_group_distributions.csv'))\n",
    "# ratio of index cases in the student and teacher groups\n",
    "agent_index_ratios = pd.read_csv(\\\n",
    "            join(empirical_data_src, 'empirical_index_case_ratios.csv'))\n",
    "agent_index_ratios.index = agent_index_ratios['school_type']\n",
    "# ratio of symptomatic cases in the student and teacher groups\n",
    "symptomatic_case_ratios = pd.read_csv(\\\n",
    "            join(empirical_data_src, 'empirical_symptomatic_case_ratios.csv'))"
   ]
  },
  {
   "cell_type": "markdown",
   "metadata": {},
   "source": [
    "## Simulation settings"
   ]
  },
  {
   "cell_type": "code",
   "execution_count": 6,
   "metadata": {},
   "outputs": [],
   "source": [
    "# List of prevention measures that were in place in schools in the weeks 36-45\n",
    "# of the year 2020 in Austrian schools. This list was compiled from information\n",
    "# collected in interviews with teachers of different school types. NOTE: so far\n",
    "# there are no recorded differences between school types.\n",
    "with open('params/calibration_measures.json', 'r') as fp:\n",
    "    prevention_measures = json.load(fp)\n",
    "# simulation parameters, specifically the\n",
    "# - base transmission risk (calibrated from household transmissions)\n",
    "# - subclinical transmission modifier (literature value)\n",
    "# - exposure duration, time until symtpoms and infection duration (lit. values)\n",
    "# - age symptom discount (fit to empirical observations)\n",
    "with open('params/calibration_simulation_parameters.json', 'r') as fp:\n",
    "    simulation_params = json.load(fp)\n",
    "# characteristics (# classes, # students / class, # teachers) of the \"average\" \n",
    "# school, depending on school type. These characteristics were determined in \n",
    "# interviews with Austrian teachers and from statistics about Austrian schools \n",
    "# (year 2017/18, page 10: https://www.bmbwf.gv.at/Themen/schule/schulsystem/gd.html)\n",
    "# NOTE: \"students\" indicates the number of students per class\n",
    "with open('params/calibration_school_characteristics.json', 'r') as fp:\n",
    "    school_characteristics = json.load(fp)"
   ]
  },
  {
   "cell_type": "markdown",
   "metadata": {},
   "source": [
    "## Random sampling"
   ]
  },
  {
   "cell_type": "markdown",
   "metadata": {},
   "source": [
    "### Create calibration parameter grid"
   ]
  },
  {
   "cell_type": "code",
   "execution_count": 7,
   "metadata": {},
   "outputs": [],
   "source": [
    "## grid of parameters that need to be calibrated\n",
    "# the contact weight is the modifier by which the base transmission risk (for\n",
    "# household transmissions) is multiplied for contacts of type \"intermediate\" \n",
    "# and of type \"far\"\n",
    "intermediate_contact_weights = np.arange(0, 1, 0.05)\n",
    "far_contact_weights = np.arange(0, 1, 0.05)\n",
    "\n",
    "# the age_transmission_discount sets the slope of the age-dependence of the \n",
    "# transmission risk. Transmission risk for adults (age 18+) is always base \n",
    "# transmission risk. For every year an agent is younger than 18 years, the\n",
    "# transmission risk is reduced\n",
    "age_transmission_discounts = np.arange(-0.1, 0, 0.02)\n",
    "\n",
    "# list of all possible parameter combinations from the grid\n",
    "params = [(i, j, k) for i in intermediate_contact_weights \\\n",
    "                    for j in far_contact_weights\\\n",
    "                    for k in age_transmission_discounts if i > j]\n",
    "\n",
    "# number of points in the parameter grid that will be randomly sampled\n",
    "N_samples = 10\n",
    "# randomly drawn list of parameter combination indices of size N_samples. For \n",
    "# every parameter combination an ensemble of simulations will be run and \n",
    "# evaluated.\n",
    "if N_samples == 'all':\n",
    "    samples = range(len(params))\n",
    "else:\n",
    "    samples = np.random.choice(range(len(params)), N_samples, replace=False)"
   ]
  },
  {
   "cell_type": "markdown",
   "metadata": {},
   "source": [
    "### Run the sampling"
   ]
  },
  {
   "cell_type": "code",
   "execution_count": 8,
   "metadata": {},
   "outputs": [
    {
     "data": {
      "application/vnd.jupyter.widget-view+json": {
       "model_id": "53b77011f8b64b8cb5c3bdd71f9889b7",
       "version_major": 2,
       "version_minor": 0
      },
      "text/plain": [
       "IntProgress(value=0, max=60)"
      ]
     },
     "metadata": {},
     "output_type": "display_data"
    }
   ],
   "source": [
    "# paths for data I/O\n",
    "contact_network_src = '../../data/calibration/contact_networks'\n",
    "dst = '../../data/calibration/simulation_results'\n",
    "\n",
    "school_types = ['primary', 'primary_dc', 'lower_secondary',\n",
    "                'lower_secondary_dc', 'upper_secondary', 'secondary']\n",
    "\n",
    "# number of runs per ensemble\n",
    "# Note: this is set to 1 for testing purposes. To get properly converged \n",
    "# statistics, this has to be >= 500. Running such a high number of simulations\n",
    "# will take a long time if run on just a single core. Therefore I strongly\n",
    "# recommend to run the below code on several cores at once. It is easy to\n",
    "# parallelize as each ensemble can be run on a different core and there are\n",
    "# no interdependencies between ensembles. Results can be collected afterwards\n",
    "# and evaulated together.\n",
    "N_runs = 1\n",
    "\n",
    "# progress bar\n",
    "f = IntProgress(min=0, max=len(school_types) * len(samples)) \n",
    "display(f)\n",
    "c = 0\n",
    "\n",
    "results = pd.DataFrame()\n",
    "for school_type in school_types:\n",
    "    for sample_index in samples:\n",
    "        # get the randomly sampled parameter combination\n",
    "        intermediate_contact_weight, far_contact_weight,\\\n",
    "            age_transmission_discount = params[sample_index]\n",
    "        \n",
    "        # run the ensemble with the given parameter combination and school type\n",
    "        ensemble_results = cf.run_ensemble(N_runs, school_type,\n",
    "                  intermediate_contact_weight, far_contact_weight, \n",
    "                  age_transmission_discount, prevention_measures,\n",
    "                  school_characteristics, agent_index_ratios,\n",
    "                  simulation_params, contact_network_src)\n",
    "\n",
    "        # calculate the difference between the ensemble characteristics\n",
    "        # (outbreak distribution, ratio of student to teacher cases)\n",
    "        row = cf.evaluate_ensemble(ensemble_results, school_type,\n",
    "                  intermediate_contact_weight, far_contact_weight,\n",
    "                  age_transmission_discount, outbreak_sizes,\n",
    "                  group_distributions)\n",
    "\n",
    "        results = results.append(row, ignore_index=True)\n",
    "        \n",
    "        f.value = c # update the progress bar\n",
    "        c += 1 # update progress bar\n",
    "\n",
    "results.reset_index()\n",
    "index_cols = ['school_type', 'intermediate_contact_weight',\n",
    "              'far_contact_weight', 'age_transmission_discount']\n",
    "other_cols = [c for c in results.columns if c not in index_cols]\n",
    "results = results[index_cols + other_cols]\n",
    "\n",
    "results.to_csv(join(dst, 'calibration_results_random_sampling.csv'), index=False)"
   ]
  },
  {
   "cell_type": "markdown",
   "metadata": {},
   "source": [
    "### Analyze the random sampling"
   ]
  },
  {
   "cell_type": "code",
   "execution_count": 21,
   "metadata": {},
   "outputs": [
    {
     "data": {
      "text/html": [
       "<div>\n",
       "<style scoped>\n",
       "    .dataframe tbody tr th:only-of-type {\n",
       "        vertical-align: middle;\n",
       "    }\n",
       "\n",
       "    .dataframe tbody tr th {\n",
       "        vertical-align: top;\n",
       "    }\n",
       "\n",
       "    .dataframe thead th {\n",
       "        text-align: right;\n",
       "    }\n",
       "</style>\n",
       "<table border=\"1\" class=\"dataframe\">\n",
       "  <thead>\n",
       "    <tr style=\"text-align: right;\">\n",
       "      <th></th>\n",
       "      <th>age_transmission_discount</th>\n",
       "      <th>chi2_distance_distro</th>\n",
       "      <th>chi2_distance_size</th>\n",
       "      <th>chi2_distance_total</th>\n",
       "      <th>far_contact_weight</th>\n",
       "      <th>intermediate_contact_weight</th>\n",
       "      <th>school_type</th>\n",
       "      <th>sum_of_squares_distro</th>\n",
       "      <th>sum_of_squares_size</th>\n",
       "      <th>sum_of_squares_total</th>\n",
       "    </tr>\n",
       "  </thead>\n",
       "  <tbody>\n",
       "    <tr>\n",
       "      <th>0</th>\n",
       "      <td>-0.02</td>\n",
       "      <td>0.090392</td>\n",
       "      <td>0.080200</td>\n",
       "      <td>0.170592</td>\n",
       "      <td>0.15</td>\n",
       "      <td>0.45</td>\n",
       "      <td>primary</td>\n",
       "      <td>0.133439</td>\n",
       "      <td>0.101209</td>\n",
       "      <td>0.234648</td>\n",
       "    </tr>\n",
       "    <tr>\n",
       "      <th>1</th>\n",
       "      <td>-0.02</td>\n",
       "      <td>0.061329</td>\n",
       "      <td>0.007015</td>\n",
       "      <td>0.068345</td>\n",
       "      <td>0.70</td>\n",
       "      <td>0.95</td>\n",
       "      <td>primary</td>\n",
       "      <td>0.090537</td>\n",
       "      <td>0.007860</td>\n",
       "      <td>0.098396</td>\n",
       "    </tr>\n",
       "    <tr>\n",
       "      <th>2</th>\n",
       "      <td>-0.04</td>\n",
       "      <td>0.078039</td>\n",
       "      <td>0.046071</td>\n",
       "      <td>0.124110</td>\n",
       "      <td>0.10</td>\n",
       "      <td>0.85</td>\n",
       "      <td>primary</td>\n",
       "      <td>0.115204</td>\n",
       "      <td>0.057563</td>\n",
       "      <td>0.172767</td>\n",
       "    </tr>\n",
       "  </tbody>\n",
       "</table>\n",
       "</div>"
      ],
      "text/plain": [
       "   age_transmission_discount  chi2_distance_distro  chi2_distance_size  \\\n",
       "0                      -0.02              0.090392            0.080200   \n",
       "1                      -0.02              0.061329            0.007015   \n",
       "2                      -0.04              0.078039            0.046071   \n",
       "\n",
       "   chi2_distance_total  far_contact_weight  intermediate_contact_weight  \\\n",
       "0             0.170592                0.15                         0.45   \n",
       "1             0.068345                0.70                         0.95   \n",
       "2             0.124110                0.10                         0.85   \n",
       "\n",
       "  school_type  sum_of_squares_distro  sum_of_squares_size  \\\n",
       "0     primary               0.133439             0.101209   \n",
       "1     primary               0.090537             0.007860   \n",
       "2     primary               0.115204             0.057563   \n",
       "\n",
       "   sum_of_squares_total  \n",
       "0              0.234648  \n",
       "1              0.098396  \n",
       "2              0.172767  "
      ]
     },
     "execution_count": 21,
     "metadata": {},
     "output_type": "execute_result"
    }
   ],
   "source": [
    "# load the collected ensemble statistics\n",
    "dst = '../../data/calibration/simulation_results'\n",
    "results = pd.read_csv(join(dst, 'calibration_results_random_sampling.csv'))\n",
    "results.head(3)"
   ]
  },
  {
   "cell_type": "code",
   "execution_count": 22,
   "metadata": {},
   "outputs": [],
   "source": [
    "# note: these are the number of clusters per school type from the slightly older\n",
    "# data version (November 2020). For primary and lower secondary school types,\n",
    "# the counts are split evenly between schools with and without daycare. \n",
    "counts = pd.DataFrame({'type':['primary', 'primary_dc', \n",
    "                               'lower_secondary', 'lower_secondary_dc',\n",
    "                               'upper_secondary', 'secondary'],\n",
    "                      'count':[33.5, 33.5, 90, 90, 116, 70]})\n",
    "\n",
    "counts.index = counts['type']\n",
    "counts = counts.drop(columns=['type'])\n",
    "\n",
    "# The cluster counts are used to weigh the respective school type in the \n",
    "# calibration process.\n",
    "counts['weight'] = counts['count'] / counts['count'].sum()\n",
    "results['chi2_distance_total_weighted'] = results['chi2_distance_total']\n",
    "weights = []\n",
    "for i, row in results.iterrows():\n",
    "    st = row['school_type']\n",
    "    weight = counts.loc[st, 'weight']\n",
    "    error = row['chi2_distance_total']\n",
    "    results.loc[i, 'chi2_distance_total_weighted'] = error * weight"
   ]
  },
  {
   "cell_type": "code",
   "execution_count": 23,
   "metadata": {},
   "outputs": [
    {
     "name": "stdout",
     "output_type": "stream",
     "text": [
      "optimal random sampling parameter combination:\n",
      "\t intermediate contact weight: 0.850\n",
      "\t far contact weight: 0.750\n",
      "\t age transmission discount: -0.020\n"
     ]
    }
   ],
   "source": [
    "# since we calibrate the intermediate_contact_weight, far_contact_weight and \n",
    "# age_transmission_discount over all school types together, we have to find\n",
    "# the parameter combination that minimizes the sum of errors over all school\n",
    "# types. \n",
    "agg_results = results.groupby(['intermediate_contact_weight',\n",
    "                               'far_contact_weight',\n",
    "                               'age_transmission_discount']).sum()\n",
    "\n",
    "opt = agg_results.loc[agg_results['chi2_distance_total_weighted'].idxmin()].name\n",
    "opt_intermediate_contact_weight = opt[0]\n",
    "opt_far_contact_weight = opt[1]\n",
    "opt_age_transmission_discount = opt[2]\n",
    "\n",
    "print('optimal random sampling parameter combination:')\n",
    "print('\\t intermediate contact weight: {:1.3f}'.format(opt_intermediate_contact_weight))\n",
    "print('\\t far contact weight: {:1.3f}'.format(opt_far_contact_weight))\n",
    "print('\\t age transmission discount: {:1.3f}'.format(opt_age_transmission_discount))"
   ]
  },
  {
   "cell_type": "markdown",
   "metadata": {},
   "source": [
    "## Grid search"
   ]
  },
  {
   "cell_type": "markdown",
   "metadata": {},
   "source": [
    "### Create calibration parameter grid"
   ]
  },
  {
   "cell_type": "code",
   "execution_count": 51,
   "metadata": {},
   "outputs": [],
   "source": [
    "## grid of parameters that need to be calibrated\n",
    "# the contact weight is the modifier by which the base transmission risk (for\n",
    "# household transmissions) is multiplied for contacts of type \"intermediate\" \n",
    "# and of type \"far\". Parameter values are chosen around the optimum from the\n",
    "# previous random sampling search\n",
    "intermediate_contact_weights = [0.825, 0.875]\n",
    "far_contact_weights = [0.725, 0.75]\n",
    "\n",
    "# the age_transmission_discount sets the slope of the age-dependence of the \n",
    "# transmission risk. Transmission risk for adults (age 18+) is always base \n",
    "# transmission risk. For every year an agent is younger than 18 years, the\n",
    "# transmission risk is reduced. Parameter values are chosen around the optimum \n",
    "# from the previous random sampling search\n",
    "age_transmission_discounts = [-0.015,-0.0175,-0.0225,-0.025,-0.0275]\n",
    "\n",
    "# list of all possible parameter combinations from the grid\n",
    "params = [(i, j, k) for i in intermediate_contact_weights \\\n",
    "                    for j in far_contact_weights\\\n",
    "                    for k in age_transmission_discounts if i > j]"
   ]
  },
  {
   "cell_type": "markdown",
   "metadata": {},
   "source": [
    "### Run the sampling"
   ]
  },
  {
   "cell_type": "code",
   "execution_count": 52,
   "metadata": {},
   "outputs": [
    {
     "data": {
      "application/vnd.jupyter.widget-view+json": {
       "model_id": "e40ae5d19b6b4645b55d1f87e751c3ed",
       "version_major": 2,
       "version_minor": 0
      },
      "text/plain": [
       "IntProgress(value=0, max=120)"
      ]
     },
     "metadata": {},
     "output_type": "display_data"
    }
   ],
   "source": [
    "# paths for data I/O\n",
    "contact_network_src = '../../data/calibration/contact_networks'\n",
    "dst = '../../data/calibration/simulation_results'\n",
    "\n",
    "school_types = ['primary', 'primary_dc', 'lower_secondary',\n",
    "                'lower_secondary_dc', 'upper_secondary', 'secondary']\n",
    "\n",
    "# number of runs per ensemble\n",
    "# Note: this is set to 1 for testing purposes. To get properly converged \n",
    "# statistics, this has to be >= 500. Running such a high number of simulations\n",
    "# will take a long time if run on just a single core. Therefore I strongly\n",
    "# recommend to run the below code on several cores at once. It is easy to\n",
    "# parallelize as each ensemble can be run on a different core and there are\n",
    "# no interdependencies between ensembles. Results can be collected afterwards\n",
    "# and evaulated together.\n",
    "N_runs = 1\n",
    "\n",
    "# progress bar\n",
    "f = IntProgress(min=0, max=len(school_types) * len(params)) \n",
    "display(f)\n",
    "c = 0\n",
    "\n",
    "results = pd.DataFrame()\n",
    "for school_type in school_types:\n",
    "    for p in params:\n",
    "        # get the randomly sampled parameter combination\n",
    "        intermediate_contact_weight, far_contact_weight,\\\n",
    "            age_transmission_discount = p\n",
    "        \n",
    "        # run the ensemble with the given parameter combination and school type\n",
    "        ensemble_results = cf.run_ensemble(N_runs, school_type,\n",
    "                  intermediate_contact_weight, far_contact_weight, \n",
    "                  age_transmission_discount, prevention_measures,\n",
    "                  school_characteristics, agent_index_ratios,\n",
    "                  simulation_params, contact_network_src)\n",
    "\n",
    "        # calculate the difference between the ensemble characteristics\n",
    "        # (outbreak distribution, ratio of student to teacher cases)\n",
    "        row = cf.evaluate_ensemble(ensemble_results, school_type,\n",
    "                  intermediate_contact_weight, far_contact_weight,\n",
    "                  age_transmission_discount, outbreak_sizes,\n",
    "                  group_distributions)\n",
    "\n",
    "        results = results.append(row, ignore_index=True)\n",
    "        \n",
    "        f.value = c\n",
    "        c += 1 # update progress bar\n",
    "\n",
    "results.reset_index()\n",
    "index_cols = ['school_type', 'intermediate_contact_weight',\n",
    "              'far_contact_weight', 'age_transmission_discount']\n",
    "other_cols = [c for c in results.columns if c not in index_cols]\n",
    "results = results[index_cols + other_cols]\n",
    "\n",
    "# combine the results from the random sampling with the grid results\n",
    "#random_results = pd.read_csv(join(dst, 'calibration_results_random_sampling.csv'))\n",
    "#results = pd.concat([random_results, results])\n",
    "#results.to_csv(join(dst, 'calibration_results_grid_search.csv'), index=False)"
   ]
  },
  {
   "cell_type": "markdown",
   "metadata": {},
   "source": [
    "### Analyze the grid search"
   ]
  },
  {
   "cell_type": "code",
   "execution_count": 46,
   "metadata": {},
   "outputs": [
    {
     "data": {
      "text/html": [
       "<div>\n",
       "<style scoped>\n",
       "    .dataframe tbody tr th:only-of-type {\n",
       "        vertical-align: middle;\n",
       "    }\n",
       "\n",
       "    .dataframe tbody tr th {\n",
       "        vertical-align: top;\n",
       "    }\n",
       "\n",
       "    .dataframe thead th {\n",
       "        text-align: right;\n",
       "    }\n",
       "</style>\n",
       "<table border=\"1\" class=\"dataframe\">\n",
       "  <thead>\n",
       "    <tr style=\"text-align: right;\">\n",
       "      <th></th>\n",
       "      <th>age_transmission_discount</th>\n",
       "      <th>chi2_distance_distro</th>\n",
       "      <th>chi2_distance_size</th>\n",
       "      <th>chi2_distance_total</th>\n",
       "      <th>far_contact_weight</th>\n",
       "      <th>intermediate_contact_weight</th>\n",
       "      <th>school_type</th>\n",
       "      <th>sum_of_squares_distro</th>\n",
       "      <th>sum_of_squares_size</th>\n",
       "      <th>sum_of_squares_total</th>\n",
       "    </tr>\n",
       "  </thead>\n",
       "  <tbody>\n",
       "    <tr>\n",
       "      <th>0</th>\n",
       "      <td>-0.02</td>\n",
       "      <td>0.090392</td>\n",
       "      <td>0.080200</td>\n",
       "      <td>0.170592</td>\n",
       "      <td>0.15</td>\n",
       "      <td>0.45</td>\n",
       "      <td>primary</td>\n",
       "      <td>0.133439</td>\n",
       "      <td>0.101209</td>\n",
       "      <td>0.234648</td>\n",
       "    </tr>\n",
       "    <tr>\n",
       "      <th>1</th>\n",
       "      <td>-0.02</td>\n",
       "      <td>0.061329</td>\n",
       "      <td>0.007015</td>\n",
       "      <td>0.068345</td>\n",
       "      <td>0.70</td>\n",
       "      <td>0.95</td>\n",
       "      <td>primary</td>\n",
       "      <td>0.090537</td>\n",
       "      <td>0.007860</td>\n",
       "      <td>0.098396</td>\n",
       "    </tr>\n",
       "    <tr>\n",
       "      <th>2</th>\n",
       "      <td>-0.04</td>\n",
       "      <td>0.078039</td>\n",
       "      <td>0.046071</td>\n",
       "      <td>0.124110</td>\n",
       "      <td>0.10</td>\n",
       "      <td>0.85</td>\n",
       "      <td>primary</td>\n",
       "      <td>0.115204</td>\n",
       "      <td>0.057563</td>\n",
       "      <td>0.172767</td>\n",
       "    </tr>\n",
       "  </tbody>\n",
       "</table>\n",
       "</div>"
      ],
      "text/plain": [
       "   age_transmission_discount  chi2_distance_distro  chi2_distance_size  \\\n",
       "0                      -0.02              0.090392            0.080200   \n",
       "1                      -0.02              0.061329            0.007015   \n",
       "2                      -0.04              0.078039            0.046071   \n",
       "\n",
       "   chi2_distance_total  far_contact_weight  intermediate_contact_weight  \\\n",
       "0             0.170592                0.15                         0.45   \n",
       "1             0.068345                0.70                         0.95   \n",
       "2             0.124110                0.10                         0.85   \n",
       "\n",
       "  school_type  sum_of_squares_distro  sum_of_squares_size  \\\n",
       "0     primary               0.133439             0.101209   \n",
       "1     primary               0.090537             0.007860   \n",
       "2     primary               0.115204             0.057563   \n",
       "\n",
       "   sum_of_squares_total  \n",
       "0              0.234648  \n",
       "1              0.098396  \n",
       "2              0.172767  "
      ]
     },
     "execution_count": 46,
     "metadata": {},
     "output_type": "execute_result"
    }
   ],
   "source": [
    "# load the collected ensemble statistics\n",
    "dst = '../../data/calibration/simulation_results'\n",
    "grid_results = pd.read_csv(join(dst, 'calibration_results_grid_search.csv'))\n",
    "grid_results.head(3)"
   ]
  },
  {
   "cell_type": "code",
   "execution_count": 47,
   "metadata": {},
   "outputs": [],
   "source": [
    "counts = pd.DataFrame({'type':['primary', 'primary_dc', \n",
    "                               'lower_secondary', 'lower_secondary_dc',\n",
    "                               'upper_secondary', 'secondary'],\n",
    "                      'count':[33.5, 33.5, 90, 90, 116, 70]})\n",
    "counts.index = counts['type']\n",
    "counts = counts.drop(columns=['type'])\n",
    "counts['weight'] = counts['count'] / counts['count'].sum()\n",
    "grid_results['chi2_distance_total_weighted'] = grid_results['chi2_distance_total']\n",
    "weights = []\n",
    "for i, row in grid_results.iterrows():\n",
    "    st = row['school_type']\n",
    "    weight = counts.loc[st, 'weight']\n",
    "    error = row['chi2_distance_total']\n",
    "    grid_results.loc[i, 'chi2_distance_total_weighted'] = error * weight"
   ]
  },
  {
   "cell_type": "code",
   "execution_count": 49,
   "metadata": {},
   "outputs": [
    {
     "name": "stdout",
     "output_type": "stream",
     "text": [
      "optimal grid search parameter combination:\n",
      "\t intermediate contact weight: -0.020\n",
      "\t far contact weight: 0.850\n",
      "\t age transmission discount: 0.750\n"
     ]
    }
   ],
   "source": [
    "agg_results = grid_results.groupby(['age_transmission_discount', 'intermediate_contact_weight',\n",
    "                 'far_contact_weight']).sum()\n",
    "opt = agg_results.loc[agg_results['chi2_distance_total_weighted'].idxmin()].name\n",
    "opt_intermediate_contact_weight = opt[0]\n",
    "opt_far_contact_weight = opt[1]\n",
    "opt_age_transmission_discount = opt[2]\n",
    "\n",
    "print('optimal grid search parameter combination:')\n",
    "print('\\t intermediate contact weight: {:1.3f}'.format(opt_intermediate_contact_weight))\n",
    "print('\\t far contact weight: {:1.3f}'.format(opt_far_contact_weight))\n",
    "print('\\t age transmission discount: {:1.3f}'.format(opt_age_transmission_discount))"
   ]
  }
 ],
 "metadata": {
  "kernelspec": {
   "display_name": "Python 3",
   "language": "python",
   "name": "python3"
  },
  "language_info": {
   "codemirror_mode": {
    "name": "ipython",
    "version": 3
   },
   "file_extension": ".py",
   "mimetype": "text/x-python",
   "name": "python",
   "nbconvert_exporter": "python",
   "pygments_lexer": "ipython3",
   "version": "3.8.8"
  }
 },
 "nbformat": 4,
 "nbformat_minor": 4
}
