{
 "cells": [
  {
   "cell_type": "markdown",
   "id": "aggressive-organization",
   "metadata": {},
   "source": [
    "# Visualize epidemiological parameters"
   ]
  },
  {
   "cell_type": "code",
   "execution_count": 1,
   "id": "convinced-gregory",
   "metadata": {},
   "outputs": [],
   "source": [
    "import numpy as np\n",
    "import matplotlib.pyplot as plt\n",
    "import networkx as nx\n",
    "import pandas as pd\n",
    "from mesa.batchrunner import BatchRunner\n",
    "from os.path import join\n",
    "from itertools import product\n",
    "\n",
    "from scseirx.model_school import SEIRX_school # agent-based simulation\n",
    "from scseirx import analysis_functions as af # custom analysis functions"
   ]
  },
  {
   "cell_type": "code",
   "execution_count": 2,
   "id": "behavioral-punishment",
   "metadata": {},
   "outputs": [],
   "source": [
    "school_characteristics = {\n",
    "    # Volksschule: Schulen: 3033, Klassen: 18245, Schüler*innen: 339382\n",
    "    'primary':            {'classes':8, 'students':19, 'floors':1},\n",
    "    'primary_dc':         {'classes':8, 'students':19, 'floors':1},\n",
    "    \n",
    "    # Hauptschulen: 47, Klassen 104, Schüler*innen: 1993\n",
    "    # Neue Mittelschule: Schulen 1131, Klassen: 10354, Schüler*innen: 205905\n",
    "    # Sonderschulen: 292, Klassen: 1626, Schüler*innen: 14815\n",
    "    # Gesamt: Schulen: 1470, Klassen: 12084, Schüler*innen: 222713\n",
    "    'lower_secondary':    {'classes':8, 'students':18, 'floors':1},\n",
    "    'lower_secondary_dc': {'classes':8, 'students':18, 'floors':1},\n",
    "    \n",
    "    # Oberstufenrealgymnasium: Schulen 114, Klassen 1183, Schüler*innen: 26211\n",
    "    # BMHS: schulen 734, Klassen 8042, Schüler*innen 187592\n",
    "    # Gesamt: Schulen: 848, Klassen 9225, Schüler*innen: 213803\n",
    "    'upper_secondary':    {'classes':10, 'students':23, 'floors':1}, # rounded down from 10.8 classes\n",
    "    \n",
    "    # AHS Langform: Schulen 281, Klassen 7610, schüler*innen 179633\n",
    "    'secondary':          {'classes':28, 'students':24, 'floors':1}, # rounded up from 27.1 classes\n",
    "    'secondary_dc':       {'classes':28, 'students':24, 'floors':1} # rounded up from 27.1 classes\n",
    "}"
   ]
  },
  {
   "cell_type": "code",
   "execution_count": 3,
   "id": "respected-comparative",
   "metadata": {},
   "outputs": [],
   "source": [
    "school_type = 'secondary'"
   ]
  },
  {
   "cell_type": "code",
   "execution_count": 4,
   "id": "gentle-reading",
   "metadata": {},
   "outputs": [],
   "source": [
    "school = {'type':school_type,\n",
    "          'classes':school_characteristics[school_type]['classes'],\n",
    "          'students':school_characteristics[school_type]['students'],\n",
    "          'floors':school_characteristics[school_type]['floors']}\n",
    "\n",
    "school_path = '../data/contact_networks/{}'.format(school_type)"
   ]
  },
  {
   "cell_type": "code",
   "execution_count": 8,
   "id": "nominated-bhutan",
   "metadata": {},
   "outputs": [],
   "source": [
    "school = {'type':school_type,\n",
    "          'classes':8,\n",
    "          'students':10,\n",
    "          'floors':1}\n",
    "\n",
    "school_path = '../../data/contact_networks/representative_schools/primary'"
   ]
  },
  {
   "cell_type": "code",
   "execution_count": 10,
   "id": "quiet-league",
   "metadata": {},
   "outputs": [],
   "source": [
    "N_steps = 100\n",
    "verbosity = 0\n",
    "seed = 11\n",
    "\n",
    "G = nx.readwrite.gpickle.read_gpickle(\\\n",
    "            join(school_path, 'primary_classes-8_students-19_network.bz2'))\n",
    "\n",
    "testing = 'preventive'\n",
    "index_case = 'teacher'\n",
    "preventive_screening_test_type = 'same_day_antigen0.4'\n",
    "diagnostic_test_type = 'two_day_PCR'\n",
    "s_screen_interval = 3\n",
    "t_screen_interval = 3\n",
    "half_classes = False\n",
    "student_mask = False\n",
    "teacher_mask = False\n",
    "mask_filter_efficiency  = {'exhale':0.5, 'inhale':0.7}\n",
    "transmission_risk_ventilation_modifier = 1\n",
    "\n",
    "agent_types = {\n",
    "        'student':{\n",
    "            'screening_interval': s_screen_interval,\n",
    "            'index_probability': 0,\n",
    "            'mask':student_mask,\n",
    "            'voluntary_testing_rate':0.10},\n",
    "    \n",
    "        'teacher':{\n",
    "            'screening_interval': t_screen_interval,\n",
    "            'index_probability': 0,\n",
    "            'mask':teacher_mask,\n",
    "            'voluntary_testing_rate':0.10},\n",
    "    \n",
    "        'family_member':{\n",
    "            'screening_interval': None,\n",
    "            'index_probability': 0,\n",
    "            'mask':False,\n",
    "            'voluntary_testing_rate':1}\n",
    "}\n",
    "\n",
    "model = SEIRX_school(G, verbosity, \n",
    "              base_transmission_risk = 0.0737411844049918 * 10,\n",
    "              testing = testing,\n",
    "              diagnostic_test_type = diagnostic_test_type,\n",
    "              preventive_screening_test_type = preventive_screening_test_type,\n",
    "              infection_risk_contact_type_weights={\n",
    "                    'very_far': 0.1, 'far': 0.75,\\\n",
    "                    'intermediate': 0.85, 'close': 1},\n",
    "              index_case = index_case,\n",
    "              subclinical_modifier = 0.6,\n",
    "              exposure_duration = [5, 1.9],\n",
    "              time_until_symptoms = [6.4, 0.8],\n",
    "              infection_duration = [10.91, 3.95],\n",
    "              follow_up_testing_interval = None,\n",
    "              agent_types = agent_types, \n",
    "              age_transmission_risk_discount = {'slope':-0.05, 'intercept':1},\n",
    "              age_symptom_modification = {'slope':-0.02545, 'intercept':0.854545},\n",
    "              mask_filter_efficiency = mask_filter_efficiency,\n",
    "              transmission_risk_ventilation_modifier = transmission_risk_ventilation_modifier,\n",
    "              seed=seed)"
   ]
  },
  {
   "cell_type": "code",
   "execution_count": 11,
   "id": "approved-holly",
   "metadata": {},
   "outputs": [],
   "source": [
    "def weibull_two_param(shape, scale):\n",
    "    '''\n",
    "    A two-parameter Weibull distribution, based on numpy ramdon's single \n",
    "    parameter distribution. We use this distribution in the simulation to draw\n",
    "    random epidemiological parameters for agents from the given distribution\n",
    "    See https://numpy.org/doc/stable/reference/random/generated/numpy.random.weibull.html\n",
    "    '''\n",
    "    return scale * np.random.weibull(shape)"
   ]
  },
  {
   "cell_type": "code",
   "execution_count": 12,
   "id": "knowing-addition",
   "metadata": {},
   "outputs": [],
   "source": [
    "exposure_duration = []\n",
    "time_until_symptoms = []\n",
    "infection_duration = []\n",
    "for i in range(10000):\n",
    "    tmp_epi_params = {}\n",
    "    # for each of the three epidemiological parameters, check if\n",
    "    # the parameter is an integer (if yes, pass it directly to the\n",
    "    # agent constructor), or if it is specified by the shape and \n",
    "    # scale parameters of a Weibull distribution. In the latter \n",
    "    # case, draw a new number for every agent from the distribution\n",
    "    # NOTE: parameters drawn from the distribution are rounded to\n",
    "    # the nearest integer\n",
    "    while True:\n",
    "        for param_name, param in model.epi_params.items():\n",
    "            if isinstance(param, int):\n",
    "                tmp_epi_params[param_name] = param\n",
    "\n",
    "            else:\n",
    "                tmp_epi_params[param_name] = \\\n",
    "                    round(weibull_two_param(param[0], param[1]))\n",
    "\n",
    "        if tmp_epi_params['exposure_duration'] > 0 and \\\n",
    "           tmp_epi_params['time_until_symptoms'] >= \\\n",
    "           tmp_epi_params['exposure_duration'] and\\\n",
    "           tmp_epi_params['infection_duration'] > \\\n",
    "           tmp_epi_params['exposure_duration']:\n",
    "           break\n",
    "        else:\n",
    "            model.param_rerolls += 1\n",
    "            if verbosity > 1:\n",
    "                print('pathological epi-param case found!')\n",
    "                print(tmp_epi_params)\n",
    "                \n",
    "    exposure_duration.append(tmp_epi_params['exposure_duration'])\n",
    "    time_until_symptoms.append(tmp_epi_params['time_until_symptoms'])\n",
    "    infection_duration.append(tmp_epi_params['infection_duration'])"
   ]
  },
  {
   "cell_type": "code",
   "execution_count": 13,
   "id": "greek-question",
   "metadata": {},
   "outputs": [
    {
     "data": {
      "image/png": "[encoded data removed]",
      "text/plain": [
       "<Figure size 792x216 with 3 Axes>"
      ]
     },
     "metadata": {
      "needs_background": "light"
     },
     "output_type": "display_data"
    }
   ],
   "source": [
    "fig, axes = plt.subplots(1, 3, figsize=(11, 3))\n",
    "fig.subplots_adjust(wspace=0.3)\n",
    "max_bins = [11, 11, 26]\n",
    "steps = [1, 1, 2]\n",
    "colors = ['#2471A3', '#C0392B', '#909497']\n",
    "xticks = [range(0, 11, 2), range(0, 11, 2), range(0, 26, 5)]\n",
    "labels = ['exposure duration\\n', 'incubation time\\n', 'infection duration\\n']\n",
    "ymaxes = [0.25, 0.5, 0.12]\n",
    "\n",
    "for ax, max_bin, step, color, xtick, label, ymax, param in zip(axes, max_bins, steps, colors,\\\n",
    "    xticks, labels, ymaxes, [exposure_duration, time_until_symptoms, infection_duration]):\n",
    "    ax.hist(param, bins=range(0, max_bin, step), rwidth=0.8, color=color,\n",
    "            density=True, align='left')\n",
    "    ax.set_xticks(xtick)\n",
    "    ax.spines['right'].set_visible(False)\n",
    "    ax.spines['top'].set_visible(False)\n",
    "    ax.set_title(label)\n",
    "    ax.set_ylabel('pdf')\n",
    "    ax.set_xlabel('days')\n",
    "    ax.set_ylim(0, ymax)\n",
    "\n",
    "fig.tight_layout()\n",
    "fig.text(0.062, 0.9, 'A', fontsize=12, fontweight='bold')\n",
    "fig.text(0.39, 0.9, 'B', fontsize=12, fontweight='bold')\n",
    "fig.text(0.7162, 0.9, 'C', fontsize=12, fontweight='bold')\n",
    "plt.savefig('../../plots/epi_param_distributions.pdf')\n",
    "plt.savefig('../../plots/epi_param_distributions.svg')\n",
    "plt.savefig('../../plots/epi_param_distributions.png', dpi=300)"
   ]
  }
 ],
 "metadata": {
  "kernelspec": {
   "display_name": "Python 3",
   "language": "python",
   "name": "python3"
  },
  "language_info": {
   "codemirror_mode": {
    "name": "ipython",
    "version": 3
   },
   "file_extension": ".py",
   "mimetype": "text/x-python",
   "name": "python",
   "nbconvert_exporter": "python",
   "pygments_lexer": "ipython3",
   "version": "3.8.8"
  }
 },
 "nbformat": 4,
 "nbformat_minor": 5
}
