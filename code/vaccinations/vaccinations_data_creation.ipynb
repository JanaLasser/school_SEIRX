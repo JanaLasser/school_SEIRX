{
 "cells": [
  {
   "cell_type": "markdown",
   "id": "hawaiian-instruction",
   "metadata": {},
   "source": [
    "# Testing vaccinated and unvaccinated population outcomes"
   ]
  },
  {
   "cell_type": "markdown",
   "id": "weekly-converter",
   "metadata": {},
   "source": [
    "**Note:** Vaccination scenarios operate under the assumption that the delta variant is dominant."
   ]
  },
  {
   "cell_type": "code",
   "execution_count": 46,
   "id": "equivalent-pressing",
   "metadata": {},
   "outputs": [],
   "source": [
    "import pandas as pd\n",
    "import numpy as np\n",
    "from os.path import join\n",
    "import os\n",
    "import json\n",
    "import seaborn as sns\n",
    "import matplotlib.pyplot as plt\n",
    "\n",
    "from scseirx import analysis_functions as af\n",
    "\n",
    "import data_creation_functions as dcf\n",
    "\n",
    "# parallelisation functionality\n",
    "from multiprocess import Pool\n",
    "import psutil\n",
    "from tqdm import tqdm"
   ]
  },
  {
   "cell_type": "markdown",
   "id": "persistent-victor",
   "metadata": {},
   "source": [
    "Vaccine effectiveness against Delta (see [Pouwels et al. 2021](https://www.ndm.ox.ac.uk/files/coronavirus/covid-19-infection-survey/finalfinalcombinedve20210816.pdf))\n",
    "* 67% effectiveness against infection 14 days after second dose of Astra Zeneca (ChAdOx1)\n",
    "* 80% effectiveness against infection 21 days after second dose of Biontech Pfizer (BNT162b2)\n",
    "* Viral load of vaccinated infected people seems to be similar to unvaccinated infected people ([CDC 2021](https://www.cdc.gov/mmwr/volumes/70/wr/mm7031e2.htm)).\n",
    "* Vaccine effectiveness seems to drop over time ([Pouwels et al. 2021](https://www.ndm.ox.ac.uk/files/coronavirus/covid-19-infection-survey/finalfinalcombinedve20210816.pdf)) (78% effectiveness against high viral load after 90 days for Biontech Pfizer and 61% effectiveness against high viral load after 90 days for Astra Zeneca). Go for 60% effectiveness against infection and 0% effectiveness against further gransmission to be conservative. "
   ]
  },
  {
   "cell_type": "markdown",
   "id": "nominated-soldier",
   "metadata": {},
   "source": [
    "## Simulation settings"
   ]
  },
  {
   "cell_type": "code",
   "execution_count": 48,
   "id": "interracial-documentary",
   "metadata": {},
   "outputs": [],
   "source": [
    "with open('params/vaccinations_measures.json', 'r') as fp:\n",
    "    measures = json.load(fp)\n",
    "with open('params/vaccinations_simulation_parameters.json', 'r') as fp:\n",
    "    simulation_params = json.load(fp)\n",
    "with open('params/vaccinations_school_characteristics.json', 'r') as fp:\n",
    "    school_characteristics = json.load(fp)"
   ]
  },
  {
   "cell_type": "markdown",
   "id": "accomplished-cable",
   "metadata": {},
   "source": [
    "## Simulation function"
   ]
  },
  {
   "cell_type": "code",
   "execution_count": 49,
   "id": "dynamic-adult",
   "metadata": {},
   "outputs": [],
   "source": [
    "def run(params):\n",
    "    '''\n",
    "    Runs an ensemble of simulations and collects observable statistics. To be \n",
    "    run in parallel on many workers. Note: I/O paths and the number of runs per \n",
    "    ensemble hare hard coded here, because I only want to pass the parameter \n",
    "    values that are being screened in the simulation run to the function via the\n",
    "    parallel processing interface.\n",
    "    \n",
    "    Parameters:\n",
    "    -----------\n",
    "    param_list : iterable\n",
    "        Iterable that contains the values for the parameters test_type, \n",
    "        index_case, e_screen_range and r_screen_range that are passed to the\n",
    "        simulation.\n",
    "        \n",
    "    Returns:\n",
    "    --------\n",
    "    row : dictionary\n",
    "        Dictionary of the ensemble statistics of the observables.\n",
    "    '''    \n",
    "\n",
    "    # extract the simulation parameters from the parameter list\n",
    "    N_runs, school_type, index_case, ttype, s_screen_interval, t_screen_interval,\\\n",
    "        student_mask, teacher_mask, half_classes, ventilation_mod,\\\n",
    "        student_vaccination_ratio, teacher_vaccination_ratio = params\n",
    "    \n",
    "    try:\n",
    "        os.mkdir(join(dst, school_type))\n",
    "    except FileExistsError:\n",
    "        pass\n",
    "\n",
    "    # run the ensemble with the given parameter combination and school type\n",
    "    ensmbl_results = dcf.run_ensemble(N_runs, school_type, measures,\\\n",
    "            simulation_params, school_characteristics, contact_network_src,\\\n",
    "            dst, index_case, ttype, s_screen_interval, t_screen_interval,\\\n",
    "            student_mask, teacher_mask, half_classes, ventilation_mod,\n",
    "             student_vaccination_ratio, teacher_vaccination_ratio)\n",
    "    \n",
    "    ensmbl_results['school_type'] = school_type\n",
    "    ensmbl_results['index_case'] = index_case\n",
    "    ensmbl_results['test_type'] = ttype\n",
    "    ensmbl_results['student_screen_interval'] = s_screen_interval\n",
    "    ensmbl_results['teacher_screen_interval'] = t_screen_interval\n",
    "    ensmbl_results['student_mask'] = student_mask\n",
    "    ensmbl_results['teacher_mask'] = teacher_mask\n",
    "    ensmbl_results['half_classes'] = half_classes\n",
    "    ensmbl_results['ventilation_mod'] = ventilation_mod\n",
    "    ensmbl_results['student_vaccination_ratio'] = student_vaccination_ratio\n",
    "    ensmbl_results['teacher_vaccination_ratio'] = teacher_vaccination_ratio\n",
    "    \n",
    "    return ensmbl_results"
   ]
  },
  {
   "cell_type": "markdown",
   "id": "lightweight-debut",
   "metadata": {},
   "source": [
    "## Screening parameters"
   ]
  },
  {
   "cell_type": "code",
   "execution_count": 66,
   "id": "improving-quarter",
   "metadata": {},
   "outputs": [
    {
     "name": "stdout",
     "output_type": "stream",
     "text": [
      "there are 3456 different parameter combinations\n"
     ]
    }
   ],
   "source": [
    "## parameter ranges \n",
    "\n",
    "# number of runs in the ensemble\n",
    "# Note: this is set to 1 for testing purposes. To get properly converged \n",
    "# statistics, this has to be >= 500. Running such a high number of simulations\n",
    "# will take a long time if run on just a single core. Therefore I strongly\n",
    "# recommend to run the below code on several cores at once. It is easy to\n",
    "# parallelize as each ensemble can be run on a different core and there are\n",
    "# no interdependencies between ensembles. Results can be collected afterwards\n",
    "# and evaulated together.\n",
    "N_runs = 10\n",
    "# different school types\n",
    "school_types = ['primary', 'primary_dc', 'lower_secondary',\n",
    "                'lower_secondary_dc', 'upper_secondary', 'secondary']\n",
    "# specifies whether the index case will be introduced via an\n",
    "# employee or a resident\n",
    "index_cases = ['student', 'teacher']\n",
    "# test technologies (and test result turnover times) used in the\n",
    "# different scenarios\n",
    "test_types = ['same_day_antigen']\n",
    "# student and teacher streening intervals (in days)\n",
    "s_screen_range = [None, 3, 7]\n",
    "t_screen_range = [None, 3, 7]\n",
    "# specifies whether teachers wear masks\n",
    "student_masks = [True, False]\n",
    "teacher_masks = [True, False]\n",
    "half_classes = [True, False]\n",
    "# specifies whether there is ventilation or not\n",
    "transmission_risk_ventilation_modifiers = [1, 0.36]\n",
    "# specifies the ratio of vaccinated students \n",
    "student_vaccination_ratios = [0.0, 0.5]\n",
    "# specifies the ratio of vaccinated teachers\n",
    "teacher_vaccination_ratios = [0.5]\n",
    "\n",
    "params = [(N_runs, i, j, k, l, m, n, o, p, q, r, s)\\\n",
    "              for i in school_types \\\n",
    "              for j in index_cases \\\n",
    "              for k in test_types \\\n",
    "              for l in s_screen_range \\\n",
    "              for m in t_screen_range \\\n",
    "              for n in student_masks \\\n",
    "              for o in teacher_masks \\\n",
    "              for p in half_classes \\\n",
    "              for q in transmission_risk_ventilation_modifiers \\\n",
    "              for r in student_vaccination_ratios \\\n",
    "              for s in teacher_vaccination_ratios]\n",
    "\n",
    "N_configs = len(params)\n",
    "print('there are {} different parameter combinations'.format(N_configs))"
   ]
  },
  {
   "cell_type": "code",
   "execution_count": 62,
   "id": "friendly-postage",
   "metadata": {},
   "outputs": [
    {
     "name": "stderr",
     "output_type": "stream",
     "text": [
      "100%|██████████| 18/18 [00:27<00:00,  1.55s/it]\n"
     ]
    },
    {
     "name": "stdout",
     "output_type": "stream",
     "text": [
      "CPU times: user 184 ms, sys: 107 ms, total: 292 ms\n",
      "Wall time: 28 s\n"
     ]
    },
    {
     "data": {
      "text/html": [
       "<div>\n",
       "<style scoped>\n",
       "    .dataframe tbody tr th:only-of-type {\n",
       "        vertical-align: middle;\n",
       "    }\n",
       "\n",
       "    .dataframe tbody tr th {\n",
       "        vertical-align: top;\n",
       "    }\n",
       "\n",
       "    .dataframe thead th {\n",
       "        text-align: right;\n",
       "    }\n",
       "</style>\n",
       "<table border=\"1\" class=\"dataframe\">\n",
       "  <thead>\n",
       "    <tr style=\"text-align: right;\">\n",
       "      <th></th>\n",
       "      <th>index_case</th>\n",
       "      <th>student_vaccination_ratio</th>\n",
       "      <th>teacher_vaccination_ratio</th>\n",
       "      <th>N_diagnostic_tests</th>\n",
       "      <th>N_family_members</th>\n",
       "      <th>N_preventive_tests</th>\n",
       "      <th>N_school_agents</th>\n",
       "      <th>R0</th>\n",
       "      <th>diagnostic_test_detected_infections_family_member</th>\n",
       "      <th>diagnostic_test_detected_infections_student</th>\n",
       "      <th>...</th>\n",
       "      <th>run</th>\n",
       "      <th>seed</th>\n",
       "      <th>student_family_member_transmissions</th>\n",
       "      <th>student_student_transmissions</th>\n",
       "      <th>student_teacher_transmissions</th>\n",
       "      <th>teacher_student_transmissions</th>\n",
       "      <th>teacher_teacher_transmissions</th>\n",
       "      <th>tests_per_day_per_agent</th>\n",
       "      <th>transmissions</th>\n",
       "      <th>undetected_infections</th>\n",
       "    </tr>\n",
       "  </thead>\n",
       "  <tbody>\n",
       "    <tr>\n",
       "      <th>0</th>\n",
       "      <td>student</td>\n",
       "      <td>0.5</td>\n",
       "      <td>1.0</td>\n",
       "      <td>6.0</td>\n",
       "      <td>346.0</td>\n",
       "      <td>0.0</td>\n",
       "      <td>164.0</td>\n",
       "      <td>3.0</td>\n",
       "      <td>2.0</td>\n",
       "      <td>4.0</td>\n",
       "      <td>...</td>\n",
       "      <td>1.0</td>\n",
       "      <td>1.0</td>\n",
       "      <td>12.0</td>\n",
       "      <td>8.0</td>\n",
       "      <td>2.0</td>\n",
       "      <td>5.0</td>\n",
       "      <td>0.0</td>\n",
       "      <td>0.000546</td>\n",
       "      <td>30.0</td>\n",
       "      <td>0.0</td>\n",
       "    </tr>\n",
       "    <tr>\n",
       "      <th>1</th>\n",
       "      <td>student</td>\n",
       "      <td>0.5</td>\n",
       "      <td>1.0</td>\n",
       "      <td>14.0</td>\n",
       "      <td>346.0</td>\n",
       "      <td>0.0</td>\n",
       "      <td>164.0</td>\n",
       "      <td>4.0</td>\n",
       "      <td>8.0</td>\n",
       "      <td>6.0</td>\n",
       "      <td>...</td>\n",
       "      <td>2.0</td>\n",
       "      <td>2.0</td>\n",
       "      <td>34.0</td>\n",
       "      <td>29.0</td>\n",
       "      <td>2.0</td>\n",
       "      <td>3.0</td>\n",
       "      <td>1.0</td>\n",
       "      <td>0.000805</td>\n",
       "      <td>81.0</td>\n",
       "      <td>0.0</td>\n",
       "    </tr>\n",
       "    <tr>\n",
       "      <th>2</th>\n",
       "      <td>student</td>\n",
       "      <td>0.5</td>\n",
       "      <td>1.0</td>\n",
       "      <td>1.0</td>\n",
       "      <td>346.0</td>\n",
       "      <td>0.0</td>\n",
       "      <td>164.0</td>\n",
       "      <td>1.0</td>\n",
       "      <td>0.0</td>\n",
       "      <td>1.0</td>\n",
       "      <td>...</td>\n",
       "      <td>3.0</td>\n",
       "      <td>3.0</td>\n",
       "      <td>1.0</td>\n",
       "      <td>0.0</td>\n",
       "      <td>0.0</td>\n",
       "      <td>0.0</td>\n",
       "      <td>0.0</td>\n",
       "      <td>0.000359</td>\n",
       "      <td>1.0</td>\n",
       "      <td>0.0</td>\n",
       "    </tr>\n",
       "  </tbody>\n",
       "</table>\n",
       "<p>3 rows × 38 columns</p>\n",
       "</div>"
      ],
      "text/plain": [
       "  index_case  student_vaccination_ratio  teacher_vaccination_ratio  \\\n",
       "0    student                        0.5                        1.0   \n",
       "1    student                        0.5                        1.0   \n",
       "2    student                        0.5                        1.0   \n",
       "\n",
       "   N_diagnostic_tests  N_family_members  N_preventive_tests  N_school_agents  \\\n",
       "0                 6.0             346.0                 0.0            164.0   \n",
       "1                14.0             346.0                 0.0            164.0   \n",
       "2                 1.0             346.0                 0.0            164.0   \n",
       "\n",
       "    R0  diagnostic_test_detected_infections_family_member  \\\n",
       "0  3.0                                                2.0   \n",
       "1  4.0                                                8.0   \n",
       "2  1.0                                                0.0   \n",
       "\n",
       "   diagnostic_test_detected_infections_student  ...  run  seed  \\\n",
       "0                                          4.0  ...  1.0   1.0   \n",
       "1                                          6.0  ...  2.0   2.0   \n",
       "2                                          1.0  ...  3.0   3.0   \n",
       "\n",
       "   student_family_member_transmissions  student_student_transmissions  \\\n",
       "0                                 12.0                            8.0   \n",
       "1                                 34.0                           29.0   \n",
       "2                                  1.0                            0.0   \n",
       "\n",
       "   student_teacher_transmissions  teacher_student_transmissions  \\\n",
       "0                            2.0                            5.0   \n",
       "1                            2.0                            3.0   \n",
       "2                            0.0                            0.0   \n",
       "\n",
       "   teacher_teacher_transmissions  tests_per_day_per_agent  transmissions  \\\n",
       "0                            0.0                 0.000546           30.0   \n",
       "1                            1.0                 0.000805           81.0   \n",
       "2                            0.0                 0.000359            1.0   \n",
       "\n",
       "   undetected_infections  \n",
       "0                    0.0  \n",
       "1                    0.0  \n",
       "2                    0.0  \n",
       "\n",
       "[3 rows x 38 columns]"
      ]
     },
     "execution_count": 62,
     "metadata": {},
     "output_type": "execute_result"
    }
   ],
   "source": [
    "%%time\n",
    "# paths for data I/O\n",
    "contact_network_src = '../../data/contact_networks/representative_schools'\n",
    "dst = '../../data/vaccinations/testing'\n",
    "\n",
    "number_of_cores = psutil.cpu_count(logical=True) - 2\n",
    "pool = Pool(number_of_cores)\n",
    "\n",
    "results = pd.DataFrame()\n",
    "for ensmbl_results in tqdm(pool.imap_unordered(func=run, iterable=params),\n",
    "                           total=len(params)):\n",
    "    results = results.append(ensmbl_results, ignore_index=True)\n",
    "\n",
    "# turn off your parallel workers \n",
    "pool.close()\n",
    "    \n",
    "results = results.reset_index(drop=True)\n",
    "index_cols = ['school_type', 'index_case', 'test_type',\n",
    "              'student_screen_interval', 'teacher_screen_interval',\n",
    "              'student_mask', 'teacher_mask', 'half_classes',\n",
    "              'ventilation_mod', 'student_vaccination_ratio',\n",
    "              'teacher_vaccination_ratio']\n",
    "interesting_cols = ['index_case', 'student_vaccination_ratio', \n",
    "                    'teacher_vaccination_ratio']\n",
    "other_cols = [c for c in results.columns if c not in index_cols]\n",
    "results = results[interesting_cols + other_cols]\n",
    "\n",
    "results.to_csv(join(dst, 'vaccinations_{}.csv'\\\n",
    "                   .format(N_runs)), index=False)\n",
    "results.head(3)"
   ]
  },
  {
   "cell_type": "code",
   "execution_count": 52,
   "id": "informative-court",
   "metadata": {},
   "outputs": [],
   "source": [
    "def set_vaccination_scenario(row):\n",
    "    vaccination_scenario = 'student {:1.2f}\\nteacher {:1.2f}'\\\n",
    "    .format(row['student_vaccination_ratio'], row['teacher_vaccination_ratio'])\n",
    "    return vaccination_scenario"
   ]
  },
  {
   "cell_type": "code",
   "execution_count": 53,
   "id": "sealed-conversation",
   "metadata": {},
   "outputs": [],
   "source": [
    "dst = '../../data/vaccinations/testing'\n",
    "results = pd.read_csv(join(dst, 'vaccinations_{}.csv'.format(N_runs)))\n",
    "results['vaccination_scenario'] = results.apply(set_vaccination_scenario, axis=1)"
   ]
  },
  {
   "cell_type": "code",
   "execution_count": 54,
   "id": "surprised-qualification",
   "metadata": {},
   "outputs": [
    {
     "data": {
      "image/png": "[encoded data removed]",
      "text/plain": [
       "<Figure size 864x288 with 1 Axes>"
      ]
     },
     "metadata": {
      "needs_background": "light"
     },
     "output_type": "display_data"
    }
   ],
   "source": [
    "fig, ax = plt.subplots(figsize=(12, 4))\n",
    "sns.violinplot(x=\"vaccination_scenario\", y=\"transmissions\", hue=\"index_case\",\n",
    "                    data=results, palette=\"muted\", split=True, ax=ax)\n",
    "ax.tick_params(axis='x', labelsize=10)"
   ]
  },
  {
   "cell_type": "markdown",
   "id": "wrapped-cigarette",
   "metadata": {},
   "source": [
    "## Aggregate results"
   ]
  },
  {
   "cell_type": "code",
   "execution_count": 58,
   "id": "herbal-helicopter",
   "metadata": {},
   "outputs": [
    {
     "data": {
      "text/plain": [
       "<module 'data_creation_functions' from '/home/jana/Projects/COVID_schools/analysis/code/vaccinations/data_creation_functions.py'>"
      ]
     },
     "execution_count": 58,
     "metadata": {},
     "output_type": "execute_result"
    }
   ],
   "source": [
    "from importlib import reload\n",
    "reload(af)\n",
    "reload(dcf)"
   ]
  },
  {
   "cell_type": "code",
   "execution_count": 59,
   "id": "controversial-serum",
   "metadata": {
    "tags": []
   },
   "outputs": [
    {
     "name": "stdout",
     "output_type": "stream",
     "text": [
      "primary\n"
     ]
    }
   ],
   "source": [
    "src = '../../data/vaccinations/testing'\n",
    "for stype in school_types[0:1]:\n",
    "    print(stype)\n",
    "    data = dcf.get_data(stype, src)\n",
    "    data['measure'] = np.nan\n",
    "    dcf.set_individual_measures(data)\n",
    "    dcf.set_measure_packages(data)\n",
    "    #data.to_csv(join(dst, '{}_combined_ensembles.csv'.format(stype)), index=False)"
   ]
  },
  {
   "cell_type": "code",
   "execution_count": 60,
   "id": "placed-exclusive",
   "metadata": {},
   "outputs": [
    {
     "data": {
      "text/plain": [
       "Index(['N_diagnostic_tests', 'N_family_members', 'N_preventive_tests',\n",
       "       'N_school_agents', 'R0',\n",
       "       'diagnostic_test_detected_infections_family_member',\n",
       "       'diagnostic_test_detected_infections_student',\n",
       "       'diagnostic_test_detected_infections_teacher',\n",
       "       'diagnostic_tests_per_day_per_agent', 'duration',\n",
       "       'family_member_family_member_transmissions', 'infected_agents',\n",
       "       'infected_family_members', 'infected_students', 'infected_teachers',\n",
       "       'infected_without_transmissions', 'pending_test_infections',\n",
       "       'predetected_infections',\n",
       "       'preventive_test_detected_infections_family_member',\n",
       "       'preventive_test_detected_infections_student',\n",
       "       'preventive_test_detected_infections_teacher',\n",
       "       'preventive_tests_per_day_per_agent', 'quarantine_days_family_member',\n",
       "       'quarantine_days_student', 'quarantine_days_teacher', 'run', 'seed',\n",
       "       'student_family_member_transmissions', 'student_student_transmissions',\n",
       "       'student_teacher_transmissions', 'teacher_student_transmissions',\n",
       "       'teacher_teacher_transmissions', 'tests_per_day_per_agent',\n",
       "       'transmissions', 'undetected_infections', 'preventive_test_type',\n",
       "       'index_case', 'transmission_risk_ventilation_modifier', 'student_mask',\n",
       "       'teacher_mask', 'student_screening_interval',\n",
       "       'teacher_screening_interval', 'half_classes',\n",
       "       'teacher_vaccination_ratio', 'student_vaccination_ratio', 'measure'],\n",
       "      dtype='object')"
      ]
     },
     "execution_count": 60,
     "metadata": {},
     "output_type": "execute_result"
    }
   ],
   "source": [
    "data.columns"
   ]
  },
  {
   "cell_type": "code",
   "execution_count": 63,
   "id": "owned-heather",
   "metadata": {},
   "outputs": [
    {
     "data": {
      "text/plain": [
       "0      no\\nmeasure\n",
       "1      no\\nmeasure\n",
       "2      no\\nmeasure\n",
       "3      no\\nmeasure\n",
       "4      no\\nmeasure\n",
       "          ...     \n",
       "175    no\\nmeasure\n",
       "176    no\\nmeasure\n",
       "177    no\\nmeasure\n",
       "178    no\\nmeasure\n",
       "179    no\\nmeasure\n",
       "Name: measure, Length: 180, dtype: object"
      ]
     },
     "execution_count": 63,
     "metadata": {},
     "output_type": "execute_result"
    }
   ],
   "source": [
    "data['measure']"
   ]
  },
  {
   "cell_type": "code",
   "execution_count": null,
   "id": "about-navigator",
   "metadata": {},
   "outputs": [],
   "source": []
  }
 ],
 "metadata": {
  "kernelspec": {
   "display_name": "Python 3",
   "language": "python",
   "name": "python3"
  },
  "language_info": {
   "codemirror_mode": {
    "name": "ipython",
    "version": 3
   },
   "file_extension": ".py",
   "mimetype": "text/x-python",
   "name": "python",
   "nbconvert_exporter": "python",
   "pygments_lexer": "ipython3",
   "version": "3.8.8"
  }
 },
 "nbformat": 4,
 "nbformat_minor": 5
}
