{
 "cells": [
  {
   "cell_type": "markdown",
   "id": "connected-billy",
   "metadata": {},
   "source": [
    "# Parameters of the delta variant"
   ]
  },
  {
   "cell_type": "markdown",
   "id": "unknown-checklist",
   "metadata": {},
   "source": [
    "* Incubation period (time until symptoms): 4.4 +-1.9 days, see [Zhang et al. 2021](http://weekly.chinacdc.cn/cn/article/doi/10.46234/ccdcw2021.148) (wild type 6.4 +- 0.8 days)\n",
    "* Latent period (exposure duration): no published information available. Take the difference between incubation period and latent period in the wild type (1.4 days), subtract it from the delta incubation period and end up at 3 +- 1.9 days, with no modification to the standard deviation (wild type 5.0 +- 1.9 days).\n",
    "* Infection duration: coud not find published data for differences of Delta to the wild type. Keep an infection duration of 10.91 +- 3.95 days.\n",
    "* Delta is ~2 x more infectious than the wild type (reproductive number of ~5, WT was ~2.5). See [Liu and Rocklöv 2021](https://academic.oup.com/jtm/advance-article/doi/10.1093/jtm/taab124/6346388?login=true), [Campbell et al. 2021](https://www.eurosurveillance.org/content/10.2807/1560-7917.ES.2021.26.24.2100509). Therefore the calibrated base transmission risk is 0.073670 * 2 = 0.14734. This results is comparable with secondary attack rates of 13.5% ([Dagpunar et al. 2021](https://www.medrxiv.org/content/10.1101/2021.06.03.21258293v1.full.pdf), primary source Public Health England, \"SARS-CoV-2 variants of concern and variants under investigation in England\", technical briefing 12, 2021)."
   ]
  },
  {
   "cell_type": "code",
   "execution_count": null,
   "id": "powered-birmingham",
   "metadata": {},
   "outputs": [],
   "source": []
  }
 ],
 "metadata": {
  "kernelspec": {
   "display_name": "Python 3",
   "language": "python",
   "name": "python3"
  },
  "language_info": {
   "codemirror_mode": {
    "name": "ipython",
    "version": 3
   },
   "file_extension": ".py",
   "mimetype": "text/x-python",
   "name": "python",
   "nbconvert_exporter": "python",
   "pygments_lexer": "ipython3",
   "version": "3.8.8"
  }
 },
 "nbformat": 4,
 "nbformat_minor": 5
}
