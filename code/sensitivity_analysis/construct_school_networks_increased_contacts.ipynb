{
 "cells": [
  {
   "cell_type": "markdown",
   "metadata": {},
   "source": [
    "# Construct school interaction networks with increased between-class contacts"
   ]
  },
  {
   "cell_type": "code",
   "execution_count": 1,
   "metadata": {},
   "outputs": [],
   "source": [
    "import networkx as nx\n",
    "import pandas as pd\n",
    "from os.path import join\n",
    "\n",
    "# network construction utilities\n",
    "import construct_school_network as csn\n",
    "\n",
    "# for progress bars\n",
    "from ipywidgets import IntProgress\n",
    "from IPython.display import display\n",
    "import time"
   ]
  },
  {
   "cell_type": "markdown",
   "metadata": {},
   "source": [
    "In this script, contact networks of \"average\" Austrian schools, depending on school type are created. These characteristics (mean number of classes, mean students per class) were determined from [statistics about Austrian schools](https://www.bmbwf.gv.at/Themen/schule/schulsystem/gd.html) (year 2017/18, page 10) and confirmed in interviews with a range of Austrian teachers and school directors conducted in December 2020. The school types modeled here are\n",
    "* Primary schools (Volksschule), ```primary```\n",
    "* Primary schools with daycare (Volksschule mit Ganztagesbetreuung), ```primary_dc```\n",
    "* Lower secondary schools (Unterstufe), ```lower_secondary```\n",
    "* Lower secondary schools with daycare (Unterstufe mit Ganztagesbetreuung), ```lower_secondary_dc```\n",
    "* Upper secondary schools (Oberstufe), ```upper_secondary```\n",
    "* Secondary schools (Gymnasium), ```secondary```\n",
    "* Secondary schools with daycare (Gymnasium mit Ganztagesbetreuung), ```secondary_dc```  \n",
    "\n",
    "For every school type, one network is created.\n",
    "\n",
    "**NOTE**: A more detailed description about the design decisions entering the modeling of each school type can be found in the document ```school_type_documentation```. In the following, \"students\" always refers to the number of students per class.  "
   ]
  },
  {
   "cell_type": "markdown",
   "metadata": {},
   "source": [
    "## Background information"
   ]
  },
  {
   "cell_type": "markdown",
   "metadata": {},
   "source": [
    "### School characteristics"
   ]
  },
  {
   "cell_type": "markdown",
   "metadata": {},
   "source": [
    "Descriptive school statistics are taken from [statistics](https://www.bmbwf.gv.at/Themen/schule/schulsystem/gd.html) about Austrian schools from 2017/18 and from a series of stakeholder-interviews with Austrian teachers and school directors conducted in December 2020."
   ]
  },
  {
   "cell_type": "code",
   "execution_count": 2,
   "metadata": {},
   "outputs": [],
   "source": [
    "# different age structures in Austrian school types\n",
    "age_brackets = {'primary':[6, 7, 8, 9],\n",
    "                'primary_dc':[6, 7, 8, 9],\n",
    "                'lower_secondary':[10, 11, 12, 13],\n",
    "                'lower_secondary_dc':[10, 11, 12, 13],\n",
    "                'upper_secondary':[14, 15, 16, 17],\n",
    "                'secondary':[10, 11, 12, 13, 14, 15, 16, 17],\n",
    "                'secondary_dc':[10, 11, 12, 13, 14, 15, 16, 17]\n",
    "               }"
   ]
  },
  {
   "cell_type": "code",
   "execution_count": 3,
   "metadata": {},
   "outputs": [],
   "source": [
    "# average number of classes per school type and students per class\n",
    "school_characteristics = {\n",
    "    # Primary schools\n",
    "    # Volksschule: schools 3033, classes: 18245, students: 339382\n",
    "    'primary':            {'classes':8, 'students':19},\n",
    "    'primary_dc':         {'classes':8, 'students':19},\n",
    "    \n",
    "    # Lower secondary schools\n",
    "    # Hauptschule: schools 47, classes 104, students: 1993\n",
    "    # Mittelschule: schools 1131, classes: 10354, students: 205905\n",
    "    # Sonderschule: schools 292, classes: 1626, students: 14815\n",
    "    # Total: schools: 1470, classes: 12084, students: 222713\n",
    "    'lower_secondary':    {'classes':8, 'students':18},\n",
    "    'lower_secondary_dc': {'classes':8, 'students':18},\n",
    "    \n",
    "    # Upper secondary schools\n",
    "    # Oberstufenrealgymnasium: schools 114, classes 1183, students: 26211\n",
    "    # BMHS: schools 734, classes 8042, students 187592\n",
    "    # Total: schools: 848, classes 9225, students: 213803\n",
    "    'upper_secondary':    {'classes':10, 'students':23}, # rounded down from 10.8 classes\n",
    "    \n",
    "    # Secondary schools\n",
    "    # AHS Langform: schools 281, classes 7610, students 179633\n",
    "    'secondary':          {'classes':28, 'students':24}, # rounded up from 27.1 classes\n",
    "    'secondary_dc':       {'classes':28, 'students':24} # rounded up from 27.1 classes\n",
    "}"
   ]
  },
  {
   "cell_type": "markdown",
   "metadata": {},
   "source": [
    "### Characteristics of Austrian families"
   ]
  },
  {
   "cell_type": "markdown",
   "metadata": {},
   "source": [
    "Family sizes with children < 18 years old from the [Austrian microcensus 2019](https://www.statistik.at/web_de/statistiken/menschen_und_gesellschaft/bevoelkerung/haushalte_familien_lebensformen/familien/index.html) (Note: 63.45 % of all households have no children), file ```familien_nach_familientyp_und_zahl_der_kinder_ausgewaehlter_altersgruppen_```:\n",
    "\n",
    "* 1 child: 48.15 % (81.95 % two parents, 18.05 % single parents)\n",
    "* 2 children: 38.12 % (89.70 % two parents, 10.30% single parents)\n",
    "* 3 children: 10.69 % (88.26 % two parents, 11.74 % single parents)\n",
    "* 4 or more children: 3.04 % (87.44 % two parents, 12.56 % single parents)"
   ]
  },
  {
   "cell_type": "code",
   "execution_count": 4,
   "metadata": {},
   "outputs": [],
   "source": [
    "# given the precondition that the family has at least one child, how many\n",
    "# children does the family have?\n",
    "p_children = {1:0.4815, 2:0.3812, 3:0.1069, 4:0.0304}\n",
    "\n",
    "# probability of being a single parent, depending on the number of children\n",
    "p_parents = {1:{1:0.1805, 2:0.8195},\n",
    "             2:{1:0.1030, 2:0.8970},\n",
    "             3:{1:0.1174, 2:0.8826},\n",
    "             4:{1:0.1256, 2:0.8744}\n",
    "            }"
   ]
  },
  {
   "cell_type": "markdown",
   "metadata": {},
   "source": [
    "General household sizes of households with one family (2.51% of households have more than one family) [Austrain household statistics 2019](https://www.statistik.at/web_de/statistiken/menschen_und_gesellschaft/bevoelkerung/haushalte_familien_lebensformen/haushalte/index.html), files \n",
    "* ```ergebnisse_im_ueberblick_privathaushalte_1985_-_2019```\n",
    "* ```familien_nach_familientyp_und_zahl_der_kinder_ausgewaehlter_altersgruppen_``` \n",
    "\n",
    "Percentages:\n",
    "* single $\\frac{(3950 - 2388)}{3959}$ = 39.54 %\n",
    "* couple, no kids $\\frac{1001}{3959}$ = 25.28 % \n",
    "* single parent with one kid < 18: $\\frac{277}{3950} \\cdot \\frac{87.0}{137.4}$ = 4.44 %\n",
    "* single parent with two kids < 18: $\\frac{277}{3950} \\cdot \\frac{37.3}{137.4}$ = 1.9%\n",
    "* single parent with three or more kids < 18: $\\frac{277}{3950} \\cdot \\frac{13.1}{137.4}$ = 0.67%\n",
    "* couples with one kid < 18: $\\frac{1050}{3950} \\cdot \\frac{252.4}{606.7}$ = 11.06 %\n",
    "* couples with two kids < 18: $\\frac{1050}{3950} \\cdot \\frac{255.5}{606.7}$ = 11.19 %\n",
    "* couples with three or more kids <18: $\\frac{1050}{3950} \\cdot \\frac{98.9}{606.7}$ = 4.33 % \n",
    "* households with three adults (statistic: household with  kids > 18 years): 1.59 % "
   ]
  },
  {
   "cell_type": "code",
   "execution_count": 5,
   "metadata": {},
   "outputs": [],
   "source": [
    "# probability of a household having a certain size, independent of having a child\n",
    "teacher_p_adults = {1:0.4655, 2:0.5186, 3:0.0159}\n",
    "teacher_p_children = {1:{0:0.8495, 1:0.0953, 2:0.0408, 3:0.0144},\n",
    "                      2:{0:0.4874, 1:0.2133, 2:0.2158, 3:0.0835},\n",
    "                      3:{0:1, 1:0, 2:0, 3:0}}"
   ]
  },
  {
   "cell_type": "markdown",
   "metadata": {},
   "source": [
    "### Link type <-> contact type mapping"
   ]
  },
  {
   "cell_type": "markdown",
   "metadata": {},
   "source": [
    "The simulation relies on specified contact strengths (close, intermediate, far, very far) to determine infection risk. Nevertheless, depending on the setting, there are a multitude of different contacts (link types) between different agent groups and during different activities. The below dictionary provides a complete list of all link types that exist in the school setting, and a mapping of every link type to the corresponding contact type."
   ]
  },
  {
   "cell_type": "code",
   "execution_count": 6,
   "metadata": {},
   "outputs": [],
   "source": [
    "contact_map = {\n",
    "    'student_household':'close', \n",
    "    'student_student_intra_class':'far',\n",
    "    'student_student_table_neighbour':'intermediate',\n",
    "    'student_student_daycare':'far',\n",
    "    'student_student_friends':'intermediate',\n",
    "    'teacher_household':'close',\n",
    "    'teacher_teacher_short':'far', \n",
    "    'teacher_teacher_long':'intermediate',\n",
    "    'teacher_teacher_team_teaching':'intermediate',\n",
    "    'teacher_teacher_daycare_supervision':'intermediate',\n",
    "    'teaching_teacher_student':'intermediate',\n",
    "    'daycare_supervision_teacher_student':'intermediate'\n",
    "}\n",
    "# Note: student_student_daycare overwrites student_student_intra_class and\n",
    "# student_student_table_neighbour\n",
    "\n",
    "# Note: teacher_teacher_daycare_supervision and teacher_teacher_team_teaching \n",
    "# overwrite teacher_teacher_short and teacher_teacher_long"
   ]
  },
  {
   "cell_type": "markdown",
   "metadata": {},
   "source": [
    "### Teacher social contacts"
   ]
  },
  {
   "cell_type": "markdown",
   "metadata": {},
   "source": [
    "Network density scores from an [article about interactions between teachers](https://academic.oup.com/her/article/23/1/62/834723?login=true) for \"socialize with outside of school\" (```r_friend```) and \"engage in conversation regularly\" (```r_conversation```)."
   ]
  },
  {
   "cell_type": "code",
   "execution_count": 7,
   "metadata": {},
   "outputs": [],
   "source": [
    "r_teacher_friend = 0.059\n",
    "r_teacher_conversation = 0.255"
   ]
  },
  {
   "cell_type": "markdown",
   "metadata": {},
   "source": [
    "## Compose representative schools"
   ]
  },
  {
   "cell_type": "code",
   "execution_count": 9,
   "metadata": {},
   "outputs": [
    {
     "name": "stdout",
     "output_type": "stream",
     "text": [
      "primary\n",
      "0.05\n",
      "0.1\n",
      "0.15\n",
      "0.2\n",
      "0.25\n",
      "0.3\n",
      "0.35\n",
      "0.4\n",
      "primary_dc\n",
      "0.05\n",
      "0.1\n",
      "0.15\n",
      "0.2\n",
      "0.25\n",
      "0.3\n",
      "0.35\n",
      "0.4\n",
      "lower_secondary\n",
      "0.05\n",
      "0.1\n",
      "0.15\n",
      "0.2\n",
      "0.25\n",
      "0.3\n",
      "0.35\n",
      "0.4\n",
      "lower_secondary_dc\n",
      "0.05\n",
      "0.1\n",
      "0.15\n",
      "0.2\n",
      "0.25\n",
      "0.3\n",
      "0.35\n",
      "0.4\n",
      "upper_secondary\n",
      "0.05\n",
      "0.1\n",
      "0.15\n",
      "0.2\n",
      "0.25\n",
      "0.3\n",
      "0.35\n",
      "0.4\n",
      "secondary\n",
      "0.05\n",
      "0.1\n",
      "0.15\n",
      "0.2\n",
      "0.25\n",
      "0.3\n",
      "0.35\n",
      "0.4\n"
     ]
    }
   ],
   "source": [
    "dst = '../data/school/representative_schools_added_friend_contacts'\n",
    "# in principle there is functionality in place to generate contacts\n",
    "# between students in different classes, depending on the floor the\n",
    "# classes are on. We currently don't use this functionality, as \n",
    "# schools all implement measures to keep between-class-contacts to\n",
    "# a minimum- Therefore floor specifications are not important for our\n",
    "# school layout and we just assume that all classes are on the same\n",
    "# floor.\n",
    "N_floors = 1\n",
    "half = True\n",
    "\n",
    "school_types = ['primary', 'primary_dc', 'lower_secondary','lower_secondary_dc',\n",
    "                'upper_secondary', 'secondary']\n",
    "\n",
    "for school_type in school_types:\n",
    "    print(school_type)\n",
    "    \n",
    "    for friends_ratio in [0.05, 0.1, 0.15, 0.2, 0.25, 0.3, 0.35, 0.4]:\n",
    "        print(friends_ratio)\n",
    "        N_classes = school_characteristics[school_type]['classes']\n",
    "        class_size = school_characteristics[school_type]['students']\n",
    "        school_name = '{}_classes-{}_students-{}'.format(school_type,\\\n",
    "            N_classes, class_size)\n",
    "\n",
    "        # generate the contact graph given all the information about the\n",
    "        # school layout, household characteristics and contact character-\n",
    "        # istics of teachers\n",
    "        G, teacher_schedule, student_schedule = csn.compose_school_graph(\\\n",
    "                school_type, N_classes, class_size, N_floors, p_children,\n",
    "                p_parents, teacher_p_adults, teacher_p_children, \n",
    "                r_teacher_conversation, r_teacher_friend)\n",
    "\n",
    "        csn.add_between_class_contacts(friends_ratio, class_size, N_classes, G)\n",
    "        \n",
    "        # map the link types to contact types\n",
    "        csn.map_contacts(G, contact_map)\n",
    "        # for the interactive visualization, we also need a list of all\n",
    "        # agents (nodes) in the contact graph and their attributes\n",
    "        node_list = csn.get_node_list(G)\n",
    "        node_list.to_csv(join(dst,'{}_node_list.csv'.format(school_name)),\n",
    "                              index=False)\n",
    "\n",
    "        # save the graph\n",
    "        nx.readwrite.gpickle.write_gpickle(G, \\\n",
    "            join(dst,'{}_friends-{}_network.bz2'\\\n",
    "                 .format(school_name, friends_ratio)), protocol=4)\n",
    "\n",
    "        # for the interactive visualization, we also need the respective\n",
    "        # schedules of students and teachers for teaching days (i.e. non-\n",
    "        # weekends)\n",
    "        for schedule, agent_type in zip([teacher_schedule, student_schedule],\n",
    "                                        ['teachers', 'students']):\n",
    "            schedule.to_csv(join(dst,'{}_schedule_friends-{}_{}.csv'\n",
    "                    .format(school_name, friends_ratio, agent_type)))\n",
    "        \n",
    "        if half:\n",
    "            # if classes are halved as a prevention measure (i.e. only half the\n",
    "            # students of a class come to school on any given day and the halves\n",
    "            # alternate every day), we need to modify the edges in the contact\n",
    "            # graph accordingly.\n",
    "            csn.make_half_classes(class_size, N_classes, G, student_schedule)\n",
    "            nx.readwrite.gpickle.write_gpickle(G, \\\n",
    "                join(dst,'{}_friends-{}_network_half.bz2'\\\n",
    "                        .format(school_name, friends_ratio)), protocol=4)\n",
    "            for schedule, agent_type in zip([teacher_schedule, student_schedule],\n",
    "                                        ['teachers', 'students']):\n",
    "                schedule.to_csv(join(dst,'{}_schedule_friends-{}_{}_half.csv'\n",
    "                        .format(school_name, friends_ratio, agent_type)))"
   ]
  },
  {
   "cell_type": "code",
   "execution_count": null,
   "metadata": {},
   "outputs": [],
   "source": []
  }
 ],
 "metadata": {
  "kernelspec": {
   "display_name": "Python 3",
   "language": "python",
   "name": "python3"
  },
  "language_info": {
   "codemirror_mode": {
    "name": "ipython",
    "version": 3
   },
   "file_extension": ".py",
   "mimetype": "text/x-python",
   "name": "python",
   "nbconvert_exporter": "python",
   "pygments_lexer": "ipython3",
   "version": "3.8.2"
  }
 },
 "nbformat": 4,
 "nbformat_minor": 4
}
