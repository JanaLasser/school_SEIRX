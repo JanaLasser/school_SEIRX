{
 "cells": [
  {
   "cell_type": "markdown",
   "metadata": {},
   "source": [
    "# SEIRX model runs for prevention measures investigation in schools"
   ]
  },
  {
   "cell_type": "code",
   "execution_count": null,
   "metadata": {},
   "outputs": [],
   "source": [
    "import networkx as nx\n",
    "import pandas as pd\n",
    "import numpy as np\n",
    "from os.path import join\n",
    "import os\n",
    "import shutil\n",
    "import json\n",
    "\n",
    "from scseirx.model_school import SEIRX_school\n",
    "from scseirx import analysis_functions as af\n",
    "from scseirx import construct_school_network as csn\n",
    "\n",
    "import data_creation_functions as dcf\n",
    "\n",
    "# for progress bars\n",
    "from ipywidgets import IntProgress\n",
    "from IPython.display import display\n",
    "import time"
   ]
  },
  {
   "cell_type": "markdown",
   "metadata": {},
   "source": [
    "## Simulation settings"
   ]
  },
  {
   "cell_type": "code",
   "execution_count": null,
   "metadata": {},
   "outputs": [],
   "source": [
    "# baseic prevention measures in place. Additional measures will be added\n",
    "# throughout the measure screening simulations\n",
    "with open('params/intervention_screening_measures.json', 'r') as fp:\n",
    "    measures = json.load(fp)\n",
    "# simulation parameters, specifically the\n",
    "# - base transmission risk (calibrated from household transmissions)\n",
    "# - subclinical transmission modifier (literature value)\n",
    "# - exposure duration, time until symtpoms and infection duration (lit. values)\n",
    "# - age symptom discount (fit to empirical observations)\n",
    "# - age transmission discount (from the calibration)\n",
    "# - weights of transmission risks for intermediate & far contacts (calibration)\n",
    "with open('params/intervention_screening_simulation_parameters.json', 'r') as fp:\n",
    "    simulation_params = json.load(fp)\n",
    "# characteristics (# classes, # students / class, # teachers) of the \"average\" \n",
    "# school, depending on school type. These characteristics were determined in \n",
    "# interviews with Austrian teachers and from statistics about Austrian schools \n",
    "# (year 2017/18, page 10: https://www.bmbwf.gv.at/Themen/schule/schulsystem/gd.html)\n",
    "# NOTE: \"students\" indicates the number of students per class\n",
    "with open('params/intervention_screening_school_characteristics.json', 'r') as fp:\n",
    "    school_characteristics = json.load(fp)"
   ]
  },
  {
   "cell_type": "markdown",
   "metadata": {},
   "source": [
    "## Screening parameters"
   ]
  },
  {
   "cell_type": "code",
   "execution_count": null,
   "metadata": {},
   "outputs": [],
   "source": [
    "## parameter ranges \n",
    "# specifies whether the index case will be introduced via an\n",
    "# employee or a resident\n",
    "index_cases = ['student', 'teacher']\n",
    "# test technologies (and test result turnover times) used in the\n",
    "# different scenarios\n",
    "test_types = ['same_day_antigen']\n",
    "# student and teacher streening intervals (in days)\n",
    "s_screen_range = [None, 3, 7]\n",
    "t_screen_range = [None, 3, 7]\n",
    "# specifies whether teachers wear masks\n",
    "student_masks = [True, False]\n",
    "teacher_masks = [True, False]\n",
    "half_classes = [True, False]\n",
    "# specifies whether there is ventilation or not\n",
    "transmission_risk_ventilation_modifiers = [1, 0.36]\n",
    "\n",
    "params = [(i, j, k, l, m, n, o, p)\\\n",
    "              for i in index_cases \\\n",
    "              for j in test_types \\\n",
    "              for k in s_screen_range \\\n",
    "              for l in t_screen_range \\\n",
    "              for m in student_masks \\\n",
    "              for n in teacher_masks \\\n",
    "              for o in half_classes \\\n",
    "              for p in transmission_risk_ventilation_modifiers]\n",
    "\n",
    "N_configs = len(params)\n",
    "print('there are {} different parameter combinations'.format(N_configs))"
   ]
  },
  {
   "cell_type": "markdown",
   "metadata": {},
   "source": [
    "## Run simulations"
   ]
  },
  {
   "cell_type": "code",
   "execution_count": null,
   "metadata": {},
   "outputs": [],
   "source": [
    "# paths for data I/O\n",
    "contact_network_src = '../../data/contact_networks/representative_schools'\n",
    "dst = '../../data/intervention_measures/simulation_results'"
   ]
  },
  {
   "cell_type": "code",
   "execution_count": null,
   "metadata": {},
   "outputs": [],
   "source": [
    "school_types = ['primary', 'primary_dc', 'lower_secondary',\n",
    "                'lower_secondary_dc', 'upper_secondary', 'secondary']\n",
    "\n",
    "# number of runs per ensemble\n",
    "# Note: this is set to 1 for testing purposes. To get properly converged \n",
    "# statistics, this has to be >= 500. Running such a high number of simulations\n",
    "# will take a long time if run on just a single core. Therefore I strongly\n",
    "# recommend to run the below code on several cores at once. It is easy to\n",
    "# parallelize as each ensemble can be run on a different core and there are\n",
    "# no interdependencies between ensembles. Results can be collected afterwards\n",
    "# and evaulated together.\n",
    "N_runs = 1\n",
    "\n",
    "# progress bar\n",
    "f = IntProgress(min=0, max=len(school_types) * len(params)) \n",
    "display(f)\n",
    "c = 0\n",
    "\n",
    "results = pd.DataFrame()\n",
    "for school_type in school_types:\n",
    "    try:\n",
    "        os.mkdir(join(dst, school_type))\n",
    "    except FileExistsError:\n",
    "        pass\n",
    "\n",
    "    for p in params:\n",
    "        # get the parameter values\n",
    "        index_case, ttype, s_screen_interval, t_screen_interval, student_mask, \\\n",
    "                teacher_mask, half_classes, ventilation_mod = p\n",
    "        \n",
    "        # run the ensemble with the given parameter combination and school type\n",
    "        ensemble_results = dcf.run_ensemble(N_runs, school_type, measures,\\\n",
    "                simulation_params, school_characteristics, contact_network_src,\\\n",
    "                dst, index_case, ttype, s_screen_interval, t_screen_interval,\\\n",
    "                student_mask, teacher_mask, half_classes, ventilation_mod)\n"
   ]
  },
  {
   "cell_type": "markdown",
   "metadata": {},
   "source": [
    "## Aggregate results"
   ]
  },
  {
   "cell_type": "code",
   "execution_count": null,
   "metadata": {
    "tags": []
   },
   "outputs": [],
   "source": [
    "src_path = '../../data/intervention_measures/simulation_results'\n",
    "for stype in ['primary', 'primary_dc', 'lower_secondary','lower_secondary_dc', \n",
    "              'upper_secondary', 'secondary']:\n",
    "    print(stype)\n",
    "    data = dcf.get_data(stype, src_path)\n",
    "    data['measure'] = np.nan\n",
    "    dcf.set_individual_measures(data)\n",
    "    dcf.set_measure_packages(data)\n",
    "    data.to_csv(join(src_path, '{}_combined_ensembles.csv'.format(stype)), index=False)"
   ]
  }
 ],
 "metadata": {
  "kernelspec": {
   "display_name": "Python 3",
   "language": "python",
   "name": "python3"
  },
  "language_info": {
   "codemirror_mode": {
    "name": "ipython",
    "version": 3
   },
   "file_extension": ".py",
   "mimetype": "text/x-python",
   "name": "python",
   "nbconvert_exporter": "python",
   "pygments_lexer": "ipython3",
   "version": "3.8.8"
  }
 },
 "nbformat": 4,
 "nbformat_minor": 4
}
